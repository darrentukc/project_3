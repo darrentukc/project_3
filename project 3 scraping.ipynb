{
 "cells": [
  {
   "cell_type": "code",
   "execution_count": 1,
   "id": "cabc5448",
   "metadata": {},
   "outputs": [],
   "source": [
    "import pandas as pd\n",
    "import requests\n",
    "import numpy as np\n",
    "import time"
   ]
  },
  {
   "cell_type": "code",
   "execution_count": 2,
   "id": "aa6efb7b",
   "metadata": {},
   "outputs": [],
   "source": [
    "start = time.time()"
   ]
  },
  {
   "cell_type": "code",
   "execution_count": 3,
   "id": "0a20850f",
   "metadata": {},
   "outputs": [],
   "source": [
    "url = 'https://api.pushshift.io/reddit/search/submission'"
   ]
  },
  {
   "cell_type": "code",
   "execution_count": 4,
   "id": "5606668f",
   "metadata": {},
   "outputs": [],
   "source": [
    "params = {\n",
    "    'subreddit': 'space',\n",
    "    'size': 100\n",
    "}"
   ]
  },
  {
   "cell_type": "code",
   "execution_count": 5,
   "id": "389231ca",
   "metadata": {},
   "outputs": [],
   "source": [
    "res = requests.get(url,params)"
   ]
  },
  {
   "cell_type": "code",
   "execution_count": 6,
   "id": "734a2561",
   "metadata": {},
   "outputs": [
    {
     "data": {
      "text/plain": [
       "200"
      ]
     },
     "execution_count": 6,
     "metadata": {},
     "output_type": "execute_result"
    }
   ],
   "source": [
    "res.status_code"
   ]
  },
  {
   "cell_type": "code",
   "execution_count": 7,
   "id": "e9e49fe8",
   "metadata": {},
   "outputs": [],
   "source": [
    "data = res.json()\n",
    "postsdf  = pd.DataFrame(data['data'])\n",
    "start_time = 1640908800 # fixed date and time to start scrapping"
   ]
  },
  {
   "cell_type": "code",
   "execution_count": 8,
   "id": "f83fdb38",
   "metadata": {},
   "outputs": [
    {
     "name": "stdout",
     "output_type": "stream",
     "text": [
      "Wall time: 9min 55s\n"
     ]
    }
   ],
   "source": [
    "%%time\n",
    "# scraping 4500 rows of space data to space folder\n",
    "current_time = start_time # set date to scrape using fixed date and time\n",
    "for i in range(1,46):\n",
    "    url = 'https://api.pushshift.io/reddit/search/submission'\n",
    "    params = {\n",
    "        'subreddit': 'space',\n",
    "        'size': 100,\n",
    "        'before': current_time\n",
    "    }\n",
    "    res = requests.get(url, params)\n",
    "    data = res.json()\n",
    "    postsdf = postsdf.append(pd.DataFrame(data['data']))\n",
    "    current_time = postsdf['created_utc'].iloc[-1]\n",
    "    time.sleep(3)\n",
    "    "
   ]
  },
  {
   "cell_type": "code",
   "execution_count": 9,
   "id": "8ef9ec35",
   "metadata": {},
   "outputs": [],
   "source": [
    "postsdf.to_csv('./data/space.csv')"
   ]
  },
  {
   "cell_type": "code",
   "execution_count": 10,
   "id": "c6e5501d",
   "metadata": {},
   "outputs": [],
   "source": [
    "url = 'https://api.pushshift.io/reddit/search/submission'\n",
    "params = {\n",
    "    'subreddit': 'aliens',\n",
    "    'size': 100,\n",
    "}\n",
    "res = requests.get(url,params)\n",
    "data=res.json()\n",
    "postsdf=pd.DataFrame(data['data'])"
   ]
  },
  {
   "cell_type": "code",
   "execution_count": 11,
   "id": "a6113044",
   "metadata": {},
   "outputs": [
    {
     "name": "stdout",
     "output_type": "stream",
     "text": [
      "Wall time: 5min 52s\n"
     ]
    }
   ],
   "source": [
    "%%time\n",
    "# scraping 2300 rows of alien data to alien folder\n",
    "current_time = start_time # set date to scrape using fixed date and time\n",
    "for i in range(1,24):\n",
    "    url = 'https://api.pushshift.io/reddit/search/submission'\n",
    "    params = {\n",
    "        'subreddit': 'aliens',\n",
    "        'size': 100,\n",
    "        'before': current_time\n",
    "    }\n",
    "    res = requests.get(url, params)\n",
    "    data = res.json()\n",
    "    postsdf = postsdf.append(pd.DataFrame(data['data']))\n",
    "    current_time = postsdf['created_utc'].iloc[-1]\n",
    "    time.sleep(3)"
   ]
  },
  {
   "cell_type": "code",
   "execution_count": 12,
   "id": "8d690ec9",
   "metadata": {},
   "outputs": [],
   "source": [
    "postsdf.to_csv('./data/aliens.csv')"
   ]
  },
  {
   "cell_type": "code",
   "execution_count": 13,
   "id": "95b4351b",
   "metadata": {},
   "outputs": [
    {
     "name": "stdout",
     "output_type": "stream",
     "text": [
      "960.6536333560944\n"
     ]
    }
   ],
   "source": [
    "end = time.time()\n",
    "print(end - start)"
   ]
  }
 ],
 "metadata": {
  "kernelspec": {
   "display_name": "Python 3 (ipykernel)",
   "language": "python",
   "name": "python3"
  },
  "language_info": {
   "codemirror_mode": {
    "name": "ipython",
    "version": 3
   },
   "file_extension": ".py",
   "mimetype": "text/x-python",
   "name": "python",
   "nbconvert_exporter": "python",
   "pygments_lexer": "ipython3",
   "version": "3.9.10"
  }
 },
 "nbformat": 4,
 "nbformat_minor": 5
}
