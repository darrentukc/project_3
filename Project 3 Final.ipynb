{
 "cells": [
  {
   "cell_type": "markdown",
   "id": "bc2ffd6c",
   "metadata": {},
   "source": [
    "<img src=\"http://imgur.com/1ZcRyrc.png\" style=\"float: left; margin: 20px; height: 55px\">\n",
    "\n",
    "# Project 3 - Classify Posts from Reddit"
   ]
  },
  {
   "cell_type": "markdown",
   "id": "9990a116",
   "metadata": {},
   "source": [
    "# Background"
   ]
  },
  {
   "cell_type": "markdown",
   "id": "38af441f",
   "metadata": {},
   "source": [
    "Reddit is a very large and popular forum, with users across different countries and topics one can not even think of. There are many subreddits, which are communities for like minded people to post and share knowledge and information. Among these subreddits are 'aliens' and 'space'."
   ]
  },
  {
   "cell_type": "markdown",
   "id": "788889e3",
   "metadata": {},
   "source": [
    "## Problem Statement"
   ]
  },
  {
   "cell_type": "markdown",
   "id": "ef12bcfd",
   "metadata": {},
   "source": [
    "Men In Black (MIB) is a secret association that researches & monitors the sentiment of people on aliens, whether conspiracies that are made are a little too close to things that the people should not know about. Think area 51 and the roswell incident. But, nothing is fullproof. Things get leaked out anyway. They are usually leaked to r/aliens and r/space.  Instead of completely shutting down reddit, having a subreddit like aliens would be useful for MIB to monitor what people are talking about. They they are requesting us, the Reddit Data Science team to create a model to classify reddit posts and identify the key words that differentiates the post from \"Aliens\" to \"Space\". <br><br>\n",
    "\n",
    "This will not only filter out posts from r/space that should belong to r/aliens, it will also facilitate MIB's intelligence collection efforts about sentiments from ordinary citizens. This information can also be useful for other associations to promote its marketing effort on social media, events and podcasts, that in turn can feed information to the mainstream."
   ]
  },
  {
   "cell_type": "markdown",
   "id": "89f155f8",
   "metadata": {},
   "source": [
    "#### Goal of project "
   ]
  },
  {
   "cell_type": "markdown",
   "id": "2b00cf96",
   "metadata": {},
   "source": [
    "Using data beginning from 1 Jan 2022 0000hrs, we will train a few models that can classify posts to 'Aliens' or 'Space' subreddit, and get important words from the model that classifies which subreddit the post belongs to. We will select the best performing model and tune it for better accuracy."
   ]
  },
  {
   "cell_type": "markdown",
   "id": "6ba610f7",
   "metadata": {},
   "source": [
    "#### Models to be developed "
   ]
  },
  {
   "cell_type": "markdown",
   "id": "1eba5540",
   "metadata": {},
   "source": [
    "Three classification models, Naive Bayes, Logistic Regression and Random Forest will be developed to assist with the problem statement, with logistic regression being the most whitebox among the 3. Along with these classifiers, Count Vectorizer and Tfidf Vectorizer will be used."
   ]
  },
  {
   "cell_type": "markdown",
   "id": "bb49687b",
   "metadata": {},
   "source": [
    "#### Success Evaluation"
   ]
  },
  {
   "cell_type": "markdown",
   "id": "d72c7e9c",
   "metadata": {},
   "source": [
    "The success of the model will be assessed based on its F1 score on unseen test data. Accuracy and F1-score will be our main metrics to evaluate model performance and we would like to minimze it ideally. We should also be able to interpret feature importance from the model to identify key words the key words that seperates the 2 subreddits."
   ]
  },
  {
   "cell_type": "markdown",
   "id": "f3710c46",
   "metadata": {},
   "source": [
    "#### Target Audience"
   ]
  },
  {
   "cell_type": "markdown",
   "id": "bf257174",
   "metadata": {},
   "source": [
    "This model will facilitate MIB's intelligence collection efforts on sentiments of people on extra terrestrial topics by predicting whether a post belongs to aliens or space. While doing so, important words that impact the decision making of the model can be listed out to be used by other departments to increase the efficiency of marketing on social media and any future events."
   ]
  },
  {
   "cell_type": "markdown",
   "id": "db1ff664",
   "metadata": {},
   "source": [
    "## Contents:"
   ]
  },
  {
   "cell_type": "markdown",
   "id": "0a9e9237",
   "metadata": {},
   "source": [
    "1. [Datasets Used](#1.-Datasets-Used:)\n",
    "2. [Data Dictionary](#2.-Data-Dictionary:)\n",
    "3. [Importing Data](#3.-Importing-Data)\n",
    "4. [Combine Dataframes](#4.-Combine-dataframes)\n",
    "5. [Feature Engineering](#5.-Feature-Engineering)\n",
    "6. [EDA](#6.-EDA)\n",
    "7. [Cleaning](#7.-Cleaning)\n",
    "8. [Modeling](#8.-Modeling)\n",
    "9. [Scoring and Evaluating Models](#9.-Scoring-Models)\n",
    "10. [Choice of Production Model](#10.-Choice-of-Production-Model:-Logistic-Regression-with-Tfidf-Vectorizer.)\n",
    "11. [Conclusion](#11.-Conclusion)"
   ]
  },
  {
   "cell_type": "markdown",
   "id": "747cec26",
   "metadata": {},
   "source": [
    "### 1. Datasets Used:"
   ]
  },
  {
   "cell_type": "markdown",
   "id": "3aa5682f",
   "metadata": {},
   "source": [
    "The following datasets were used for this project:\n",
    "- alien.csv\n",
    "- space.csv"
   ]
  },
  {
   "cell_type": "markdown",
   "id": "d7115b9f",
   "metadata": {},
   "source": [
    "### 2. Data Dictionary:"
   ]
  },
  {
   "cell_type": "markdown",
   "id": "5c0c0a77",
   "metadata": {},
   "source": [
    "The below is a data dictionary containing all of the data features used for training our models, type and its description"
   ]
  },
  {
   "cell_type": "markdown",
   "id": "e44fca24",
   "metadata": {},
   "source": [
    "|Feature|Type|Description|\n",
    "|---|---|---|\n",
    "|**title**|*object*|Title of the post.| <br>\n",
    "|**selftext**|*object*|Content of the post.| <br>\n",
    "|**aliens**|*int64*|Subreddit post belongs to, 1 for 'aliens', 0 for 'space.| <br>\n",
    "|**post_length**|*int64*|Length of post.| <br>\n",
    "|**title_length**|*int64*|Length of title.| <br>\n",
    "|**combined**|*object*|title + selftext.| <br>"
   ]
  },
  {
   "cell_type": "markdown",
   "id": "5508f9b5",
   "metadata": {},
   "source": [
    "### 3. Importing Data"
   ]
  },
  {
   "cell_type": "code",
   "execution_count": 1,
   "id": "6054f6df",
   "metadata": {},
   "outputs": [],
   "source": [
    "import pandas as pd\n",
    "import numpy as np\n",
    "import matplotlib.pyplot as plt\n",
    "import seaborn as sns\n",
    "\n",
    "from sklearn.model_selection import train_test_split, cross_val_score\n",
    "from sklearn.feature_extraction.text import TfidfVectorizer, CountVectorizer\n",
    "from sklearn.naive_bayes import MultinomialNB\n",
    "from sklearn.pipeline import Pipeline\n",
    "from sklearn.model_selection import GridSearchCV\n",
    "from sklearn.metrics import confusion_matrix, plot_confusion_matrix, accuracy_score, f1_score, ConfusionMatrixDisplay, classification_report, precision_score, recall_score, plot_roc_curve, roc_auc_score\n",
    "from sklearn import metrics\n",
    "from sklearn.ensemble import RandomForestClassifier\n",
    "from sklearn.linear_model import LogisticRegression\n",
    "# from catboost import CatBoostClassifier\n",
    "from nltk.stem import WordNetLemmatizer, PorterStemmer\n",
    "# from bs4 import BeautifulSoup\n",
    "from nltk.corpus import stopwords\n",
    "# import eli5\n",
    "import redditcleaner\n",
    "import demoji\n",
    "import re\n",
    "# import pylab as pl\n",
    "\n",
    "#ignore all warnings\n",
    "import warnings\n",
    "warnings.filterwarnings(\"ignore\")"
   ]
  },
  {
   "cell_type": "code",
   "execution_count": 2,
   "id": "8bc82681",
   "metadata": {},
   "outputs": [],
   "source": [
    "# function to replace emoji from post\n",
    "\n",
    "def remove_emoji(post):\n",
    "    dem = demoji.findall(post)\n",
    "    for item in dem.keys():\n",
    "        post = post.replace(item, '')\n",
    "    return post"
   ]
  },
  {
   "cell_type": "code",
   "execution_count": 3,
   "id": "e1c46e4f",
   "metadata": {},
   "outputs": [],
   "source": [
    "# function to remove emoji\n",
    "\n",
    "def return_eng_char(x):\n",
    "    return re.sub('[^a-zA-Z]', ' ', x)\n",
    "    "
   ]
  },
  {
   "cell_type": "code",
   "execution_count": 4,
   "id": "93777a12",
   "metadata": {},
   "outputs": [],
   "source": [
    "# function to remove ~eng char and lemmatize post\n",
    "\n",
    "def process_text(dataframe_text):\n",
    "    \n",
    "    #loop through each row\n",
    "    string_list = dataframe_text.split()\n",
    "\n",
    "#     # instantiate porterstemmer\n",
    "#     ps = PorterStemmer()\n",
    "#     processed_words = [ps.stem(word) for word in string_list if word not in stopwords]\n",
    "    \n",
    "    #instantiate lemmatizer and lemmatize\n",
    "    lemma = WordNetLemmatizer()\n",
    "    processed_words = [lemma.lemmatize(word) for word in string_list if word not in stopwords]\n",
    "    \n",
    "    #join words for each row\n",
    "    joined_words = (' '.join(processed_words))\n",
    "        \n",
    "    return joined_words\n"
   ]
  },
  {
   "cell_type": "code",
   "execution_count": 5,
   "id": "2521bca3",
   "metadata": {},
   "outputs": [],
   "source": [
    "#function to check whether there is any non ascii char in string\n",
    "\n",
    "def english_check(x):\n",
    "    for word in x:\n",
    "        for char in word:\n",
    "            if char.isascii() == False:\n",
    "                print('False')\n",
    "                print(x)\n",
    "                break"
   ]
  },
  {
   "cell_type": "code",
   "execution_count": 6,
   "id": "8a4aa88c",
   "metadata": {},
   "outputs": [],
   "source": [
    "# function to print sentence if non eng char detected\n",
    "\n",
    "def english_check(x):\n",
    "    for sentence in x:\n",
    "        if sentence.isascii() == False:\n",
    "            print(sentence)\n",
    "            break"
   ]
  },
  {
   "cell_type": "code",
   "execution_count": 7,
   "id": "70a1462e",
   "metadata": {},
   "outputs": [],
   "source": [
    "# function to add scores to dataframe\n",
    "\n",
    "def add_score(vec, model, X_training, X_testing, y_training, y_testing):\n",
    "\n",
    "    vectorizer = (str(vec).split('(')[0])\n",
    "    classifier = (str(model).split('(')[0])\n",
    "\n",
    "    score_card = [vectorizer, classifier]\n",
    "\n",
    "    score_card.append(model.score(X_training, y_training))\n",
    "    score_card.append(model.score(X_testing, y_testing))\n",
    "    score_card.append((model.score(X_training, y_training) - model.score(X_testing, y_testing)))\n",
    "\n",
    "    y_pred = model.predict(X_testing)\n",
    "\n",
    "    score_card.append(precision_score(y_testing, y_pred))\n",
    "    score_card.append(recall_score(y_testing, y_pred))\n",
    "    score_card.append(accuracy_score(y_testing, y_pred))\n",
    "    score_card.append(f1_score(y_testing, y_pred))\n",
    "\n",
    "    df_score.loc[len(df_score)] = score_card\n",
    "    df_score\n"
   ]
  },
  {
   "cell_type": "markdown",
   "id": "06a56703",
   "metadata": {},
   "source": [
    "Importing Space data"
   ]
  },
  {
   "cell_type": "code",
   "execution_count": 8,
   "id": "bfc5d2ea",
   "metadata": {},
   "outputs": [
    {
     "data": {
      "text/plain": [
       "(4598, 84)"
      ]
     },
     "execution_count": 8,
     "metadata": {},
     "output_type": "execute_result"
    }
   ],
   "source": [
    "space_df = pd.read_csv('./data/space.csv')\n",
    "space_df.shape"
   ]
  },
  {
   "cell_type": "markdown",
   "id": "7dd20e9d",
   "metadata": {},
   "source": [
    "Importing Aliens data"
   ]
  },
  {
   "cell_type": "code",
   "execution_count": 9,
   "id": "3cbc854f",
   "metadata": {},
   "outputs": [
    {
     "data": {
      "text/plain": [
       "(2400, 83)"
      ]
     },
     "execution_count": 9,
     "metadata": {},
     "output_type": "execute_result"
    }
   ],
   "source": [
    "alien_df = pd.read_csv('./data/aliens.csv')\n",
    "alien_df.shape"
   ]
  },
  {
   "cell_type": "code",
   "execution_count": 10,
   "id": "15478c15",
   "metadata": {},
   "outputs": [
    {
     "name": "stdout",
     "output_type": "stream",
     "text": [
      "<class 'pandas.core.frame.DataFrame'>\n",
      "RangeIndex: 4598 entries, 0 to 4597\n",
      "Data columns (total 84 columns):\n",
      " #   Column                         Non-Null Count  Dtype  \n",
      "---  ------                         --------------  -----  \n",
      " 0   Unnamed: 0                     4598 non-null   int64  \n",
      " 1   all_awardings                  4598 non-null   object \n",
      " 2   allow_live_comments            4598 non-null   bool   \n",
      " 3   author                         4598 non-null   object \n",
      " 4   author_flair_css_class         0 non-null      float64\n",
      " 5   author_flair_richtext          4550 non-null   object \n",
      " 6   author_flair_text              1 non-null      object \n",
      " 7   author_flair_type              4550 non-null   object \n",
      " 8   author_fullname                4550 non-null   object \n",
      " 9   author_is_blocked              4598 non-null   bool   \n",
      " 10  author_patreon_flair           4550 non-null   object \n",
      " 11  author_premium                 4550 non-null   object \n",
      " 12  awarders                       4598 non-null   object \n",
      " 13  can_mod_post                   4598 non-null   bool   \n",
      " 14  contest_mode                   4598 non-null   bool   \n",
      " 15  created_utc                    4598 non-null   int64  \n",
      " 16  domain                         4598 non-null   object \n",
      " 17  full_link                      4598 non-null   object \n",
      " 18  gildings                       4598 non-null   object \n",
      " 19  id                             4598 non-null   object \n",
      " 20  is_created_from_ads_ui         4598 non-null   bool   \n",
      " 21  is_crosspostable               4598 non-null   bool   \n",
      " 22  is_meta                        4598 non-null   bool   \n",
      " 23  is_original_content            4598 non-null   bool   \n",
      " 24  is_reddit_media_domain         4598 non-null   bool   \n",
      " 25  is_robot_indexable             4598 non-null   bool   \n",
      " 26  is_self                        4598 non-null   bool   \n",
      " 27  is_video                       4598 non-null   bool   \n",
      " 28  link_flair_background_color    0 non-null      float64\n",
      " 29  link_flair_richtext            4598 non-null   object \n",
      " 30  link_flair_text_color          4598 non-null   object \n",
      " 31  link_flair_type                4598 non-null   object \n",
      " 32  locked                         4598 non-null   bool   \n",
      " 33  media_only                     4598 non-null   bool   \n",
      " 34  no_follow                      4598 non-null   bool   \n",
      " 35  num_comments                   4598 non-null   int64  \n",
      " 36  num_crossposts                 4598 non-null   int64  \n",
      " 37  over_18                        4598 non-null   bool   \n",
      " 38  parent_whitelist_status        4598 non-null   object \n",
      " 39  permalink                      4598 non-null   object \n",
      " 40  pinned                         4598 non-null   bool   \n",
      " 41  post_hint                      3010 non-null   object \n",
      " 42  preview                        3010 non-null   object \n",
      " 43  pwls                           4598 non-null   int64  \n",
      " 44  retrieved_on                   4598 non-null   int64  \n",
      " 45  score                          4598 non-null   int64  \n",
      " 46  selftext                       1234 non-null   object \n",
      " 47  send_replies                   4598 non-null   bool   \n",
      " 48  spoiler                        4598 non-null   bool   \n",
      " 49  stickied                       4598 non-null   bool   \n",
      " 50  subreddit                      4598 non-null   object \n",
      " 51  subreddit_id                   4598 non-null   object \n",
      " 52  subreddit_subscribers          4598 non-null   int64  \n",
      " 53  subreddit_type                 4598 non-null   object \n",
      " 54  thumbnail                      4598 non-null   object \n",
      " 55  thumbnail_height               3043 non-null   float64\n",
      " 56  thumbnail_width                3043 non-null   float64\n",
      " 57  title                          4598 non-null   object \n",
      " 58  total_awards_received          4598 non-null   int64  \n",
      " 59  treatment_tags                 4598 non-null   object \n",
      " 60  upvote_ratio                   4598 non-null   float64\n",
      " 61  url                            4598 non-null   object \n",
      " 62  url_overridden_by_dest         3215 non-null   object \n",
      " 63  whitelist_status               4598 non-null   object \n",
      " 64  wls                            4598 non-null   int64  \n",
      " 65  removed_by_category            1073 non-null   object \n",
      " 66  gallery_data                   170 non-null    object \n",
      " 67  is_gallery                     187 non-null    object \n",
      " 68  media_metadata                 200 non-null    object \n",
      " 69  link_flair_css_class           1899 non-null   object \n",
      " 70  link_flair_text                1902 non-null   object \n",
      " 71  media                          507 non-null    object \n",
      " 72  media_embed                    506 non-null    object \n",
      " 73  secure_media                   507 non-null    object \n",
      " 74  secure_media_embed             506 non-null    object \n",
      " 75  author_cakeday                 16 non-null     object \n",
      " 76  author_flair_background_color  0 non-null      float64\n",
      " 77  author_flair_text_color        49 non-null     object \n",
      " 78  suggested_sort                 7 non-null      object \n",
      " 79  link_flair_template_id         6 non-null      object \n",
      " 80  edited                         8 non-null      float64\n",
      " 81  banned_by                      5 non-null      object \n",
      " 82  crosspost_parent               1 non-null      object \n",
      " 83  crosspost_parent_list          1 non-null      object \n",
      "dtypes: bool(20), float64(7), int64(10), object(47)\n",
      "memory usage: 2.3+ MB\n"
     ]
    }
   ],
   "source": [
    "space_df.info()"
   ]
  },
  {
   "cell_type": "code",
   "execution_count": 11,
   "id": "059145ab",
   "metadata": {},
   "outputs": [
    {
     "data": {
      "text/html": [
       "<div>\n",
       "<style scoped>\n",
       "    .dataframe tbody tr th:only-of-type {\n",
       "        vertical-align: middle;\n",
       "    }\n",
       "\n",
       "    .dataframe tbody tr th {\n",
       "        vertical-align: top;\n",
       "    }\n",
       "\n",
       "    .dataframe thead th {\n",
       "        text-align: right;\n",
       "    }\n",
       "</style>\n",
       "<table border=\"1\" class=\"dataframe\">\n",
       "  <thead>\n",
       "    <tr style=\"text-align: right;\">\n",
       "      <th></th>\n",
       "      <th>Unnamed: 0</th>\n",
       "      <th>all_awardings</th>\n",
       "      <th>allow_live_comments</th>\n",
       "      <th>author</th>\n",
       "      <th>author_flair_css_class</th>\n",
       "      <th>author_flair_richtext</th>\n",
       "      <th>author_flair_text</th>\n",
       "      <th>author_flair_type</th>\n",
       "      <th>author_fullname</th>\n",
       "      <th>author_is_blocked</th>\n",
       "      <th>...</th>\n",
       "      <th>secure_media_embed</th>\n",
       "      <th>author_cakeday</th>\n",
       "      <th>author_flair_background_color</th>\n",
       "      <th>author_flair_text_color</th>\n",
       "      <th>suggested_sort</th>\n",
       "      <th>link_flair_template_id</th>\n",
       "      <th>edited</th>\n",
       "      <th>banned_by</th>\n",
       "      <th>crosspost_parent</th>\n",
       "      <th>crosspost_parent_list</th>\n",
       "    </tr>\n",
       "  </thead>\n",
       "  <tbody>\n",
       "    <tr>\n",
       "      <th>0</th>\n",
       "      <td>0</td>\n",
       "      <td>[]</td>\n",
       "      <td>False</td>\n",
       "      <td>gatfish</td>\n",
       "      <td>NaN</td>\n",
       "      <td>[]</td>\n",
       "      <td>NaN</td>\n",
       "      <td>text</td>\n",
       "      <td>t2_3e07z</td>\n",
       "      <td>False</td>\n",
       "      <td>...</td>\n",
       "      <td>NaN</td>\n",
       "      <td>NaN</td>\n",
       "      <td>NaN</td>\n",
       "      <td>NaN</td>\n",
       "      <td>NaN</td>\n",
       "      <td>NaN</td>\n",
       "      <td>NaN</td>\n",
       "      <td>NaN</td>\n",
       "      <td>NaN</td>\n",
       "      <td>NaN</td>\n",
       "    </tr>\n",
       "    <tr>\n",
       "      <th>1</th>\n",
       "      <td>1</td>\n",
       "      <td>[]</td>\n",
       "      <td>False</td>\n",
       "      <td>Incorrect_UserID</td>\n",
       "      <td>NaN</td>\n",
       "      <td>[]</td>\n",
       "      <td>NaN</td>\n",
       "      <td>text</td>\n",
       "      <td>t2_c5wuga8y</td>\n",
       "      <td>False</td>\n",
       "      <td>...</td>\n",
       "      <td>NaN</td>\n",
       "      <td>NaN</td>\n",
       "      <td>NaN</td>\n",
       "      <td>NaN</td>\n",
       "      <td>NaN</td>\n",
       "      <td>NaN</td>\n",
       "      <td>NaN</td>\n",
       "      <td>NaN</td>\n",
       "      <td>NaN</td>\n",
       "      <td>NaN</td>\n",
       "    </tr>\n",
       "    <tr>\n",
       "      <th>2</th>\n",
       "      <td>2</td>\n",
       "      <td>[]</td>\n",
       "      <td>False</td>\n",
       "      <td>Emmanuel_T_Goldstein</td>\n",
       "      <td>NaN</td>\n",
       "      <td>[]</td>\n",
       "      <td>NaN</td>\n",
       "      <td>text</td>\n",
       "      <td>t2_dc07n</td>\n",
       "      <td>False</td>\n",
       "      <td>...</td>\n",
       "      <td>NaN</td>\n",
       "      <td>NaN</td>\n",
       "      <td>NaN</td>\n",
       "      <td>NaN</td>\n",
       "      <td>NaN</td>\n",
       "      <td>NaN</td>\n",
       "      <td>NaN</td>\n",
       "      <td>NaN</td>\n",
       "      <td>NaN</td>\n",
       "      <td>NaN</td>\n",
       "    </tr>\n",
       "    <tr>\n",
       "      <th>3</th>\n",
       "      <td>3</td>\n",
       "      <td>[]</td>\n",
       "      <td>False</td>\n",
       "      <td>Emmanuel_T_Goldstein</td>\n",
       "      <td>NaN</td>\n",
       "      <td>[]</td>\n",
       "      <td>NaN</td>\n",
       "      <td>text</td>\n",
       "      <td>t2_dc07n</td>\n",
       "      <td>False</td>\n",
       "      <td>...</td>\n",
       "      <td>NaN</td>\n",
       "      <td>NaN</td>\n",
       "      <td>NaN</td>\n",
       "      <td>NaN</td>\n",
       "      <td>NaN</td>\n",
       "      <td>NaN</td>\n",
       "      <td>NaN</td>\n",
       "      <td>NaN</td>\n",
       "      <td>NaN</td>\n",
       "      <td>NaN</td>\n",
       "    </tr>\n",
       "    <tr>\n",
       "      <th>4</th>\n",
       "      <td>4</td>\n",
       "      <td>[]</td>\n",
       "      <td>False</td>\n",
       "      <td>Responsible_Squash31</td>\n",
       "      <td>NaN</td>\n",
       "      <td>[]</td>\n",
       "      <td>NaN</td>\n",
       "      <td>text</td>\n",
       "      <td>t2_997ugww7</td>\n",
       "      <td>False</td>\n",
       "      <td>...</td>\n",
       "      <td>NaN</td>\n",
       "      <td>NaN</td>\n",
       "      <td>NaN</td>\n",
       "      <td>NaN</td>\n",
       "      <td>NaN</td>\n",
       "      <td>NaN</td>\n",
       "      <td>NaN</td>\n",
       "      <td>NaN</td>\n",
       "      <td>NaN</td>\n",
       "      <td>NaN</td>\n",
       "    </tr>\n",
       "  </tbody>\n",
       "</table>\n",
       "<p>5 rows × 84 columns</p>\n",
       "</div>"
      ],
      "text/plain": [
       "   Unnamed: 0 all_awardings  allow_live_comments                author  \\\n",
       "0           0            []                False               gatfish   \n",
       "1           1            []                False      Incorrect_UserID   \n",
       "2           2            []                False  Emmanuel_T_Goldstein   \n",
       "3           3            []                False  Emmanuel_T_Goldstein   \n",
       "4           4            []                False  Responsible_Squash31   \n",
       "\n",
       "   author_flair_css_class author_flair_richtext author_flair_text  \\\n",
       "0                     NaN                    []               NaN   \n",
       "1                     NaN                    []               NaN   \n",
       "2                     NaN                    []               NaN   \n",
       "3                     NaN                    []               NaN   \n",
       "4                     NaN                    []               NaN   \n",
       "\n",
       "  author_flair_type author_fullname  author_is_blocked  ...  \\\n",
       "0              text        t2_3e07z              False  ...   \n",
       "1              text     t2_c5wuga8y              False  ...   \n",
       "2              text        t2_dc07n              False  ...   \n",
       "3              text        t2_dc07n              False  ...   \n",
       "4              text     t2_997ugww7              False  ...   \n",
       "\n",
       "  secure_media_embed author_cakeday author_flair_background_color  \\\n",
       "0                NaN            NaN                           NaN   \n",
       "1                NaN            NaN                           NaN   \n",
       "2                NaN            NaN                           NaN   \n",
       "3                NaN            NaN                           NaN   \n",
       "4                NaN            NaN                           NaN   \n",
       "\n",
       "   author_flair_text_color  suggested_sort  link_flair_template_id edited  \\\n",
       "0                      NaN             NaN                     NaN    NaN   \n",
       "1                      NaN             NaN                     NaN    NaN   \n",
       "2                      NaN             NaN                     NaN    NaN   \n",
       "3                      NaN             NaN                     NaN    NaN   \n",
       "4                      NaN             NaN                     NaN    NaN   \n",
       "\n",
       "  banned_by crosspost_parent crosspost_parent_list  \n",
       "0       NaN              NaN                   NaN  \n",
       "1       NaN              NaN                   NaN  \n",
       "2       NaN              NaN                   NaN  \n",
       "3       NaN              NaN                   NaN  \n",
       "4       NaN              NaN                   NaN  \n",
       "\n",
       "[5 rows x 84 columns]"
      ]
     },
     "execution_count": 11,
     "metadata": {},
     "output_type": "execute_result"
    }
   ],
   "source": [
    "space_df.head()"
   ]
  },
  {
   "cell_type": "code",
   "execution_count": 12,
   "id": "98f5375c",
   "metadata": {},
   "outputs": [
    {
     "name": "stdout",
     "output_type": "stream",
     "text": [
      "<class 'pandas.core.frame.DataFrame'>\n",
      "RangeIndex: 2400 entries, 0 to 2399\n",
      "Data columns (total 83 columns):\n",
      " #   Column                         Non-Null Count  Dtype  \n",
      "---  ------                         --------------  -----  \n",
      " 0   Unnamed: 0                     2400 non-null   int64  \n",
      " 1   all_awardings                  2400 non-null   object \n",
      " 2   allow_live_comments            2400 non-null   bool   \n",
      " 3   author                         2400 non-null   object \n",
      " 4   author_flair_css_class         41 non-null     object \n",
      " 5   author_flair_richtext          2377 non-null   object \n",
      " 6   author_flair_text              45 non-null     object \n",
      " 7   author_flair_type              2377 non-null   object \n",
      " 8   author_fullname                2377 non-null   object \n",
      " 9   author_is_blocked              2400 non-null   bool   \n",
      " 10  author_patreon_flair           2377 non-null   object \n",
      " 11  author_premium                 2377 non-null   object \n",
      " 12  awarders                       2400 non-null   object \n",
      " 13  can_mod_post                   2400 non-null   bool   \n",
      " 14  contest_mode                   2400 non-null   bool   \n",
      " 15  created_utc                    2400 non-null   int64  \n",
      " 16  domain                         2400 non-null   object \n",
      " 17  full_link                      2400 non-null   object \n",
      " 18  gildings                       2400 non-null   object \n",
      " 19  id                             2400 non-null   object \n",
      " 20  is_created_from_ads_ui         2400 non-null   bool   \n",
      " 21  is_crosspostable               2400 non-null   bool   \n",
      " 22  is_gallery                     91 non-null     object \n",
      " 23  is_meta                        2400 non-null   bool   \n",
      " 24  is_original_content            2400 non-null   bool   \n",
      " 25  is_reddit_media_domain         2400 non-null   bool   \n",
      " 26  is_robot_indexable             2400 non-null   bool   \n",
      " 27  is_self                        2400 non-null   bool   \n",
      " 28  is_video                       2400 non-null   bool   \n",
      " 29  link_flair_background_color    1314 non-null   object \n",
      " 30  link_flair_css_class           1311 non-null   object \n",
      " 31  link_flair_richtext            2400 non-null   object \n",
      " 32  link_flair_template_id         1314 non-null   object \n",
      " 33  link_flair_text                1314 non-null   object \n",
      " 34  link_flair_text_color          2400 non-null   object \n",
      " 35  link_flair_type                2400 non-null   object \n",
      " 36  locked                         2400 non-null   bool   \n",
      " 37  media_only                     2400 non-null   bool   \n",
      " 38  no_follow                      2400 non-null   bool   \n",
      " 39  num_comments                   2400 non-null   int64  \n",
      " 40  num_crossposts                 2400 non-null   int64  \n",
      " 41  over_18                        2400 non-null   bool   \n",
      " 42  parent_whitelist_status        2400 non-null   object \n",
      " 43  permalink                      2400 non-null   object \n",
      " 44  pinned                         2400 non-null   bool   \n",
      " 45  pwls                           2400 non-null   int64  \n",
      " 46  removed_by_category            912 non-null    object \n",
      " 47  retrieved_on                   2400 non-null   int64  \n",
      " 48  score                          2400 non-null   int64  \n",
      " 49  selftext                       1391 non-null   object \n",
      " 50  send_replies                   2400 non-null   bool   \n",
      " 51  spoiler                        2400 non-null   bool   \n",
      " 52  stickied                       2400 non-null   bool   \n",
      " 53  subreddit                      2400 non-null   object \n",
      " 54  subreddit_id                   2400 non-null   object \n",
      " 55  subreddit_subscribers          2400 non-null   int64  \n",
      " 56  subreddit_type                 2400 non-null   object \n",
      " 57  thumbnail                      2400 non-null   object \n",
      " 58  thumbnail_height               993 non-null    float64\n",
      " 59  thumbnail_width                993 non-null    float64\n",
      " 60  title                          2400 non-null   object \n",
      " 61  total_awards_received          2400 non-null   int64  \n",
      " 62  treatment_tags                 2400 non-null   object \n",
      " 63  upvote_ratio                   2400 non-null   float64\n",
      " 64  url                            2400 non-null   object \n",
      " 65  url_overridden_by_dest         1016 non-null   object \n",
      " 66  whitelist_status               2400 non-null   object \n",
      " 67  wls                            2400 non-null   int64  \n",
      " 68  media                          307 non-null    object \n",
      " 69  media_embed                    303 non-null    object \n",
      " 70  post_hint                      1078 non-null   object \n",
      " 71  preview                        1078 non-null   object \n",
      " 72  secure_media                   307 non-null    object \n",
      " 73  secure_media_embed             303 non-null    object \n",
      " 74  author_flair_template_id       45 non-null     object \n",
      " 75  author_flair_text_color        68 non-null     object \n",
      " 76  author_flair_background_color  5 non-null      object \n",
      " 77  media_metadata                 48 non-null     object \n",
      " 78  author_cakeday                 9 non-null      object \n",
      " 79  edited                         4 non-null      float64\n",
      " 80  banned_by                      4 non-null      object \n",
      " 81  gilded                         1 non-null      float64\n",
      " 82  gallery_data                   14 non-null     object \n",
      "dtypes: bool(20), float64(5), int64(10), object(48)\n",
      "memory usage: 1.2+ MB\n"
     ]
    }
   ],
   "source": [
    "alien_df.info()"
   ]
  },
  {
   "cell_type": "code",
   "execution_count": 13,
   "id": "1dc3de9d",
   "metadata": {
    "scrolled": true
   },
   "outputs": [
    {
     "data": {
      "text/html": [
       "<div>\n",
       "<style scoped>\n",
       "    .dataframe tbody tr th:only-of-type {\n",
       "        vertical-align: middle;\n",
       "    }\n",
       "\n",
       "    .dataframe tbody tr th {\n",
       "        vertical-align: top;\n",
       "    }\n",
       "\n",
       "    .dataframe thead th {\n",
       "        text-align: right;\n",
       "    }\n",
       "</style>\n",
       "<table border=\"1\" class=\"dataframe\">\n",
       "  <thead>\n",
       "    <tr style=\"text-align: right;\">\n",
       "      <th></th>\n",
       "      <th>Unnamed: 0</th>\n",
       "      <th>all_awardings</th>\n",
       "      <th>allow_live_comments</th>\n",
       "      <th>author</th>\n",
       "      <th>author_flair_css_class</th>\n",
       "      <th>author_flair_richtext</th>\n",
       "      <th>author_flair_text</th>\n",
       "      <th>author_flair_type</th>\n",
       "      <th>author_fullname</th>\n",
       "      <th>author_is_blocked</th>\n",
       "      <th>...</th>\n",
       "      <th>secure_media_embed</th>\n",
       "      <th>author_flair_template_id</th>\n",
       "      <th>author_flair_text_color</th>\n",
       "      <th>author_flair_background_color</th>\n",
       "      <th>media_metadata</th>\n",
       "      <th>author_cakeday</th>\n",
       "      <th>edited</th>\n",
       "      <th>banned_by</th>\n",
       "      <th>gilded</th>\n",
       "      <th>gallery_data</th>\n",
       "    </tr>\n",
       "  </thead>\n",
       "  <tbody>\n",
       "    <tr>\n",
       "      <th>0</th>\n",
       "      <td>0</td>\n",
       "      <td>[]</td>\n",
       "      <td>False</td>\n",
       "      <td>originalangster</td>\n",
       "      <td>NaN</td>\n",
       "      <td>[]</td>\n",
       "      <td>NaN</td>\n",
       "      <td>text</td>\n",
       "      <td>t2_3rx44mm4</td>\n",
       "      <td>False</td>\n",
       "      <td>...</td>\n",
       "      <td>NaN</td>\n",
       "      <td>NaN</td>\n",
       "      <td>NaN</td>\n",
       "      <td>NaN</td>\n",
       "      <td>NaN</td>\n",
       "      <td>NaN</td>\n",
       "      <td>NaN</td>\n",
       "      <td>NaN</td>\n",
       "      <td>NaN</td>\n",
       "      <td>NaN</td>\n",
       "    </tr>\n",
       "    <tr>\n",
       "      <th>1</th>\n",
       "      <td>1</td>\n",
       "      <td>[]</td>\n",
       "      <td>False</td>\n",
       "      <td>Allister_Fiend_956</td>\n",
       "      <td>NaN</td>\n",
       "      <td>[]</td>\n",
       "      <td>NaN</td>\n",
       "      <td>text</td>\n",
       "      <td>t2_5qjf0wc1</td>\n",
       "      <td>False</td>\n",
       "      <td>...</td>\n",
       "      <td>{'content': '&amp;lt;iframe width=\"356\" height=\"20...</td>\n",
       "      <td>NaN</td>\n",
       "      <td>NaN</td>\n",
       "      <td>NaN</td>\n",
       "      <td>NaN</td>\n",
       "      <td>NaN</td>\n",
       "      <td>NaN</td>\n",
       "      <td>NaN</td>\n",
       "      <td>NaN</td>\n",
       "      <td>NaN</td>\n",
       "    </tr>\n",
       "    <tr>\n",
       "      <th>2</th>\n",
       "      <td>2</td>\n",
       "      <td>[]</td>\n",
       "      <td>False</td>\n",
       "      <td>A_Real_Patriot99</td>\n",
       "      <td>tb</td>\n",
       "      <td>[{'e': 'text', 't': 'true believer'}]</td>\n",
       "      <td>true believer</td>\n",
       "      <td>richtext</td>\n",
       "      <td>t2_1ibysouu</td>\n",
       "      <td>False</td>\n",
       "      <td>...</td>\n",
       "      <td>NaN</td>\n",
       "      <td>0ce49ee2-9fcc-11e8-b0a4-0e3aba8ea416</td>\n",
       "      <td>dark</td>\n",
       "      <td>NaN</td>\n",
       "      <td>NaN</td>\n",
       "      <td>NaN</td>\n",
       "      <td>NaN</td>\n",
       "      <td>NaN</td>\n",
       "      <td>NaN</td>\n",
       "      <td>NaN</td>\n",
       "    </tr>\n",
       "    <tr>\n",
       "      <th>3</th>\n",
       "      <td>3</td>\n",
       "      <td>[]</td>\n",
       "      <td>False</td>\n",
       "      <td>Allister_Fiend_956</td>\n",
       "      <td>NaN</td>\n",
       "      <td>[]</td>\n",
       "      <td>NaN</td>\n",
       "      <td>text</td>\n",
       "      <td>t2_5qjf0wc1</td>\n",
       "      <td>False</td>\n",
       "      <td>...</td>\n",
       "      <td>{'content': '&amp;lt;iframe width=\"356\" height=\"20...</td>\n",
       "      <td>NaN</td>\n",
       "      <td>NaN</td>\n",
       "      <td>NaN</td>\n",
       "      <td>NaN</td>\n",
       "      <td>NaN</td>\n",
       "      <td>NaN</td>\n",
       "      <td>NaN</td>\n",
       "      <td>NaN</td>\n",
       "      <td>NaN</td>\n",
       "    </tr>\n",
       "    <tr>\n",
       "      <th>4</th>\n",
       "      <td>4</td>\n",
       "      <td>[]</td>\n",
       "      <td>False</td>\n",
       "      <td>Allister_Fiend_956</td>\n",
       "      <td>NaN</td>\n",
       "      <td>[]</td>\n",
       "      <td>NaN</td>\n",
       "      <td>text</td>\n",
       "      <td>t2_5qjf0wc1</td>\n",
       "      <td>False</td>\n",
       "      <td>...</td>\n",
       "      <td>{'content': '&amp;lt;iframe width=\"356\" height=\"20...</td>\n",
       "      <td>NaN</td>\n",
       "      <td>NaN</td>\n",
       "      <td>NaN</td>\n",
       "      <td>NaN</td>\n",
       "      <td>NaN</td>\n",
       "      <td>NaN</td>\n",
       "      <td>NaN</td>\n",
       "      <td>NaN</td>\n",
       "      <td>NaN</td>\n",
       "    </tr>\n",
       "  </tbody>\n",
       "</table>\n",
       "<p>5 rows × 83 columns</p>\n",
       "</div>"
      ],
      "text/plain": [
       "   Unnamed: 0 all_awardings  allow_live_comments              author  \\\n",
       "0           0            []                False     originalangster   \n",
       "1           1            []                False  Allister_Fiend_956   \n",
       "2           2            []                False    A_Real_Patriot99   \n",
       "3           3            []                False  Allister_Fiend_956   \n",
       "4           4            []                False  Allister_Fiend_956   \n",
       "\n",
       "  author_flair_css_class                  author_flair_richtext  \\\n",
       "0                    NaN                                     []   \n",
       "1                    NaN                                     []   \n",
       "2                     tb  [{'e': 'text', 't': 'true believer'}]   \n",
       "3                    NaN                                     []   \n",
       "4                    NaN                                     []   \n",
       "\n",
       "  author_flair_text author_flair_type author_fullname  author_is_blocked  ...  \\\n",
       "0               NaN              text     t2_3rx44mm4              False  ...   \n",
       "1               NaN              text     t2_5qjf0wc1              False  ...   \n",
       "2     true believer          richtext     t2_1ibysouu              False  ...   \n",
       "3               NaN              text     t2_5qjf0wc1              False  ...   \n",
       "4               NaN              text     t2_5qjf0wc1              False  ...   \n",
       "\n",
       "                                  secure_media_embed  \\\n",
       "0                                                NaN   \n",
       "1  {'content': '&lt;iframe width=\"356\" height=\"20...   \n",
       "2                                                NaN   \n",
       "3  {'content': '&lt;iframe width=\"356\" height=\"20...   \n",
       "4  {'content': '&lt;iframe width=\"356\" height=\"20...   \n",
       "\n",
       "               author_flair_template_id author_flair_text_color  \\\n",
       "0                                   NaN                     NaN   \n",
       "1                                   NaN                     NaN   \n",
       "2  0ce49ee2-9fcc-11e8-b0a4-0e3aba8ea416                    dark   \n",
       "3                                   NaN                     NaN   \n",
       "4                                   NaN                     NaN   \n",
       "\n",
       "   author_flair_background_color  media_metadata  author_cakeday edited  \\\n",
       "0                            NaN             NaN             NaN    NaN   \n",
       "1                            NaN             NaN             NaN    NaN   \n",
       "2                            NaN             NaN             NaN    NaN   \n",
       "3                            NaN             NaN             NaN    NaN   \n",
       "4                            NaN             NaN             NaN    NaN   \n",
       "\n",
       "  banned_by gilded gallery_data  \n",
       "0       NaN    NaN          NaN  \n",
       "1       NaN    NaN          NaN  \n",
       "2       NaN    NaN          NaN  \n",
       "3       NaN    NaN          NaN  \n",
       "4       NaN    NaN          NaN  \n",
       "\n",
       "[5 rows x 83 columns]"
      ]
     },
     "execution_count": 13,
     "metadata": {},
     "output_type": "execute_result"
    }
   ],
   "source": [
    "alien_df.head()"
   ]
  },
  {
   "cell_type": "markdown",
   "id": "2ff0ae8e",
   "metadata": {},
   "source": [
    "Useful columns are subreddit, title and selftext."
   ]
  },
  {
   "cell_type": "markdown",
   "id": "f39eb2d2",
   "metadata": {},
   "source": [
    "### 4. Combine dataframes"
   ]
  },
  {
   "cell_type": "code",
   "execution_count": 14,
   "id": "7764edc9",
   "metadata": {},
   "outputs": [
    {
     "name": "stdout",
     "output_type": "stream",
     "text": [
      "number of columns in alien df:  83\n",
      "number of columns in space df:  84\n"
     ]
    }
   ],
   "source": [
    "print('number of columns in alien df: ',alien_df.shape[1])\n",
    "print('number of columns in space df: ',space_df.shape[1])"
   ]
  },
  {
   "cell_type": "code",
   "execution_count": 15,
   "id": "4742dc05",
   "metadata": {},
   "outputs": [],
   "source": [
    "# combine space and alien df\n",
    "\n",
    "df = space_df.append(alien_df)"
   ]
  },
  {
   "cell_type": "code",
   "execution_count": 16,
   "id": "c717ccc3",
   "metadata": {},
   "outputs": [
    {
     "data": {
      "text/plain": [
       "(6998, 86)"
      ]
     },
     "execution_count": 16,
     "metadata": {},
     "output_type": "execute_result"
    }
   ],
   "source": [
    "# shape of overall data\n",
    "\n",
    "df.shape"
   ]
  },
  {
   "cell_type": "code",
   "execution_count": 17,
   "id": "f9ccbf9d",
   "metadata": {},
   "outputs": [
    {
     "data": {
      "text/plain": [
       "array(['space', 'aliens'], dtype=object)"
      ]
     },
     "execution_count": 17,
     "metadata": {},
     "output_type": "execute_result"
    }
   ],
   "source": [
    "df['subreddit'].unique()"
   ]
  },
  {
   "cell_type": "code",
   "execution_count": 18,
   "id": "500e1558",
   "metadata": {},
   "outputs": [],
   "source": [
    "# mapping data from alien subreddit as 1, and space subreddit as 0\n",
    "\n",
    "df['aliens'] = df['subreddit'].map({'space': 0,\n",
    "                                    'aliens': 1})"
   ]
  },
  {
   "cell_type": "code",
   "execution_count": 19,
   "id": "f3e0384b",
   "metadata": {},
   "outputs": [
    {
     "data": {
      "text/plain": [
       "array([0, 1], dtype=int64)"
      ]
     },
     "execution_count": 19,
     "metadata": {},
     "output_type": "execute_result"
    }
   ],
   "source": [
    "df['aliens'].unique()"
   ]
  },
  {
   "cell_type": "code",
   "execution_count": 20,
   "id": "2ea7e1de",
   "metadata": {},
   "outputs": [],
   "source": [
    "df_old = df # backup copy of original data"
   ]
  },
  {
   "cell_type": "code",
   "execution_count": 21,
   "id": "be2a87ce",
   "metadata": {},
   "outputs": [],
   "source": [
    "# data to keep\n",
    "\n",
    "data_to_keep = ['title', 'selftext', 'aliens']"
   ]
  },
  {
   "cell_type": "code",
   "execution_count": 22,
   "id": "d699c149",
   "metadata": {},
   "outputs": [],
   "source": [
    "df = df[data_to_keep]"
   ]
  },
  {
   "cell_type": "code",
   "execution_count": 23,
   "id": "f9c10459",
   "metadata": {},
   "outputs": [
    {
     "data": {
      "text/html": [
       "<div>\n",
       "<style scoped>\n",
       "    .dataframe tbody tr th:only-of-type {\n",
       "        vertical-align: middle;\n",
       "    }\n",
       "\n",
       "    .dataframe tbody tr th {\n",
       "        vertical-align: top;\n",
       "    }\n",
       "\n",
       "    .dataframe thead th {\n",
       "        text-align: right;\n",
       "    }\n",
       "</style>\n",
       "<table border=\"1\" class=\"dataframe\">\n",
       "  <thead>\n",
       "    <tr style=\"text-align: right;\">\n",
       "      <th></th>\n",
       "      <th>title</th>\n",
       "      <th>selftext</th>\n",
       "      <th>aliens</th>\n",
       "    </tr>\n",
       "  </thead>\n",
       "  <tbody>\n",
       "    <tr>\n",
       "      <th>0</th>\n",
       "      <td>Australia scientists find 'spooky' spinning ob...</td>\n",
       "      <td>NaN</td>\n",
       "      <td>0</td>\n",
       "    </tr>\n",
       "    <tr>\n",
       "      <th>1</th>\n",
       "      <td>Australia scientists find 'spooky' spinning ob...</td>\n",
       "      <td>NaN</td>\n",
       "      <td>0</td>\n",
       "    </tr>\n",
       "    <tr>\n",
       "      <th>2</th>\n",
       "      <td>Astroscale pauses debris-removal demo followin...</td>\n",
       "      <td>NaN</td>\n",
       "      <td>0</td>\n",
       "    </tr>\n",
       "    <tr>\n",
       "      <th>3</th>\n",
       "      <td>Nearly 1,000 mysterious strands revealed in Mi...</td>\n",
       "      <td>NaN</td>\n",
       "      <td>0</td>\n",
       "    </tr>\n",
       "    <tr>\n",
       "      <th>4</th>\n",
       "      <td>NASA bought a student's arts</td>\n",
       "      <td>NaN</td>\n",
       "      <td>0</td>\n",
       "    </tr>\n",
       "  </tbody>\n",
       "</table>\n",
       "</div>"
      ],
      "text/plain": [
       "                                               title selftext  aliens\n",
       "0  Australia scientists find 'spooky' spinning ob...      NaN       0\n",
       "1  Australia scientists find 'spooky' spinning ob...      NaN       0\n",
       "2  Astroscale pauses debris-removal demo followin...      NaN       0\n",
       "3  Nearly 1,000 mysterious strands revealed in Mi...      NaN       0\n",
       "4                       NASA bought a student's arts      NaN       0"
      ]
     },
     "execution_count": 23,
     "metadata": {},
     "output_type": "execute_result"
    }
   ],
   "source": [
    "df.head()"
   ]
  },
  {
   "cell_type": "markdown",
   "id": "346cabbe",
   "metadata": {},
   "source": [
    "### 5. Feature Engineering"
   ]
  },
  {
   "cell_type": "code",
   "execution_count": 24,
   "id": "82dbffe9",
   "metadata": {},
   "outputs": [],
   "source": [
    "# adding length of post to df\n",
    "\n",
    "df['post_length'] = df['selftext'].map(lambda x: len(str(x).split()))"
   ]
  },
  {
   "cell_type": "code",
   "execution_count": 25,
   "id": "84378fe7",
   "metadata": {},
   "outputs": [],
   "source": [
    "# adding length of title to df\n",
    "\n",
    "df['title_length'] = df['title'].map(lambda x: len(str(x).split()))"
   ]
  },
  {
   "cell_type": "code",
   "execution_count": 26,
   "id": "f531a98b",
   "metadata": {},
   "outputs": [
    {
     "data": {
      "text/html": [
       "<div>\n",
       "<style scoped>\n",
       "    .dataframe tbody tr th:only-of-type {\n",
       "        vertical-align: middle;\n",
       "    }\n",
       "\n",
       "    .dataframe tbody tr th {\n",
       "        vertical-align: top;\n",
       "    }\n",
       "\n",
       "    .dataframe thead th {\n",
       "        text-align: right;\n",
       "    }\n",
       "</style>\n",
       "<table border=\"1\" class=\"dataframe\">\n",
       "  <thead>\n",
       "    <tr style=\"text-align: right;\">\n",
       "      <th></th>\n",
       "      <th>title</th>\n",
       "      <th>selftext</th>\n",
       "      <th>aliens</th>\n",
       "      <th>post_length</th>\n",
       "      <th>title_length</th>\n",
       "    </tr>\n",
       "  </thead>\n",
       "  <tbody>\n",
       "    <tr>\n",
       "      <th>0</th>\n",
       "      <td>Australia scientists find 'spooky' spinning ob...</td>\n",
       "      <td>NaN</td>\n",
       "      <td>0</td>\n",
       "      <td>1</td>\n",
       "      <td>9</td>\n",
       "    </tr>\n",
       "    <tr>\n",
       "      <th>1</th>\n",
       "      <td>Australia scientists find 'spooky' spinning ob...</td>\n",
       "      <td>NaN</td>\n",
       "      <td>0</td>\n",
       "      <td>1</td>\n",
       "      <td>9</td>\n",
       "    </tr>\n",
       "    <tr>\n",
       "      <th>2</th>\n",
       "      <td>Astroscale pauses debris-removal demo followin...</td>\n",
       "      <td>NaN</td>\n",
       "      <td>0</td>\n",
       "      <td>1</td>\n",
       "      <td>6</td>\n",
       "    </tr>\n",
       "    <tr>\n",
       "      <th>3</th>\n",
       "      <td>Nearly 1,000 mysterious strands revealed in Mi...</td>\n",
       "      <td>NaN</td>\n",
       "      <td>0</td>\n",
       "      <td>1</td>\n",
       "      <td>9</td>\n",
       "    </tr>\n",
       "    <tr>\n",
       "      <th>4</th>\n",
       "      <td>NASA bought a student's arts</td>\n",
       "      <td>NaN</td>\n",
       "      <td>0</td>\n",
       "      <td>1</td>\n",
       "      <td>5</td>\n",
       "    </tr>\n",
       "  </tbody>\n",
       "</table>\n",
       "</div>"
      ],
      "text/plain": [
       "                                               title selftext  aliens  \\\n",
       "0  Australia scientists find 'spooky' spinning ob...      NaN       0   \n",
       "1  Australia scientists find 'spooky' spinning ob...      NaN       0   \n",
       "2  Astroscale pauses debris-removal demo followin...      NaN       0   \n",
       "3  Nearly 1,000 mysterious strands revealed in Mi...      NaN       0   \n",
       "4                       NASA bought a student's arts      NaN       0   \n",
       "\n",
       "   post_length  title_length  \n",
       "0            1             9  \n",
       "1            1             9  \n",
       "2            1             6  \n",
       "3            1             9  \n",
       "4            1             5  "
      ]
     },
     "execution_count": 26,
     "metadata": {},
     "output_type": "execute_result"
    }
   ],
   "source": [
    "df.head()"
   ]
  },
  {
   "cell_type": "code",
   "execution_count": 27,
   "id": "9ffb094c",
   "metadata": {},
   "outputs": [
    {
     "name": "stdout",
     "output_type": "stream",
     "text": [
      "<class 'pandas.core.frame.DataFrame'>\n",
      "Int64Index: 6998 entries, 0 to 2399\n",
      "Data columns (total 5 columns):\n",
      " #   Column        Non-Null Count  Dtype \n",
      "---  ------        --------------  ----- \n",
      " 0   title         6998 non-null   object\n",
      " 1   selftext      2625 non-null   object\n",
      " 2   aliens        6998 non-null   int64 \n",
      " 3   post_length   6998 non-null   int64 \n",
      " 4   title_length  6998 non-null   int64 \n",
      "dtypes: int64(3), object(2)\n",
      "memory usage: 328.0+ KB\n"
     ]
    }
   ],
   "source": [
    "df.info()"
   ]
  },
  {
   "cell_type": "markdown",
   "id": "afbbb6cc",
   "metadata": {},
   "source": [
    "### 6. EDA"
   ]
  },
  {
   "cell_type": "markdown",
   "id": "478f2bb9-7d22-4cf6-88cb-d0bc0304cd56",
   "metadata": {
    "tags": []
   },
   "source": [
    "#### Post Length"
   ]
  },
  {
   "cell_type": "code",
   "execution_count": 28,
   "id": "0b78b8dd",
   "metadata": {},
   "outputs": [
    {
     "data": {
      "text/html": [
       "<div>\n",
       "<style scoped>\n",
       "    .dataframe tbody tr th:only-of-type {\n",
       "        vertical-align: middle;\n",
       "    }\n",
       "\n",
       "    .dataframe tbody tr th {\n",
       "        vertical-align: top;\n",
       "    }\n",
       "\n",
       "    .dataframe thead th {\n",
       "        text-align: right;\n",
       "    }\n",
       "</style>\n",
       "<table border=\"1\" class=\"dataframe\">\n",
       "  <thead>\n",
       "    <tr style=\"text-align: right;\">\n",
       "      <th></th>\n",
       "      <th>aliens</th>\n",
       "      <th>post_length</th>\n",
       "      <th>title_length</th>\n",
       "    </tr>\n",
       "  </thead>\n",
       "  <tbody>\n",
       "    <tr>\n",
       "      <th>count</th>\n",
       "      <td>6998.000000</td>\n",
       "      <td>6998.000000</td>\n",
       "      <td>6998.000000</td>\n",
       "    </tr>\n",
       "    <tr>\n",
       "      <th>mean</th>\n",
       "      <td>0.342955</td>\n",
       "      <td>44.563875</td>\n",
       "      <td>12.473707</td>\n",
       "    </tr>\n",
       "    <tr>\n",
       "      <th>std</th>\n",
       "      <td>0.474731</td>\n",
       "      <td>194.284043</td>\n",
       "      <td>9.825828</td>\n",
       "    </tr>\n",
       "    <tr>\n",
       "      <th>min</th>\n",
       "      <td>0.000000</td>\n",
       "      <td>1.000000</td>\n",
       "      <td>1.000000</td>\n",
       "    </tr>\n",
       "    <tr>\n",
       "      <th>25%</th>\n",
       "      <td>0.000000</td>\n",
       "      <td>1.000000</td>\n",
       "      <td>6.000000</td>\n",
       "    </tr>\n",
       "    <tr>\n",
       "      <th>50%</th>\n",
       "      <td>0.000000</td>\n",
       "      <td>1.000000</td>\n",
       "      <td>10.000000</td>\n",
       "    </tr>\n",
       "    <tr>\n",
       "      <th>75%</th>\n",
       "      <td>1.000000</td>\n",
       "      <td>23.000000</td>\n",
       "      <td>15.000000</td>\n",
       "    </tr>\n",
       "    <tr>\n",
       "      <th>max</th>\n",
       "      <td>1.000000</td>\n",
       "      <td>7017.000000</td>\n",
       "      <td>67.000000</td>\n",
       "    </tr>\n",
       "  </tbody>\n",
       "</table>\n",
       "</div>"
      ],
      "text/plain": [
       "            aliens  post_length  title_length\n",
       "count  6998.000000  6998.000000   6998.000000\n",
       "mean      0.342955    44.563875     12.473707\n",
       "std       0.474731   194.284043      9.825828\n",
       "min       0.000000     1.000000      1.000000\n",
       "25%       0.000000     1.000000      6.000000\n",
       "50%       0.000000     1.000000     10.000000\n",
       "75%       1.000000    23.000000     15.000000\n",
       "max       1.000000  7017.000000     67.000000"
      ]
     },
     "execution_count": 28,
     "metadata": {},
     "output_type": "execute_result"
    }
   ],
   "source": [
    "df.describe()"
   ]
  },
  {
   "cell_type": "code",
   "execution_count": 29,
   "id": "ae905a3a",
   "metadata": {},
   "outputs": [
    {
     "data": {
      "text/plain": [
       "count    2400.000000\n",
       "mean       97.144167\n",
       "std       316.505729\n",
       "min         1.000000\n",
       "25%         1.000000\n",
       "50%         1.000000\n",
       "75%        86.000000\n",
       "max      7017.000000\n",
       "Name: post_length, dtype: float64"
      ]
     },
     "execution_count": 29,
     "metadata": {},
     "output_type": "execute_result"
    }
   ],
   "source": [
    "df[df['aliens'] == 1]['post_length'].describe()"
   ]
  },
  {
   "cell_type": "markdown",
   "id": "2d5df1b9-21a3-41a4-ad6c-93a35172067c",
   "metadata": {},
   "source": [
    "The standard deviation of the post length of aliens is 316, which indicates high variance. Will remove outliers further down."
   ]
  },
  {
   "cell_type": "code",
   "execution_count": 30,
   "id": "a9b2cdb2",
   "metadata": {},
   "outputs": [
    {
     "data": {
      "image/png": "[encoded data removed]",
      "text/plain": [
       "<Figure size 1440x360 with 2 Axes>"
      ]
     },
     "metadata": {
      "needs_background": "light"
     },
     "output_type": "display_data"
    }
   ],
   "source": [
    "# word count distribution\n",
    "\n",
    "plt.figure(figsize = (20,5))\n",
    "plt.subplot(1, 2, 1)\n",
    "plt.hist(x = (df[df['aliens'] == 1]['post_length']), bins = 30)\n",
    "plt.title('Distribution of post length for aliens subreddit')\n",
    "\n",
    "plt.subplot(1, 2, 2)\n",
    "plt.hist(x = (df[df['aliens'] == 0]['post_length']), bins = 30)\n",
    "plt.title('Distribution of post length for Space subreddit')\n",
    "plt.show();"
   ]
  },
  {
   "cell_type": "markdown",
   "id": "59b1a60a",
   "metadata": {},
   "source": [
    "Visualization of distribution of word length. As mentioned above, the variance of post length of r/aliens is high, thus the heavily right skewed chart. It is the same for r/space. "
   ]
  },
  {
   "cell_type": "code",
   "execution_count": 31,
   "id": "fc3180d6",
   "metadata": {},
   "outputs": [
    {
     "data": {
      "text/plain": [
       "0             NaN\n",
       "1             NaN\n",
       "3             NaN\n",
       "4             NaN\n",
       "6             NaN\n",
       "          ...    \n",
       "2393          NaN\n",
       "2396          NaN\n",
       "2397          NaN\n",
       "2398    [removed]\n",
       "2399          NaN\n",
       "Name: selftext, Length: 1215, dtype: object"
      ]
     },
     "execution_count": 31,
     "metadata": {},
     "output_type": "execute_result"
    }
   ],
   "source": [
    "df[(df['aliens'] == 1) & (df['post_length'] == 1)]['selftext']"
   ]
  },
  {
   "cell_type": "code",
   "execution_count": 32,
   "id": "eed8e607",
   "metadata": {},
   "outputs": [
    {
     "data": {
      "text/plain": [
       "array([nan, '[removed]', '[deleted]',\n",
       "       'https://m.youtube.com/watch?v=hRr4J2ZQbeo&amp;t=1s',\n",
       "       '[https://www.youtube.com/watch?v=5rZLaiL1m\\\\_U](https://www.youtube.com/watch?v=5rZLaiL1m_U)',\n",
       "       '[https://youtu.be/5rZLaiL1m\\\\_U](https://youtu.be/5rZLaiL1m_U)',\n",
       "       'https://www.gaia.com/share/ckxngjsvo000i0klc2gs97k5n?rfd=mkPUG2&amp;language[]=en',\n",
       "       '[https://youtu.be/vSEYv8zWffw](https://youtu.be/vSEYv8zWffw)',\n",
       "       'Sus', 'Wow.', 'Thoughts?',\n",
       "       '[https://www.youtube.com/watch?v=OPxfR2zfbk4](https://www.youtube.com/watch?v=OPxfR2zfbk4)',\n",
       "       'TSA', 'Yup..',\n",
       "       '[https://www.youtube.com/watch?v=sEczN\\\\_8Q380&amp;t=762s](https://www.youtube.com/watch?v=sEczN_8Q380&amp;t=762s)',\n",
       "       '[https://www.youtube.com/watch?v=3aqivLKs2wQ](https://www.youtube.com/watch?v=3aqivLKs2wQ)',\n",
       "       'Title',\n",
       "       '[https://www.youtube.com/watch?v=GIx44GSOfHw&amp;ab\\\\_channel=SHOWTIME](https://www.youtube.com/watch?v=GIx44GSOfHw&amp;ab_channel=SHOWTIME)',\n",
       "       'https://www.cbsnews.com/news/ufo-task-force-department-of-defense/',\n",
       "       '.',\n",
       "       '[https://www.youtube.com/watch?v=kfhnBTrxayU](https://www.youtube.com/watch?v=kfhnBTrxayU)',\n",
       "       '[https://www.youtube.com/watch?v=ooDS9jPAAIc](https://www.youtube.com/watch?v=ooDS9jPAAIc)',\n",
       "       '[https://www.youtube.com/watch?v=ORHB6xnuZrY&amp;t=574s](https://www.youtube.com/watch?v=ORHB6xnuZrY&amp;t=574s)',\n",
       "       '[https://www.youtube.com/watch?v=5B7qllT2fs8](https://www.youtube.com/watch?v=5B7qllT2fs8)',\n",
       "       '[https://www.youtube.com/watch?v=Y0usCB53-o4](https://www.youtube.com/watch?v=Y0usCB53-o4)',\n",
       "       'Aloem', 'h', '?',\n",
       "       '[https://www.youtube.com/watch?v=bc3w1v1Y6RM&amp;t=888s](https://www.youtube.com/watch?v=bc3w1v1Y6RM&amp;t=888s)',\n",
       "       '[https://www.youtube.com/watch?v=r6LKzOfbcZQ&amp;t=982s](https://www.youtube.com/watch?v=r6LKzOfbcZQ&amp;t=982s)',\n",
       "       '[https://www.youtube.com/watch?v=RDVFKCCtkrg&amp;t=382s](https://www.youtube.com/watch?v=RDVFKCCtkrg&amp;t=382s)',\n",
       "       'https://youtu.be/R4-MDa5n098',\n",
       "       '[https://www.eventbrite.com/e/uaps-are-they-worth-scientific-attention-tickets-203255872787?aff=estw&amp;utm-campaign=social&amp;utm-content=attendeeshare&amp;utm-medium=discovery&amp;utm-source=tw&amp;utm-term=listing](https://www.eventbrite.com/e/uaps-are-they-worth-scientific-attention-tickets-203255872787?aff=estw&amp;utm-campaign=social&amp;utm-content=attendeeshare&amp;utm-medium=discovery&amp;utm-source=tw&amp;utm-term=listing)',\n",
       "       'https://youtu.be/UDowvVdk-n0'], dtype=object)"
      ]
     },
     "execution_count": 32,
     "metadata": {},
     "output_type": "execute_result"
    }
   ],
   "source": [
    "# selftext for r/space post length == 1\n",
    "\n",
    "df[(df['aliens'] == 1) & (df['post_length'] == 1)]['selftext'].unique()"
   ]
  },
  {
   "cell_type": "code",
   "execution_count": 33,
   "id": "4e6ff625",
   "metadata": {},
   "outputs": [
    {
     "data": {
      "text/plain": [
       "count    4598.000000\n",
       "mean       17.118747\n",
       "std        54.571790\n",
       "min         1.000000\n",
       "25%         1.000000\n",
       "50%         1.000000\n",
       "75%         1.000000\n",
       "max      1059.000000\n",
       "Name: post_length, dtype: float64"
      ]
     },
     "execution_count": 33,
     "metadata": {},
     "output_type": "execute_result"
    }
   ],
   "source": [
    "df[df['aliens'] == 0]['post_length'].describe()"
   ]
  },
  {
   "cell_type": "code",
   "execution_count": 34,
   "id": "aa81a61d",
   "metadata": {},
   "outputs": [
    {
     "data": {
      "text/plain": [
       "3980    Yeah, we get it, Russia, like a bunch of other...\n",
       "Name: selftext, dtype: object"
      ]
     },
     "execution_count": 34,
     "metadata": {},
     "output_type": "execute_result"
    }
   ],
   "source": [
    "df[(df['aliens'] == 0) & (df['post_length'] > 1000)]['selftext']"
   ]
  },
  {
   "cell_type": "code",
   "execution_count": 35,
   "id": "54d942c3",
   "metadata": {},
   "outputs": [
    {
     "data": {
      "text/plain": [
       "0       NaN\n",
       "1       NaN\n",
       "2       NaN\n",
       "3       NaN\n",
       "4       NaN\n",
       "       ... \n",
       "4591    NaN\n",
       "4592    NaN\n",
       "4593    NaN\n",
       "4594    NaN\n",
       "4596    NaN\n",
       "Name: selftext, Length: 3648, dtype: object"
      ]
     },
     "execution_count": 35,
     "metadata": {},
     "output_type": "execute_result"
    }
   ],
   "source": [
    "df[(df['aliens'] == 0) & (df['post_length'] == 1)]['selftext']"
   ]
  },
  {
   "cell_type": "code",
   "execution_count": 36,
   "id": "61cd712a",
   "metadata": {
    "scrolled": true,
    "tags": []
   },
   "outputs": [
    {
     "data": {
      "text/plain": [
       "array([nan,\n",
       "       '[https://www.youtube.com/watch?v=nl2UQKmZfqc&amp;ab\\\\_channel=ExoAnalyticSolutionsVideos](https://www.youtube.com/watch?v=nl2UQKmZfqc&amp;ab_channel=ExoAnalyticSolutionsVideos)',\n",
       "       '[removed]', '\\nhttps://youtu.be/YdJZQSr7cyo',\n",
       "       '[https://www.theguardian.com/science/2022/jan/26/out-of-control-spacex-rocket-on-track-to-collide-with-the-moon](https://www.theguardian.com/science/2022/jan/26/out-of-control-spacex-rocket-on-track-to-collide-with-the-moon)',\n",
       "       '[https://youtu.be/8G84OP48uK0](https://youtu.be/8G84OP48uK0)',\n",
       "       '[https://youtu.be/xLzD00ATZ0M](https://youtu.be/xLzD00ATZ0M)',\n",
       "       '[https://youtu.be/AXACzZFfFfg](https://youtu.be/AXACzZFfFfg)',\n",
       "       '[deleted]', 'www.jwst.nasa.gov',\n",
       "       '[https://jwst.nasa.gov/content/webbLaunch/whereIsWebb.html](https://jwst.nasa.gov/content/webbLaunch/whereIsWebb.html)',\n",
       "       '[https://youtu.be/iEBfkRqqHZE](https://youtu.be/iEBfkRqqHZE)',\n",
       "       'Title',\n",
       "       '[https://www.youtube.com/watch?v=g6pPS7HSmbw](https://www.youtube.com/watch?v=g6pPS7HSmbw)',\n",
       "       '[https://youtu.be/6ASdMklVWm0](https://youtu.be/6ASdMklVWm0)',\n",
       "       '[https://youtu.be/gtcXITHq6pw](https://youtu.be/gtcXITHq6pw)',\n",
       "       '[https://youtu.be/1IKwRZ3BP0E](https://youtu.be/1IKwRZ3BP0E)',\n",
       "       '🥲',\n",
       "       '[https://jwst.nasa.gov/content/webbLaunch/countdown.html#](https://jwst.nasa.gov/content/webbLaunch/countdown.html#)',\n",
       "       '[https://www.youtube.com/watch?v=Lp39wU03Zu4](https://www.youtube.com/watch?v=Lp39wU03Zu4)',\n",
       "       ' [https://www.amazon.com/gp/product/B09JVCYK5F](https://www.amazon.com/gp/product/B09JVCYK5F)',\n",
       "       '[https://en.wikipedia.org/wiki/Eugene\\\\_Parker](https://en.wikipedia.org/wiki/Eugene_Parker)',\n",
       "       '[Presentation](https://youtu.be/eu00LzOEJaY)',\n",
       "       '[Video](https://youtu.be/eu00LzOEJaY)',\n",
       "       '[Here](https://youtu.be/eu00LzOEJaY)',\n",
       "       '[https://youtu.be/gjHXqO0G2xs](https://youtu.be/gjHXqO0G2xs)',\n",
       "       '[https://eyes.nasa.gov/dsn/dsn.html](https://eyes.nasa.gov/dsn/dsn.html)',\n",
       "       '[https://www.youtube.com/watch?v=8suQAwzRTR0](https://www.youtube.com/watch?v=8suQAwzRTR0)',\n",
       "       '[https://www.sciencealert.com/watch-stars-getting-too-close-to-a-black-hole-in-this-jaw-dropping-simulation](https://www.sciencealert.com/watch-stars-getting-too-close-to-a-black-hole-in-this-jaw-dropping-simulation)',\n",
       "       '[https://www.yahoo.com/news/warp-drives-physicists-chances-faster-173833579.html](https://www.yahoo.com/news/warp-drives-physicists-chances-faster-173833579.html)',\n",
       "       '[https://theswaddle.com/earth-may-soon-have-saturn-like-rings-made-up-of-space-junk/](https://theswaddle.com/earth-may-soon-have-saturn-like-rings-made-up-of-space-junk/)',\n",
       "       '[https://www.usatoday.com/story/news/world/2021/11/11/ferris-wheel-sized-asteroid-kamooalewa-moon/6393773001/](https://www.usatoday.com/story/news/world/2021/11/11/ferris-wheel-sized-asteroid-kamooalewa-moon/6393773001/)',\n",
       "       '[moteofdust.org](https://moteofdust.org)'], dtype=object)"
      ]
     },
     "execution_count": 36,
     "metadata": {},
     "output_type": "execute_result"
    }
   ],
   "source": [
    "# selftext for r/aliens post length == 1\n",
    "\n",
    "df[(df['aliens'] == 0) & (df['post_length'] == 1)]['selftext'].unique()"
   ]
  },
  {
   "cell_type": "markdown",
   "id": "d2fc499b",
   "metadata": {},
   "source": [
    "For post_length == 1, it mostly contains NaN, [removed], [deleted] and links. It is the same for both subreddits. Consider removing these."
   ]
  },
  {
   "cell_type": "code",
   "execution_count": 37,
   "id": "ad1b0a0f-bf53-4af0-a4a2-226c4fad529b",
   "metadata": {
    "tags": []
   },
   "outputs": [
    {
     "data": {
      "text/plain": [
       "array(['LETSGOO\\n\\nhttps://preview.redd.it/wikovahidq881.png?width=1291&amp;format=png&amp;auto=webp&amp;s=6c68d5bf92576474eb4a398692135ebda07c0e20',\n",
       "       'https://phys.org/news/2021-12-galaxies-explore-universe.html\\n\\nhttps://aladin.u-strasbg.fr/AladinLite/',\n",
       "       '&amp;#x200B;\\n\\nhttps://preview.redd.it/rand04dwq3881.jpg?width=1649&amp;format=pjpg&amp;auto=webp&amp;s=8c02bc278252b0152d6556b0360d5d992c8f5ffc',\n",
       "       '&amp;#x200B;\\n\\nhttps://preview.redd.it/njlc61mve8581.png?width=1164&amp;format=png&amp;auto=webp&amp;s=d2e31f25a0aaa110b14b7b4b59ca29a9932c44fb',\n",
       "       '&amp;#x200B;\\n\\nhttps://preview.redd.it/cgdcpqoj94581.png?width=1168&amp;format=png&amp;auto=webp&amp;s=a68cd2416345ae66a81992fd4ccdebe3025aabf3',\n",
       "       'Just wondering.',\n",
       "       '&amp;#x200B;\\n\\n[https:\\\\/\\\\/www.nasa.gov\\\\/planetarydefense\\\\/dart\\\\/](https://preview.redd.it/161b17083g181.jpg?width=297&amp;format=pjpg&amp;auto=webp&amp;s=e2ee54c131b53913f3a353c955817b366c85ea70)',\n",
       "       'Any videos?',\n",
       "       '&amp;#x200B;\\n\\nhttps://preview.redd.it/3bmzj5dddj081.jpg?width=5184&amp;format=pjpg&amp;auto=webp&amp;s=b6381640ff3160cec5bd3a0c5f1cd7b36386fece',\n",
       "       '&amp;#x200B;\\n\\nhttps://preview.redd.it/dnam2m4xcj081.jpg?width=5184&amp;format=pjpg&amp;auto=webp&amp;s=68ae2fbd6eb15566c215fe04d3bfe1370d9e7c6c',\n",
       "       '&amp;#x200B;\\n\\nhttps://preview.redd.it/dhmewb4dne081.jpg?width=3300&amp;format=pjpg&amp;auto=webp&amp;s=41239a5f29f5a6e3ef60067fbb8c642ea498e5dd',\n",
       "       '&amp;#x200B;\\n\\nhttps://preview.redd.it/cfnpuhvd49081.jpg?width=263&amp;format=pjpg&amp;auto=webp&amp;s=01993a623671cc120e3b97e9bcaa4652020258af'],\n",
       "      dtype=object)"
      ]
     },
     "execution_count": 37,
     "metadata": {},
     "output_type": "execute_result"
    }
   ],
   "source": [
    "# selftext for r/space post length == 2\n",
    "\n",
    "df[(df['aliens'] == 0) & (df['post_length'] == 2)]['selftext'].unique()"
   ]
  },
  {
   "cell_type": "code",
   "execution_count": 38,
   "id": "edc7f27a-9e1a-4a3a-b396-099cdbee5c05",
   "metadata": {},
   "outputs": [
    {
     "data": {
      "text/plain": [
       "array(['Would you', \"IT'S CATS\",\n",
       "       '&amp;#x200B;\\n\\nhttps://preview.redd.it/ihhlls1ntn281.jpg?width=720&amp;format=pjpg&amp;auto=webp&amp;s=3116b9ee70ee59924dea55a7982df67bc0ad8106',\n",
       "       'Ur thoughts?',\n",
       "       '&amp;#x200B;\\n\\nhttps://preview.redd.it/c43tesff92w71.jpg?width=1423&amp;format=pjpg&amp;auto=webp&amp;s=e5858a492d941746a6add49498767bd18115a50e'],\n",
       "      dtype=object)"
      ]
     },
     "execution_count": 38,
     "metadata": {},
     "output_type": "execute_result"
    }
   ],
   "source": [
    "# selftext for r/aliens post length == 2\n",
    "\n",
    "df[(df['aliens'] == 1) & (df['post_length'] == 2)]['selftext'].unique()"
   ]
  },
  {
   "cell_type": "markdown",
   "id": "312a2763-32f7-46d8-8ae7-6c0fdfbef6a6",
   "metadata": {},
   "source": [
    "For post length == 2, it is made up of mostly links plus markdown text formatting. Will remove markdown formatting."
   ]
  },
  {
   "cell_type": "code",
   "execution_count": 39,
   "id": "9b3d96de-4b49-4756-b090-793ee63bd3a3",
   "metadata": {},
   "outputs": [
    {
     "data": {
      "text/plain": [
       "array(['[Where is Webb](https://jwst.nasa.gov/content/webbLaunch/whereIsWebb.html)',\n",
       "       'For reference:  \\n[https://www.reddit.com/r/space/comments/r8omon/china\\\\_lunar\\\\_rover\\\\_to\\\\_check\\\\_out\\\\_cubeshaped\\\\_mystery/](https://www.reddit.com/r/space/comments/r8omon/china_lunar_rover_to_check_out_cubeshaped_mystery/)',\n",
       "       'Just curious guys', 'pretty much title.',\n",
       "       'Edit : https://en.m.wikipedia.org/wiki/Bo%C3%B6tes_void',\n",
       "       'Would be cool.', 'Isn’t it true?'], dtype=object)"
      ]
     },
     "execution_count": 39,
     "metadata": {},
     "output_type": "execute_result"
    }
   ],
   "source": [
    "# selftext for r/space post length == 3\n",
    "\n",
    "df[(df['aliens'] == 0) & (df['post_length'] == 3)]['selftext'].unique()"
   ]
  },
  {
   "cell_type": "code",
   "execution_count": 40,
   "id": "f961e42e-b6b0-44c6-a964-6cd795e8eb4b",
   "metadata": {},
   "outputs": [
    {
     "data": {
      "text/plain": [
       "array(['&amp;#x200B;\\n\\n[Just sayin...](https://i.redd.it/alxf71hrzz781.gif)',\n",
       "       '?????? your thoughts', 'What could happen?',\n",
       "       'Here evidence https://scp-wiki.wikidot.com/scp-163',\n",
       "       'enlil and anu', 'Don’t put opinions.'], dtype=object)"
      ]
     },
     "execution_count": 40,
     "metadata": {},
     "output_type": "execute_result"
    }
   ],
   "source": [
    "# selftext for r/aliens post length == 3\n",
    "\n",
    "df[(df['aliens'] == 1) & (df['post_length'] == 3)]['selftext'].unique()"
   ]
  },
  {
   "cell_type": "markdown",
   "id": "7bcd4035-0f60-4dd9-92a8-ce2453e3c59c",
   "metadata": {},
   "source": [
    "From post length 3 onwards, some posts are beginning to make some sense. Consider removing post length 2 and below."
   ]
  },
  {
   "cell_type": "code",
   "execution_count": 41,
   "id": "1ae025f3",
   "metadata": {},
   "outputs": [
    {
     "name": "stdout",
     "output_type": "stream",
     "text": [
      "1009\n",
      "Percentage of NaN for r/aliens:  0.42041666666666666\n"
     ]
    }
   ],
   "source": [
    "# NaN count for r/aliens selftext\n",
    "\n",
    "print(df[df['aliens'] == 1]['selftext'].isna().sum())\n",
    "print('Percentage of NaN for r/aliens: ',(df[df['aliens'] == 1]['selftext'].isna().sum())/(df['aliens'] == 1).sum())"
   ]
  },
  {
   "cell_type": "code",
   "execution_count": 42,
   "id": "62e65d07",
   "metadata": {},
   "outputs": [
    {
     "name": "stdout",
     "output_type": "stream",
     "text": [
      "3364\n",
      "Percentage of NaN for r/space:  0.7316224445411048\n"
     ]
    }
   ],
   "source": [
    "# NaN count for r/space selftext\n",
    "\n",
    "print(df[df['aliens'] == 0]['selftext'].isna().sum())\n",
    "print('Percentage of NaN for r/space: ',(df[df['aliens'] == 0]['selftext'].isna().sum())/(df['aliens'] == 0).sum())"
   ]
  },
  {
   "cell_type": "code",
   "execution_count": 43,
   "id": "c0b405f5-5bbc-483b-82b4-410745a3d13a",
   "metadata": {},
   "outputs": [
    {
     "name": "stdout",
     "output_type": "stream",
     "text": [
      "Number of Non NaN posts for Aliens:  1391\n",
      "Number of Non NaN posts for Space:  1234\n"
     ]
    }
   ],
   "source": [
    "# Number of posts after removing NaN for both\n",
    "\n",
    "print('Number of Non NaN posts for Aliens: ',df[df['aliens'] == 1]['selftext'].notna().sum())\n",
    "print('Number of Non NaN posts for Space: ',df[df['aliens'] == 0]['selftext'].notna().sum())"
   ]
  },
  {
   "cell_type": "markdown",
   "id": "bf427777",
   "metadata": {},
   "source": [
    "After removing NaN from selftext, sample size from both reddits are about the same. Dropping NaN will be beneficial in this case."
   ]
  },
  {
   "cell_type": "markdown",
   "id": "0f42044f",
   "metadata": {},
   "source": [
    "#### Non English Characters"
   ]
  },
  {
   "cell_type": "code",
   "execution_count": 44,
   "id": "ba03112b",
   "metadata": {},
   "outputs": [
    {
     "name": "stdout",
     "output_type": "stream",
     "text": [
      "selftext non english char length:  15552\n",
      "title non english char length:  0\n"
     ]
    }
   ],
   "source": [
    "# counting number of non ascii char in df\n",
    "\n",
    "not_english_char_list = []\n",
    "df_temp = df[df['selftext'].notnull()] # remove nan temporarily\n",
    "\n",
    "for item in df_temp['selftext']: # adds char to not_english_char_list if not in ascii\n",
    "    for char in item:\n",
    "        if char.isascii() == False:\n",
    "            not_english_char_list.append(char)\n",
    "            \n",
    "not_english_char_list_2 = [] # adds char to not_english_char_list_2 if not in ascii\n",
    "for item in df_temp['title']:\n",
    "    for char in item:\n",
    "        if char.isascii() == False:\n",
    "            not_english_char_list.append(char)\n",
    "            \n",
    "print('selftext non english char length: ',len(not_english_char_list))\n",
    "print('title non english char length: ',len(not_english_char_list_2))"
   ]
  },
  {
   "cell_type": "markdown",
   "id": "b02d1a9d",
   "metadata": {},
   "source": [
    "Length of non english char list is 15539 for selftext. check downstream after further cleaning to see if removed."
   ]
  },
  {
   "cell_type": "markdown",
   "id": "7d0fa71e",
   "metadata": {},
   "source": [
    "### 7. Cleaning"
   ]
  },
  {
   "cell_type": "markdown",
   "id": "ba2f2195",
   "metadata": {},
   "source": [
    "#### Remove all null values from selftext"
   ]
  },
  {
   "cell_type": "code",
   "execution_count": 45,
   "id": "634e90f4",
   "metadata": {},
   "outputs": [],
   "source": [
    "# remove all NaN from selftext\n",
    "\n",
    "df = df[df['selftext'].notna()]"
   ]
  },
  {
   "cell_type": "markdown",
   "id": "30fbb42e",
   "metadata": {},
   "source": [
    "#### Remove [removed] and [deleted]\n"
   ]
  },
  {
   "cell_type": "code",
   "execution_count": 46,
   "id": "bd63bef9",
   "metadata": {},
   "outputs": [
    {
     "data": {
      "text/plain": [
       "419"
      ]
     },
     "execution_count": 46,
     "metadata": {},
     "output_type": "execute_result"
    }
   ],
   "source": [
    "# counting number of removed and deleted\n",
    "\n",
    "(df['selftext'] == '[removed]').sum() + (df['selftext'] == '[deleted]').sum()"
   ]
  },
  {
   "cell_type": "code",
   "execution_count": 47,
   "id": "49f773ae",
   "metadata": {},
   "outputs": [
    {
     "name": "stdout",
     "output_type": "stream",
     "text": [
      "2625\n",
      "1234\n",
      "1391\n"
     ]
    }
   ],
   "source": [
    "print(df.shape[0]) # current total rows\n",
    "print(len(df[df['aliens'] == 0])) # total rows for space\n",
    "print(len(df[df['aliens'] == 1])) # total rows for aliens\n"
   ]
  },
  {
   "cell_type": "code",
   "execution_count": 48,
   "id": "1a744aa0",
   "metadata": {},
   "outputs": [],
   "source": [
    "# replace removed and deleted with nan\n",
    "\n",
    "df['selftext'].replace(to_replace = ['[deleted]', '[removed]'], value=np.nan, inplace = True)"
   ]
  },
  {
   "cell_type": "code",
   "execution_count": 49,
   "id": "a192227b",
   "metadata": {},
   "outputs": [],
   "source": [
    "# remove all null values from selftext\n",
    "\n",
    "df = df[df['selftext'].notna()]"
   ]
  },
  {
   "cell_type": "code",
   "execution_count": 50,
   "id": "b4f92c27",
   "metadata": {},
   "outputs": [
    {
     "data": {
      "text/plain": [
       "0"
      ]
     },
     "execution_count": 50,
     "metadata": {},
     "output_type": "execute_result"
    }
   ],
   "source": [
    "# counting number of removed and deleted\n",
    "\n",
    "(df['selftext'] == '[removed]').sum() + (df['selftext'] == '[deleted]').sum()"
   ]
  },
  {
   "cell_type": "code",
   "execution_count": 51,
   "id": "6d238874",
   "metadata": {},
   "outputs": [
    {
     "data": {
      "text/plain": [
       "2206"
      ]
     },
     "execution_count": 51,
     "metadata": {},
     "output_type": "execute_result"
    }
   ],
   "source": [
    "# current total rows\n",
    "\n",
    "df.shape[0]"
   ]
  },
  {
   "cell_type": "markdown",
   "id": "451ad4f2",
   "metadata": {},
   "source": [
    "#### Lowercase posts and titles for further processing"
   ]
  },
  {
   "cell_type": "code",
   "execution_count": 52,
   "id": "30d9ea76",
   "metadata": {},
   "outputs": [],
   "source": [
    "df['selftext'] = df['selftext'].apply(lambda x: x.lower())\n",
    "df['title'] = df['title'].apply(lambda x: x.lower())"
   ]
  },
  {
   "cell_type": "markdown",
   "id": "dc8ac390",
   "metadata": {},
   "source": [
    "#### Remove links from posts"
   ]
  },
  {
   "cell_type": "code",
   "execution_count": 142,
   "id": "2233fd9c",
   "metadata": {
    "scrolled": true,
    "tags": []
   },
   "outputs": [],
   "source": [
    "# checking for links in selftext\n",
    "\n",
    "# for item in df['selftext']:\n",
    "#     if 'http' in item:\n",
    "#         print(item)"
   ]
  },
  {
   "cell_type": "code",
   "execution_count": 54,
   "id": "481097a2",
   "metadata": {},
   "outputs": [],
   "source": [
    "# remove links\n",
    "\n",
    "df['selftext'] = df['selftext'].apply(lambda x: re.sub(r'http\\S+', '', x))"
   ]
  },
  {
   "cell_type": "code",
   "execution_count": 143,
   "id": "f39f42a6",
   "metadata": {},
   "outputs": [],
   "source": [
    "# checking for links in selftext\n",
    "\n",
    "# for item in df['selftext']:\n",
    "#     if 'http' in item:\n",
    "#         print(item)"
   ]
  },
  {
   "cell_type": "code",
   "execution_count": 56,
   "id": "b83dc618",
   "metadata": {},
   "outputs": [
    {
     "name": "stdout",
     "output_type": "stream",
     "text": [
      "https://www.youtube.com/watch?v=_m4psfdagus&amp;t=80s\n",
      "https://www.vice.com/en/article/ep4dan/ufo-subreddit-was-subject-to-systemic-censorship \"become a moderator\" pretty sure the mods here are censoring like r/ufos were...\n"
     ]
    }
   ],
   "source": [
    "# checking for links in title\n",
    "\n",
    "# for item in df['title']:\n",
    "#     if 'http' in item:\n",
    "#         print(item)"
   ]
  },
  {
   "cell_type": "code",
   "execution_count": 57,
   "id": "180decdd",
   "metadata": {},
   "outputs": [],
   "source": [
    "# remove links\n",
    "\n",
    "df['title'] = df['title'].apply(lambda x: re.sub(r'http\\S+', '', x))"
   ]
  },
  {
   "cell_type": "code",
   "execution_count": 58,
   "id": "ed982b74",
   "metadata": {},
   "outputs": [],
   "source": [
    "# checking for links in title\n",
    "\n",
    "# for item in df['title']:\n",
    "#     if 'http' in item:\n",
    "#         print(item)"
   ]
  },
  {
   "cell_type": "markdown",
   "id": "9238c026",
   "metadata": {},
   "source": [
    "#### Remove Emojis"
   ]
  },
  {
   "cell_type": "code",
   "execution_count": 59,
   "id": "3db1f18c",
   "metadata": {},
   "outputs": [
    {
     "data": {
      "text/plain": [
       "array(['[', '\\n', 'www.jwst.nasa.gov', 'title', '🥲', ' [',\n",
       "       '[presentation](', '[video](', '[here](', '[moteofdust.org](', '',\n",
       "       'sus', 'wow.', 'thoughts?', 'tsa', 'yup..', '.', 'aloem', 'h', '?'],\n",
       "      dtype=object)"
      ]
     },
     "execution_count": 59,
     "metadata": {},
     "output_type": "execute_result"
    }
   ],
   "source": [
    "# check post_length == 1 content after removing above\n",
    "\n",
    "df['selftext'][df['post_length'] == 1].unique()"
   ]
  },
  {
   "cell_type": "code",
   "execution_count": 60,
   "id": "a578882c",
   "metadata": {},
   "outputs": [],
   "source": [
    "# remove emoji\n",
    "\n",
    "df['selftext'] = df['selftext'].apply(lambda x: remove_emoji(x))"
   ]
  },
  {
   "cell_type": "code",
   "execution_count": 61,
   "id": "35f41606",
   "metadata": {},
   "outputs": [
    {
     "data": {
      "text/plain": [
       "array(['[', '\\n', 'www.jwst.nasa.gov', 'title', '', ' [',\n",
       "       '[presentation](', '[video](', '[here](', '[moteofdust.org](',\n",
       "       'sus', 'wow.', 'thoughts?', 'tsa', 'yup..', '.', 'aloem', 'h', '?'],\n",
       "      dtype=object)"
      ]
     },
     "execution_count": 61,
     "metadata": {},
     "output_type": "execute_result"
    }
   ],
   "source": [
    "# check that emoji removed\n",
    "\n",
    "df['selftext'][df['post_length'] == 1].unique()"
   ]
  },
  {
   "cell_type": "code",
   "execution_count": 62,
   "id": "00e42c51",
   "metadata": {},
   "outputs": [],
   "source": [
    "# remove emoji from title, assuming their existence\n",
    "\n",
    "df['title'] = df['title'].apply(lambda x: remove_emoji(x)) "
   ]
  },
  {
   "cell_type": "markdown",
   "id": "429cc0a8",
   "metadata": {},
   "source": [
    "#### Remove markdown text formatting"
   ]
  },
  {
   "cell_type": "code",
   "execution_count": 63,
   "id": "874abe4f",
   "metadata": {},
   "outputs": [],
   "source": [
    "df['selftext'] = df['selftext'].apply(lambda x: redditcleaner.clean(x))\n",
    "df['title'] = df['title'].apply(lambda x: redditcleaner.clean(x))"
   ]
  },
  {
   "cell_type": "code",
   "execution_count": 64,
   "id": "ae8de94b",
   "metadata": {},
   "outputs": [
    {
     "data": {
      "text/plain": [
       "8                                                       [\n",
       "18      i‘ve been asking myself that for quite some ti...\n",
       "26      whenever youtube channels talk about space/ as...\n",
       "28      in which general cardinal direction will a lau...\n",
       "34      hi everyone, spaceblue is a community token th...\n",
       "                              ...                        \n",
       "2383    [an interview with travis walton: the man abdu...\n",
       "2385    this book has no author and is about the origi...\n",
       "2389    in the past prior to my extraterrestrial ufo/u...\n",
       "2394                                          &amp;x200b;\n",
       "2395    tr3b patent (triangular spacecraft, its right ...\n",
       "Name: selftext, Length: 2206, dtype: object"
      ]
     },
     "execution_count": 64,
     "metadata": {},
     "output_type": "execute_result"
    }
   ],
   "source": [
    "df['selftext']"
   ]
  },
  {
   "cell_type": "code",
   "execution_count": 65,
   "id": "8052f01f",
   "metadata": {},
   "outputs": [
    {
     "data": {
      "text/plain": [
       "8       there is some interesting things going on in o...\n",
       "18              how would actual space warfare look like?\n",
       "26                             orbital mineral refineries\n",
       "28                                         sso trajectory\n",
       "34                      free 88 million of spacebluetoken\n",
       "                              ...                        \n",
       "2383    travis walton full lenh interview - alien abdu...\n",
       "2385                        need help looking for a book.\n",
       "2389    thoughts about the future of global wealth res...\n",
       "2394          full underwater baltic ufo crash screenshot\n",
       "2395                haarp and tr3b patents-uap explained?\n",
       "Name: title, Length: 2206, dtype: object"
      ]
     },
     "execution_count": 65,
     "metadata": {},
     "output_type": "execute_result"
    }
   ],
   "source": [
    "df['title']"
   ]
  },
  {
   "cell_type": "markdown",
   "id": "2ae75f2d",
   "metadata": {},
   "source": [
    "#### Remove Non eng char"
   ]
  },
  {
   "cell_type": "code",
   "execution_count": 66,
   "id": "d1d82b4d",
   "metadata": {},
   "outputs": [
    {
     "name": "stdout",
     "output_type": "stream",
     "text": [
      "i‘ve been asking myself that for quite some time now. when i say space warfare, i’m refering to multiple parties separated by space, like two planetary colonies fighting. obviously it would be a very slow and long ranged endeavor. i have multiple scenarios i’d like your opinion on. 1. interplanetary warfare. i think this is probably the easiest, but also most destructive way to fight. just launch a rod of metal at another planet fast enough and you have essentially a nuke. how could you be able to protect yourself from this kind of thing? perhaps something like a missile defense system? idk i‘d like your opinions on that. 2. fighting in space assuming you managed to protect yourself from just plain missiles or you actually plan to send down a land invasion force, you would probably have to engage in space. i imagine something similar to submarines fighting, with additional predicaments like heat management. also how would you track an enemy spaceship and how would you try to hide yourself? what do you guys think of this. and finally 3.conquering a planet. what would be the best way to land ground troups on a planet? you could consider dropping „planes“ carrying the troups into orbit? i‘d love some responses.\n"
     ]
    }
   ],
   "source": [
    "english_check(df['selftext'])"
   ]
  },
  {
   "cell_type": "code",
   "execution_count": 67,
   "id": "5ed5f354",
   "metadata": {},
   "outputs": [],
   "source": [
    "df['selftext'] = df['selftext'].apply(lambda x: return_eng_char(x))"
   ]
  },
  {
   "cell_type": "code",
   "execution_count": 68,
   "id": "630a9d8f",
   "metadata": {},
   "outputs": [],
   "source": [
    "english_check(df['selftext'])"
   ]
  },
  {
   "cell_type": "code",
   "execution_count": 69,
   "id": "95f020fc",
   "metadata": {},
   "outputs": [
    {
     "name": "stdout",
     "output_type": "stream",
     "text": [
      "why isn’t every star not inside a galaxy\n"
     ]
    }
   ],
   "source": [
    "english_check(df['title'])"
   ]
  },
  {
   "cell_type": "code",
   "execution_count": 70,
   "id": "e2a6f344",
   "metadata": {},
   "outputs": [],
   "source": [
    "df['title'] = df['title'].apply(lambda x: return_eng_char(x))"
   ]
  },
  {
   "cell_type": "code",
   "execution_count": 71,
   "id": "e9546acd",
   "metadata": {},
   "outputs": [],
   "source": [
    "english_check(df['title'])"
   ]
  },
  {
   "cell_type": "markdown",
   "id": "c039d2ea",
   "metadata": {},
   "source": [
    "#### Tokenize text by splitting, remove stopwords and lemmatize."
   ]
  },
  {
   "cell_type": "markdown",
   "id": "2bad604b-e3e7-4571-bf68-8caeac348a57",
   "metadata": {},
   "source": [
    "The goal of both stemming and lemmatization is to reduce inflectional forms and sometimes derivationally related forms of a word to a common base form.\n",
    "\n",
    "However, the two words differ in their flavor. Stemming usually chops off the ends of words in the hope of achieving this goal correctly most of the time, and often includes the removal of derivational affixes. Lemmatization shortens words with the use of a vocabulary and morphological analysis of words, normally aiming to return the base or dictionary form of a word, which is known as the lemma. Thus, we will lemmatize words."
   ]
  },
  {
   "cell_type": "code",
   "execution_count": 72,
   "id": "b6db22cb",
   "metadata": {},
   "outputs": [],
   "source": [
    "#get the stopwords\n",
    "stopwords = stopwords.words('english')"
   ]
  },
  {
   "cell_type": "code",
   "execution_count": 73,
   "id": "ac129945",
   "metadata": {},
   "outputs": [],
   "source": [
    "df['selftext'] = df['selftext'].apply(lambda x: process_text(x))\n",
    "df['title'] = df['title'].apply(lambda x: process_text(x))"
   ]
  },
  {
   "cell_type": "code",
   "execution_count": 74,
   "id": "b4372a86",
   "metadata": {},
   "outputs": [
    {
     "data": {
      "text/html": [
       "<div>\n",
       "<style scoped>\n",
       "    .dataframe tbody tr th:only-of-type {\n",
       "        vertical-align: middle;\n",
       "    }\n",
       "\n",
       "    .dataframe tbody tr th {\n",
       "        vertical-align: top;\n",
       "    }\n",
       "\n",
       "    .dataframe thead th {\n",
       "        text-align: right;\n",
       "    }\n",
       "</style>\n",
       "<table border=\"1\" class=\"dataframe\">\n",
       "  <thead>\n",
       "    <tr style=\"text-align: right;\">\n",
       "      <th></th>\n",
       "      <th>title</th>\n",
       "      <th>selftext</th>\n",
       "      <th>aliens</th>\n",
       "      <th>post_length</th>\n",
       "      <th>title_length</th>\n",
       "    </tr>\n",
       "  </thead>\n",
       "  <tbody>\n",
       "    <tr>\n",
       "      <th>8</th>\n",
       "      <td>interesting thing going orbit today</td>\n",
       "      <td></td>\n",
       "      <td>0</td>\n",
       "      <td>1</td>\n",
       "      <td>10</td>\n",
       "    </tr>\n",
       "    <tr>\n",
       "      <th>18</th>\n",
       "      <td>would actual space warfare look like</td>\n",
       "      <td>asking quite time say space warfare refering m...</td>\n",
       "      <td>0</td>\n",
       "      <td>210</td>\n",
       "      <td>7</td>\n",
       "    </tr>\n",
       "    <tr>\n",
       "      <th>26</th>\n",
       "      <td>orbital mineral refinery</td>\n",
       "      <td>whenever youtube channel talk space asteroid m...</td>\n",
       "      <td>0</td>\n",
       "      <td>47</td>\n",
       "      <td>3</td>\n",
       "    </tr>\n",
       "    <tr>\n",
       "      <th>28</th>\n",
       "      <td>sso trajectory</td>\n",
       "      <td>general cardinal direction launch vehicle cape...</td>\n",
       "      <td>0</td>\n",
       "      <td>18</td>\n",
       "      <td>2</td>\n",
       "    </tr>\n",
       "    <tr>\n",
       "      <th>34</th>\n",
       "      <td>free million spacebluetoken</td>\n",
       "      <td>hi everyone spaceblue community token support ...</td>\n",
       "      <td>0</td>\n",
       "      <td>92</td>\n",
       "      <td>5</td>\n",
       "    </tr>\n",
       "  </tbody>\n",
       "</table>\n",
       "</div>"
      ],
      "text/plain": [
       "                                   title  \\\n",
       "8    interesting thing going orbit today   \n",
       "18  would actual space warfare look like   \n",
       "26              orbital mineral refinery   \n",
       "28                        sso trajectory   \n",
       "34           free million spacebluetoken   \n",
       "\n",
       "                                             selftext  aliens  post_length  \\\n",
       "8                                                           0            1   \n",
       "18  asking quite time say space warfare refering m...       0          210   \n",
       "26  whenever youtube channel talk space asteroid m...       0           47   \n",
       "28  general cardinal direction launch vehicle cape...       0           18   \n",
       "34  hi everyone spaceblue community token support ...       0           92   \n",
       "\n",
       "    title_length  \n",
       "8             10  \n",
       "18             7  \n",
       "26             3  \n",
       "28             2  \n",
       "34             5  "
      ]
     },
     "execution_count": 74,
     "metadata": {},
     "output_type": "execute_result"
    }
   ],
   "source": [
    "df.head()"
   ]
  },
  {
   "cell_type": "code",
   "execution_count": 75,
   "id": "8ca61f0c",
   "metadata": {},
   "outputs": [],
   "source": [
    "english_check(df['selftext'])"
   ]
  },
  {
   "cell_type": "markdown",
   "id": "eea19c65",
   "metadata": {},
   "source": [
    "#### Removing outliers"
   ]
  },
  {
   "cell_type": "code",
   "execution_count": 76,
   "id": "9abc5462",
   "metadata": {},
   "outputs": [],
   "source": [
    "# reset post_length\n",
    "\n",
    "df['post_length'] = df['selftext'].map(lambda x: len(str(x).split()))"
   ]
  },
  {
   "cell_type": "code",
   "execution_count": 77,
   "id": "4a859ab9",
   "metadata": {},
   "outputs": [
    {
     "data": {
      "text/html": [
       "<div>\n",
       "<style scoped>\n",
       "    .dataframe tbody tr th:only-of-type {\n",
       "        vertical-align: middle;\n",
       "    }\n",
       "\n",
       "    .dataframe tbody tr th {\n",
       "        vertical-align: top;\n",
       "    }\n",
       "\n",
       "    .dataframe thead th {\n",
       "        text-align: right;\n",
       "    }\n",
       "</style>\n",
       "<table border=\"1\" class=\"dataframe\">\n",
       "  <thead>\n",
       "    <tr style=\"text-align: right;\">\n",
       "      <th></th>\n",
       "      <th>aliens</th>\n",
       "      <th>post_length</th>\n",
       "      <th>title_length</th>\n",
       "    </tr>\n",
       "  </thead>\n",
       "  <tbody>\n",
       "    <tr>\n",
       "      <th>count</th>\n",
       "      <td>2206.000000</td>\n",
       "      <td>2206.000000</td>\n",
       "      <td>2206.000000</td>\n",
       "    </tr>\n",
       "    <tr>\n",
       "      <th>mean</th>\n",
       "      <td>0.553944</td>\n",
       "      <td>66.051677</td>\n",
       "      <td>10.619220</td>\n",
       "    </tr>\n",
       "    <tr>\n",
       "      <th>std</th>\n",
       "      <td>0.497194</td>\n",
       "      <td>144.384081</td>\n",
       "      <td>8.218009</td>\n",
       "    </tr>\n",
       "    <tr>\n",
       "      <th>min</th>\n",
       "      <td>0.000000</td>\n",
       "      <td>0.000000</td>\n",
       "      <td>1.000000</td>\n",
       "    </tr>\n",
       "    <tr>\n",
       "      <th>25%</th>\n",
       "      <td>0.000000</td>\n",
       "      <td>14.000000</td>\n",
       "      <td>5.000000</td>\n",
       "    </tr>\n",
       "    <tr>\n",
       "      <th>50%</th>\n",
       "      <td>1.000000</td>\n",
       "      <td>31.000000</td>\n",
       "      <td>9.000000</td>\n",
       "    </tr>\n",
       "    <tr>\n",
       "      <th>75%</th>\n",
       "      <td>1.000000</td>\n",
       "      <td>67.000000</td>\n",
       "      <td>14.000000</td>\n",
       "    </tr>\n",
       "    <tr>\n",
       "      <th>max</th>\n",
       "      <td>1.000000</td>\n",
       "      <td>2855.000000</td>\n",
       "      <td>57.000000</td>\n",
       "    </tr>\n",
       "  </tbody>\n",
       "</table>\n",
       "</div>"
      ],
      "text/plain": [
       "            aliens  post_length  title_length\n",
       "count  2206.000000  2206.000000   2206.000000\n",
       "mean      0.553944    66.051677     10.619220\n",
       "std       0.497194   144.384081      8.218009\n",
       "min       0.000000     0.000000      1.000000\n",
       "25%       0.000000    14.000000      5.000000\n",
       "50%       1.000000    31.000000      9.000000\n",
       "75%       1.000000    67.000000     14.000000\n",
       "max       1.000000  2855.000000     57.000000"
      ]
     },
     "execution_count": 77,
     "metadata": {},
     "output_type": "execute_result"
    }
   ],
   "source": [
    "df.describe()"
   ]
  },
  {
   "cell_type": "code",
   "execution_count": 78,
   "id": "370d1522",
   "metadata": {},
   "outputs": [
    {
     "data": {
      "text/html": [
       "<div>\n",
       "<style scoped>\n",
       "    .dataframe tbody tr th:only-of-type {\n",
       "        vertical-align: middle;\n",
       "    }\n",
       "\n",
       "    .dataframe tbody tr th {\n",
       "        vertical-align: top;\n",
       "    }\n",
       "\n",
       "    .dataframe thead th {\n",
       "        text-align: right;\n",
       "    }\n",
       "</style>\n",
       "<table border=\"1\" class=\"dataframe\">\n",
       "  <thead>\n",
       "    <tr style=\"text-align: right;\">\n",
       "      <th></th>\n",
       "      <th>aliens</th>\n",
       "      <th>post_length</th>\n",
       "      <th>title_length</th>\n",
       "    </tr>\n",
       "  </thead>\n",
       "  <tbody>\n",
       "    <tr>\n",
       "      <th>count</th>\n",
       "      <td>2206.000000</td>\n",
       "      <td>2206.000000</td>\n",
       "      <td>2206.000000</td>\n",
       "    </tr>\n",
       "    <tr>\n",
       "      <th>mean</th>\n",
       "      <td>0.553944</td>\n",
       "      <td>66.051677</td>\n",
       "      <td>10.619220</td>\n",
       "    </tr>\n",
       "    <tr>\n",
       "      <th>std</th>\n",
       "      <td>0.497194</td>\n",
       "      <td>144.384081</td>\n",
       "      <td>8.218009</td>\n",
       "    </tr>\n",
       "    <tr>\n",
       "      <th>min</th>\n",
       "      <td>0.000000</td>\n",
       "      <td>0.000000</td>\n",
       "      <td>1.000000</td>\n",
       "    </tr>\n",
       "    <tr>\n",
       "      <th>3%</th>\n",
       "      <td>0.000000</td>\n",
       "      <td>1.000000</td>\n",
       "      <td>2.000000</td>\n",
       "    </tr>\n",
       "    <tr>\n",
       "      <th>25%</th>\n",
       "      <td>0.000000</td>\n",
       "      <td>14.000000</td>\n",
       "      <td>5.000000</td>\n",
       "    </tr>\n",
       "    <tr>\n",
       "      <th>50%</th>\n",
       "      <td>1.000000</td>\n",
       "      <td>31.000000</td>\n",
       "      <td>9.000000</td>\n",
       "    </tr>\n",
       "    <tr>\n",
       "      <th>75%</th>\n",
       "      <td>1.000000</td>\n",
       "      <td>67.000000</td>\n",
       "      <td>14.000000</td>\n",
       "    </tr>\n",
       "    <tr>\n",
       "      <th>80%</th>\n",
       "      <td>1.000000</td>\n",
       "      <td>80.000000</td>\n",
       "      <td>15.000000</td>\n",
       "    </tr>\n",
       "    <tr>\n",
       "      <th>90%</th>\n",
       "      <td>1.000000</td>\n",
       "      <td>145.000000</td>\n",
       "      <td>21.000000</td>\n",
       "    </tr>\n",
       "    <tr>\n",
       "      <th>99%</th>\n",
       "      <td>1.000000</td>\n",
       "      <td>501.650000</td>\n",
       "      <td>43.000000</td>\n",
       "    </tr>\n",
       "    <tr>\n",
       "      <th>max</th>\n",
       "      <td>1.000000</td>\n",
       "      <td>2855.000000</td>\n",
       "      <td>57.000000</td>\n",
       "    </tr>\n",
       "  </tbody>\n",
       "</table>\n",
       "</div>"
      ],
      "text/plain": [
       "            aliens  post_length  title_length\n",
       "count  2206.000000  2206.000000   2206.000000\n",
       "mean      0.553944    66.051677     10.619220\n",
       "std       0.497194   144.384081      8.218009\n",
       "min       0.000000     0.000000      1.000000\n",
       "3%        0.000000     1.000000      2.000000\n",
       "25%       0.000000    14.000000      5.000000\n",
       "50%       1.000000    31.000000      9.000000\n",
       "75%       1.000000    67.000000     14.000000\n",
       "80%       1.000000    80.000000     15.000000\n",
       "90%       1.000000   145.000000     21.000000\n",
       "99%       1.000000   501.650000     43.000000\n",
       "max       1.000000  2855.000000     57.000000"
      ]
     },
     "execution_count": 78,
     "metadata": {},
     "output_type": "execute_result"
    }
   ],
   "source": [
    "df.describe([0.03, 0.25,0.50,0.75,0.8,0.9,0.99])"
   ]
  },
  {
   "cell_type": "markdown",
   "id": "b9463ad9",
   "metadata": {},
   "source": [
    "remove all posts with post_length 1 and below, to cut out some posts that do not provide any useful information for our model. also remove extremely long post."
   ]
  },
  {
   "cell_type": "code",
   "execution_count": 79,
   "id": "f64bd784",
   "metadata": {},
   "outputs": [
    {
     "data": {
      "image/png": "[encoded data removed]",
      "text/plain": [
       "<Figure size 1440x360 with 2 Axes>"
      ]
     },
     "metadata": {
      "needs_background": "light"
     },
     "output_type": "display_data"
    }
   ],
   "source": [
    "plt.figure(figsize = (20,5))\n",
    "plt.subplot(1, 2, 1)\n",
    "plt.hist(x = (df[df['aliens'] == 1]['post_length']), bins = 30)\n",
    "plt.title('Distribution of post length for aliens subreddit before dropping outliers')\n",
    "\n",
    "plt.subplot(1, 2, 2)\n",
    "plt.hist(x = (df[df['aliens'] == 0]['post_length']), bins = 30)\n",
    "plt.title('Distribution of post length for Space subreddit before dropping outliers')\n",
    "plt.show();"
   ]
  },
  {
   "cell_type": "code",
   "execution_count": 80,
   "id": "d6857c3e",
   "metadata": {},
   "outputs": [],
   "source": [
    "df_1 = df[df['post_length'] < 145] # remove post length above the 90 percentile\n",
    "df_2 = df_1[df_1['post_length'] > 2] # remove post length below 2\n",
    "df = df_2"
   ]
  },
  {
   "cell_type": "code",
   "execution_count": 81,
   "id": "e0ea0a0b",
   "metadata": {},
   "outputs": [
    {
     "data": {
      "image/png": "[encoded data removed]",
      "text/plain": [
       "<Figure size 1440x360 with 2 Axes>"
      ]
     },
     "metadata": {
      "needs_background": "light"
     },
     "output_type": "display_data"
    }
   ],
   "source": [
    "plt.figure(figsize = (20,5))\n",
    "plt.subplot(1, 2, 1)\n",
    "plt.hist(x = (df[df['aliens'] == 1]['post_length']), bins = 30)\n",
    "plt.title('Distribution of post length for aliens subreddit after dropping outliers')\n",
    "\n",
    "plt.subplot(1, 2, 2)\n",
    "plt.hist(x = (df[df['aliens'] == 0]['post_length']), bins = 30)\n",
    "plt.title('Distribution of post length for Space subreddit after dropping outliers')\n",
    "plt.show();"
   ]
  },
  {
   "cell_type": "markdown",
   "id": "c2cdd95d",
   "metadata": {},
   "source": [
    "#### Combine selftext and title"
   ]
  },
  {
   "cell_type": "markdown",
   "id": "fcbd46d2",
   "metadata": {},
   "source": [
    "Combine selftext with title to avoid losing valuable information available in the title."
   ]
  },
  {
   "cell_type": "code",
   "execution_count": 82,
   "id": "65e4fd4b",
   "metadata": {
    "scrolled": true
   },
   "outputs": [],
   "source": [
    "df['combined'] = df['selftext'] + df['title']"
   ]
  },
  {
   "cell_type": "code",
   "execution_count": 83,
   "id": "df2e9321",
   "metadata": {},
   "outputs": [
    {
     "data": {
      "text/plain": [
       "18      asking quite time say space warfare refering m...\n",
       "26      whenever youtube channel talk space asteroid m...\n",
       "28      general cardinal direction launch vehicle cape...\n",
       "34      hi everyone spaceblue community token support ...\n",
       "36      yeah know fusion always year away people iter ...\n",
       "                              ...                        \n",
       "2380    see post talking alien god created universe lo...\n",
       "2383    interview travis walton man abducted alien con...\n",
       "2385    book author origin life believe three part boo...\n",
       "2394    amp x bfull underwater baltic ufo crash screen...\n",
       "2395    tr b patent triangular spacecraft right f ing ...\n",
       "Name: combined, Length: 1866, dtype: object"
      ]
     },
     "execution_count": 83,
     "metadata": {},
     "output_type": "execute_result"
    }
   ],
   "source": [
    "df['combined']"
   ]
  },
  {
   "cell_type": "markdown",
   "id": "8d51c927",
   "metadata": {},
   "source": [
    "###### Top words from each subreddit"
   ]
  },
  {
   "cell_type": "code",
   "execution_count": 84,
   "id": "c3047d0d",
   "metadata": {},
   "outputs": [],
   "source": [
    "from nltk.corpus import stopwords\n",
    "# extending stop words\n",
    "stopwords = stopwords.words('english')\n",
    "stopwords.extend(['like', 'just', 'would', 'could', 'know'])"
   ]
  },
  {
   "cell_type": "code",
   "execution_count": 85,
   "id": "12ae42b7",
   "metadata": {},
   "outputs": [
    {
     "name": "stdout",
     "output_type": "stream",
     "text": [
      "895\n"
     ]
    },
    {
     "data": {
      "image/png": "[encoded data removed]",
      "text/plain": [
       "<Figure size 432x288 with 1 Axes>"
      ]
     },
     "metadata": {
      "needs_background": "light"
     },
     "output_type": "display_data"
    }
   ],
   "source": [
    "# counting most appeared words for space\n",
    "cv = CountVectorizer(stop_words = stopwords, min_df = 3, ngram_range = (1,1))\n",
    "cv.fit(df[df['aliens'] == 0]['combined']) # aliens == 0 for space subreddit\n",
    "space_cv = cv.transform(df[df['aliens'] == 0]['combined'])\n",
    "space_cvec_df = pd.DataFrame(space_cv.todense(), columns=cv.get_feature_names_out())\n",
    "print(len(space_cvec_df))\n",
    "space_cvec_df.sum().sort_values(ascending=False).head(15).plot(kind=\"barh\", color = 'red');\n",
    "\n",
    "# saved for later use\n",
    "space_important_features = space_cvec_df.sum().sort_values(ascending=False).head(15) \n",
    "\n"
   ]
  },
  {
   "cell_type": "code",
   "execution_count": 86,
   "id": "c888b3bf",
   "metadata": {},
   "outputs": [
    {
     "name": "stdout",
     "output_type": "stream",
     "text": [
      "971\n"
     ]
    },
    {
     "data": {
      "image/png": "[encoded data removed]",
      "text/plain": [
       "<Figure size 432x288 with 1 Axes>"
      ]
     },
     "metadata": {
      "needs_background": "light"
     },
     "output_type": "display_data"
    }
   ],
   "source": [
    "# counting most appeared words for alien\n",
    "\n",
    "cv = CountVectorizer(stop_words=stopwords, min_df=3, ngram_range=(1,1))\n",
    "cv.fit(df[df['aliens'] == 1]['combined']) # aliens == 1 for alien subreddit\n",
    "\n",
    "alien_cv = cv.transform(df[df['aliens'] == 1]['combined'])\n",
    "alien_cvec_df = pd.DataFrame(alien_cv.todense(), columns=cv.get_feature_names())\n",
    "print(len(alien_cvec_df))\n",
    "alien_cvec_df.sum().sort_values(ascending=False).head(15).plot(kind=\"barh\", color = 'green');\n",
    "\n",
    "# saved for later use\n",
    "alien_important_features = alien_cvec_df.sum().sort_values(ascending=False).head(15)"
   ]
  },
  {
   "cell_type": "code",
   "execution_count": 87,
   "id": "dd00fbbb",
   "metadata": {},
   "outputs": [
    {
     "name": "stdout",
     "output_type": "stream",
     "text": [
      "895\n"
     ]
    },
    {
     "data": {
      "image/png": "[encoded data removed]",
      "text/plain": [
       "<Figure size 432x288 with 1 Axes>"
      ]
     },
     "metadata": {
      "needs_background": "light"
     },
     "output_type": "display_data"
    }
   ],
   "source": [
    "# most common bigrams for space\n",
    "\n",
    "cv = CountVectorizer(stop_words = stopwords, min_df = 3, ngram_range = (2,2))\n",
    "cv.fit(df[df['aliens'] == 0]['combined']) # aliens == 0 for space subreddit\n",
    "space_cv = cv.transform(df[df['aliens'] == 0]['combined'])\n",
    "space_cvec_df = pd.DataFrame(space_cv.todense(), columns=cv.get_feature_names_out())\n",
    "print(len(space_cvec_df))\n",
    "space_cvec_df.sum().sort_values(ascending=False).head(15).plot(kind=\"barh\", color = 'red');\n",
    "\n",
    "# saved for later use\n",
    "space_important_features = space_cvec_df.sum().sort_values(ascending=False).head(15) "
   ]
  },
  {
   "cell_type": "code",
   "execution_count": 88,
   "id": "4ebf2d99",
   "metadata": {},
   "outputs": [
    {
     "name": "stdout",
     "output_type": "stream",
     "text": [
      "971\n"
     ]
    },
    {
     "data": {
      "image/png": "[encoded data removed]",
      "text/plain": [
       "<Figure size 432x288 with 1 Axes>"
      ]
     },
     "metadata": {
      "needs_background": "light"
     },
     "output_type": "display_data"
    }
   ],
   "source": [
    "# counting most bigrams for alien\n",
    "\n",
    "cv = CountVectorizer(stop_words=stopwords, min_df=3, ngram_range=(2,2))\n",
    "cv.fit(df[df['aliens'] == 1]['combined']) # aliens == 1 for alien subreddit\n",
    "\n",
    "alien_cv = cv.transform(df[df['aliens'] == 1]['combined'])\n",
    "alien_cvec_df = pd.DataFrame(alien_cv.todense(), columns=cv.get_feature_names())\n",
    "print(len(alien_cvec_df))\n",
    "alien_cvec_df.sum().sort_values(ascending=False).head(15).plot(kind=\"barh\", color = 'green');\n",
    "\n",
    "# saved for later use\n",
    "alien_important_features = alien_cvec_df.sum().sort_values(ascending=False).head(15)"
   ]
  },
  {
   "cell_type": "code",
   "execution_count": 89,
   "id": "4a030db7",
   "metadata": {
    "scrolled": true
   },
   "outputs": [
    {
     "data": {
      "text/html": [
       "<div>\n",
       "<style scoped>\n",
       "    .dataframe tbody tr th:only-of-type {\n",
       "        vertical-align: middle;\n",
       "    }\n",
       "\n",
       "    .dataframe tbody tr th {\n",
       "        vertical-align: top;\n",
       "    }\n",
       "\n",
       "    .dataframe thead th {\n",
       "        text-align: right;\n",
       "    }\n",
       "</style>\n",
       "<table border=\"1\" class=\"dataframe\">\n",
       "  <thead>\n",
       "    <tr style=\"text-align: right;\">\n",
       "      <th></th>\n",
       "      <th>abducted alien</th>\n",
       "      <th>abduction case</th>\n",
       "      <th>abduction experience</th>\n",
       "      <th>abduction phenomenon</th>\n",
       "      <th>abduction story</th>\n",
       "      <th>able live</th>\n",
       "      <th>able see</th>\n",
       "      <th>account people</th>\n",
       "      <th>act ndaa</th>\n",
       "      <th>act requiring</th>\n",
       "      <th>...</th>\n",
       "      <th>world first</th>\n",
       "      <th>year ago</th>\n",
       "      <th>year alien</th>\n",
       "      <th>year huge</th>\n",
       "      <th>year later</th>\n",
       "      <th>year old</th>\n",
       "      <th>year think</th>\n",
       "      <th>youtube channel</th>\n",
       "      <th>youtube video</th>\n",
       "      <th>zeta reticuli</th>\n",
       "    </tr>\n",
       "  </thead>\n",
       "  <tbody>\n",
       "    <tr>\n",
       "      <th>0</th>\n",
       "      <td>0</td>\n",
       "      <td>0</td>\n",
       "      <td>0</td>\n",
       "      <td>0</td>\n",
       "      <td>0</td>\n",
       "      <td>0</td>\n",
       "      <td>0</td>\n",
       "      <td>0</td>\n",
       "      <td>0</td>\n",
       "      <td>0</td>\n",
       "      <td>...</td>\n",
       "      <td>0</td>\n",
       "      <td>0</td>\n",
       "      <td>0</td>\n",
       "      <td>0</td>\n",
       "      <td>0</td>\n",
       "      <td>0</td>\n",
       "      <td>0</td>\n",
       "      <td>0</td>\n",
       "      <td>0</td>\n",
       "      <td>0</td>\n",
       "    </tr>\n",
       "    <tr>\n",
       "      <th>1</th>\n",
       "      <td>0</td>\n",
       "      <td>0</td>\n",
       "      <td>0</td>\n",
       "      <td>0</td>\n",
       "      <td>0</td>\n",
       "      <td>0</td>\n",
       "      <td>0</td>\n",
       "      <td>0</td>\n",
       "      <td>0</td>\n",
       "      <td>0</td>\n",
       "      <td>...</td>\n",
       "      <td>0</td>\n",
       "      <td>0</td>\n",
       "      <td>0</td>\n",
       "      <td>0</td>\n",
       "      <td>0</td>\n",
       "      <td>0</td>\n",
       "      <td>0</td>\n",
       "      <td>0</td>\n",
       "      <td>0</td>\n",
       "      <td>0</td>\n",
       "    </tr>\n",
       "    <tr>\n",
       "      <th>2</th>\n",
       "      <td>0</td>\n",
       "      <td>0</td>\n",
       "      <td>0</td>\n",
       "      <td>0</td>\n",
       "      <td>0</td>\n",
       "      <td>0</td>\n",
       "      <td>0</td>\n",
       "      <td>0</td>\n",
       "      <td>0</td>\n",
       "      <td>0</td>\n",
       "      <td>...</td>\n",
       "      <td>0</td>\n",
       "      <td>0</td>\n",
       "      <td>0</td>\n",
       "      <td>0</td>\n",
       "      <td>0</td>\n",
       "      <td>0</td>\n",
       "      <td>0</td>\n",
       "      <td>0</td>\n",
       "      <td>0</td>\n",
       "      <td>0</td>\n",
       "    </tr>\n",
       "    <tr>\n",
       "      <th>3</th>\n",
       "      <td>0</td>\n",
       "      <td>0</td>\n",
       "      <td>0</td>\n",
       "      <td>0</td>\n",
       "      <td>0</td>\n",
       "      <td>0</td>\n",
       "      <td>0</td>\n",
       "      <td>0</td>\n",
       "      <td>0</td>\n",
       "      <td>0</td>\n",
       "      <td>...</td>\n",
       "      <td>0</td>\n",
       "      <td>0</td>\n",
       "      <td>0</td>\n",
       "      <td>0</td>\n",
       "      <td>0</td>\n",
       "      <td>0</td>\n",
       "      <td>0</td>\n",
       "      <td>0</td>\n",
       "      <td>0</td>\n",
       "      <td>0</td>\n",
       "    </tr>\n",
       "    <tr>\n",
       "      <th>4</th>\n",
       "      <td>0</td>\n",
       "      <td>0</td>\n",
       "      <td>0</td>\n",
       "      <td>0</td>\n",
       "      <td>0</td>\n",
       "      <td>0</td>\n",
       "      <td>0</td>\n",
       "      <td>0</td>\n",
       "      <td>0</td>\n",
       "      <td>0</td>\n",
       "      <td>...</td>\n",
       "      <td>0</td>\n",
       "      <td>0</td>\n",
       "      <td>0</td>\n",
       "      <td>0</td>\n",
       "      <td>0</td>\n",
       "      <td>0</td>\n",
       "      <td>0</td>\n",
       "      <td>0</td>\n",
       "      <td>0</td>\n",
       "      <td>0</td>\n",
       "    </tr>\n",
       "    <tr>\n",
       "      <th>...</th>\n",
       "      <td>...</td>\n",
       "      <td>...</td>\n",
       "      <td>...</td>\n",
       "      <td>...</td>\n",
       "      <td>...</td>\n",
       "      <td>...</td>\n",
       "      <td>...</td>\n",
       "      <td>...</td>\n",
       "      <td>...</td>\n",
       "      <td>...</td>\n",
       "      <td>...</td>\n",
       "      <td>...</td>\n",
       "      <td>...</td>\n",
       "      <td>...</td>\n",
       "      <td>...</td>\n",
       "      <td>...</td>\n",
       "      <td>...</td>\n",
       "      <td>...</td>\n",
       "      <td>...</td>\n",
       "      <td>...</td>\n",
       "      <td>...</td>\n",
       "    </tr>\n",
       "    <tr>\n",
       "      <th>966</th>\n",
       "      <td>0</td>\n",
       "      <td>0</td>\n",
       "      <td>0</td>\n",
       "      <td>0</td>\n",
       "      <td>0</td>\n",
       "      <td>0</td>\n",
       "      <td>0</td>\n",
       "      <td>0</td>\n",
       "      <td>0</td>\n",
       "      <td>0</td>\n",
       "      <td>...</td>\n",
       "      <td>0</td>\n",
       "      <td>0</td>\n",
       "      <td>0</td>\n",
       "      <td>0</td>\n",
       "      <td>0</td>\n",
       "      <td>0</td>\n",
       "      <td>0</td>\n",
       "      <td>0</td>\n",
       "      <td>0</td>\n",
       "      <td>0</td>\n",
       "    </tr>\n",
       "    <tr>\n",
       "      <th>967</th>\n",
       "      <td>1</td>\n",
       "      <td>0</td>\n",
       "      <td>0</td>\n",
       "      <td>0</td>\n",
       "      <td>1</td>\n",
       "      <td>0</td>\n",
       "      <td>0</td>\n",
       "      <td>0</td>\n",
       "      <td>0</td>\n",
       "      <td>0</td>\n",
       "      <td>...</td>\n",
       "      <td>0</td>\n",
       "      <td>0</td>\n",
       "      <td>0</td>\n",
       "      <td>0</td>\n",
       "      <td>0</td>\n",
       "      <td>0</td>\n",
       "      <td>0</td>\n",
       "      <td>0</td>\n",
       "      <td>0</td>\n",
       "      <td>0</td>\n",
       "    </tr>\n",
       "    <tr>\n",
       "      <th>968</th>\n",
       "      <td>0</td>\n",
       "      <td>0</td>\n",
       "      <td>0</td>\n",
       "      <td>0</td>\n",
       "      <td>0</td>\n",
       "      <td>0</td>\n",
       "      <td>0</td>\n",
       "      <td>0</td>\n",
       "      <td>0</td>\n",
       "      <td>0</td>\n",
       "      <td>...</td>\n",
       "      <td>0</td>\n",
       "      <td>0</td>\n",
       "      <td>0</td>\n",
       "      <td>0</td>\n",
       "      <td>0</td>\n",
       "      <td>0</td>\n",
       "      <td>0</td>\n",
       "      <td>0</td>\n",
       "      <td>0</td>\n",
       "      <td>0</td>\n",
       "    </tr>\n",
       "    <tr>\n",
       "      <th>969</th>\n",
       "      <td>0</td>\n",
       "      <td>0</td>\n",
       "      <td>0</td>\n",
       "      <td>0</td>\n",
       "      <td>0</td>\n",
       "      <td>0</td>\n",
       "      <td>0</td>\n",
       "      <td>0</td>\n",
       "      <td>0</td>\n",
       "      <td>0</td>\n",
       "      <td>...</td>\n",
       "      <td>0</td>\n",
       "      <td>0</td>\n",
       "      <td>0</td>\n",
       "      <td>0</td>\n",
       "      <td>0</td>\n",
       "      <td>0</td>\n",
       "      <td>0</td>\n",
       "      <td>0</td>\n",
       "      <td>0</td>\n",
       "      <td>0</td>\n",
       "    </tr>\n",
       "    <tr>\n",
       "      <th>970</th>\n",
       "      <td>0</td>\n",
       "      <td>0</td>\n",
       "      <td>0</td>\n",
       "      <td>0</td>\n",
       "      <td>0</td>\n",
       "      <td>0</td>\n",
       "      <td>0</td>\n",
       "      <td>0</td>\n",
       "      <td>0</td>\n",
       "      <td>0</td>\n",
       "      <td>...</td>\n",
       "      <td>0</td>\n",
       "      <td>0</td>\n",
       "      <td>0</td>\n",
       "      <td>0</td>\n",
       "      <td>0</td>\n",
       "      <td>0</td>\n",
       "      <td>0</td>\n",
       "      <td>0</td>\n",
       "      <td>0</td>\n",
       "      <td>0</td>\n",
       "    </tr>\n",
       "  </tbody>\n",
       "</table>\n",
       "<p>971 rows × 891 columns</p>\n",
       "</div>"
      ],
      "text/plain": [
       "     abducted alien  abduction case  abduction experience  \\\n",
       "0                 0               0                     0   \n",
       "1                 0               0                     0   \n",
       "2                 0               0                     0   \n",
       "3                 0               0                     0   \n",
       "4                 0               0                     0   \n",
       "..              ...             ...                   ...   \n",
       "966               0               0                     0   \n",
       "967               1               0                     0   \n",
       "968               0               0                     0   \n",
       "969               0               0                     0   \n",
       "970               0               0                     0   \n",
       "\n",
       "     abduction phenomenon  abduction story  able live  able see  \\\n",
       "0                       0                0          0         0   \n",
       "1                       0                0          0         0   \n",
       "2                       0                0          0         0   \n",
       "3                       0                0          0         0   \n",
       "4                       0                0          0         0   \n",
       "..                    ...              ...        ...       ...   \n",
       "966                     0                0          0         0   \n",
       "967                     0                1          0         0   \n",
       "968                     0                0          0         0   \n",
       "969                     0                0          0         0   \n",
       "970                     0                0          0         0   \n",
       "\n",
       "     account people  act ndaa  act requiring  ...  world first  year ago  \\\n",
       "0                 0         0              0  ...            0         0   \n",
       "1                 0         0              0  ...            0         0   \n",
       "2                 0         0              0  ...            0         0   \n",
       "3                 0         0              0  ...            0         0   \n",
       "4                 0         0              0  ...            0         0   \n",
       "..              ...       ...            ...  ...          ...       ...   \n",
       "966               0         0              0  ...            0         0   \n",
       "967               0         0              0  ...            0         0   \n",
       "968               0         0              0  ...            0         0   \n",
       "969               0         0              0  ...            0         0   \n",
       "970               0         0              0  ...            0         0   \n",
       "\n",
       "     year alien  year huge  year later  year old  year think  youtube channel  \\\n",
       "0             0          0           0         0           0                0   \n",
       "1             0          0           0         0           0                0   \n",
       "2             0          0           0         0           0                0   \n",
       "3             0          0           0         0           0                0   \n",
       "4             0          0           0         0           0                0   \n",
       "..          ...        ...         ...       ...         ...              ...   \n",
       "966           0          0           0         0           0                0   \n",
       "967           0          0           0         0           0                0   \n",
       "968           0          0           0         0           0                0   \n",
       "969           0          0           0         0           0                0   \n",
       "970           0          0           0         0           0                0   \n",
       "\n",
       "     youtube video  zeta reticuli  \n",
       "0                0              0  \n",
       "1                0              0  \n",
       "2                0              0  \n",
       "3                0              0  \n",
       "4                0              0  \n",
       "..             ...            ...  \n",
       "966              0              0  \n",
       "967              0              0  \n",
       "968              0              0  \n",
       "969              0              0  \n",
       "970              0              0  \n",
       "\n",
       "[971 rows x 891 columns]"
      ]
     },
     "execution_count": 89,
     "metadata": {},
     "output_type": "execute_result"
    }
   ],
   "source": [
    "alien_cvec_df"
   ]
  },
  {
   "cell_type": "markdown",
   "id": "ffecb595",
   "metadata": {},
   "source": [
    "Top 5 common words from space subreddit are: <br>\n",
    "- space\n",
    "- earth\n",
    "- telescope\n",
    "- planet\n",
    "- time\n",
    "<br><br>\n",
    "Top 5 common words from aliens subreddit are:<br><br>\n",
    "- alien\n",
    "- human\n",
    "- one\n",
    "- people\n",
    "- think"
   ]
  },
  {
   "cell_type": "markdown",
   "id": "e8ab1fe7",
   "metadata": {},
   "source": [
    "These are the top 5 words that appear most commonly in each of the subreddits. Among them, we can see that both unigrams and bigrams for both subreddits are quite different. This could indicate that the subreddits could be classified effectively. "
   ]
  },
  {
   "cell_type": "markdown",
   "id": "8508a05e",
   "metadata": {},
   "source": [
    "### 8. Modeling"
   ]
  },
  {
   "cell_type": "code",
   "execution_count": 90,
   "id": "ca259f19",
   "metadata": {},
   "outputs": [],
   "source": [
    "X = df['combined']\n",
    "y = df['aliens']"
   ]
  },
  {
   "cell_type": "code",
   "execution_count": 91,
   "id": "dd733541",
   "metadata": {},
   "outputs": [
    {
     "data": {
      "text/plain": [
       "(1866,)"
      ]
     },
     "execution_count": 91,
     "metadata": {},
     "output_type": "execute_result"
    }
   ],
   "source": [
    "X.shape"
   ]
  },
  {
   "cell_type": "code",
   "execution_count": 92,
   "id": "24d8c991",
   "metadata": {},
   "outputs": [
    {
     "data": {
      "text/plain": [
       "(1866,)"
      ]
     },
     "execution_count": 92,
     "metadata": {},
     "output_type": "execute_result"
    }
   ],
   "source": [
    "y.shape"
   ]
  },
  {
   "cell_type": "markdown",
   "id": "d947271b",
   "metadata": {},
   "source": [
    "#### Baseline score"
   ]
  },
  {
   "cell_type": "code",
   "execution_count": 93,
   "id": "0ae17d52",
   "metadata": {},
   "outputs": [
    {
     "data": {
      "text/plain": [
       "1    0.520364\n",
       "0    0.479636\n",
       "Name: aliens, dtype: float64"
      ]
     },
     "execution_count": 93,
     "metadata": {},
     "output_type": "execute_result"
    }
   ],
   "source": [
    "y.value_counts(normalize = True)"
   ]
  },
  {
   "cell_type": "code",
   "execution_count": 94,
   "id": "185d50fc",
   "metadata": {},
   "outputs": [],
   "source": [
    "X_train, X_test, y_train, y_test = train_test_split(X, y, random_state = 42, stratify = y)"
   ]
  },
  {
   "cell_type": "code",
   "execution_count": 95,
   "id": "6b68640e",
   "metadata": {},
   "outputs": [],
   "source": [
    "# Pipeline & Gridsearch setup\n",
    "\n",
    "# TFIDF pipeline setup\n",
    "# mb\n",
    "tfidf_mb_pipe = Pipeline([\n",
    " ('tvec', TfidfVectorizer()),\n",
    " ('mb', MultinomialNB())\n",
    "])\n",
    "# Randomforest\n",
    "tfidf_rf_pipe = Pipeline([\n",
    " ('tvec', TfidfVectorizer()),\n",
    " ('rf', RandomForestClassifier())\n",
    "])\n",
    "# logistic regression\n",
    "tfidf_lr_pipe = Pipeline([\n",
    "    ('tvec', TfidfVectorizer()),\n",
    "    ('lr', LogisticRegression())\n",
    "])\n",
    "\n",
    "\n",
    "# CVec pipeline setup\n",
    "# mb\n",
    "cvec_mb_pipe = Pipeline([\n",
    "    ('cvec', CountVectorizer()),\n",
    "    ('mb', MultinomialNB())\n",
    "])\n",
    "# random forest\n",
    "cvec_rf_pipe = Pipeline([\n",
    " ('cvec', CountVectorizer()),\n",
    " ('rf', RandomForestClassifier())\n",
    "])\n",
    "# logistic regression\n",
    "cvec_lr_pipe = Pipeline([\n",
    "    ('cvec', CountVectorizer()),\n",
    "    ('lr', LogisticRegression())\n",
    "])\n",
    "\n",
    "\n",
    "# Setting params for TFIDF Vectorizer gridsearch\n",
    "tf_params = {\n",
    "#  'tvec__max_features':[100, 2000, 3000 ,4000],\n",
    "#  'tvec__ngram_range': [(1, 1), (1, 2), (2, 2)],\n",
    "#  'tvec__stop_words': [None, 'english'],   \n",
    "}\n",
    "\n",
    "# setting up cvec params\n",
    "cvec_params = {\n",
    "#  'cvec__max_features':[100, 2000, 3000, 4000],\n",
    "#  'cvec__ngram_range': [(1, 1), (1, 2), (2, 2)],\n",
    "#  'cvec__stop_words': [None, 'english'],\n",
    "}"
   ]
  },
  {
   "cell_type": "code",
   "execution_count": 96,
   "id": "1b649104",
   "metadata": {},
   "outputs": [],
   "source": [
    "# Setting up GridSearch for tfidf\n",
    "tfidf_mb_gs = GridSearchCV(tfidf_mb_pipe, param_grid=tf_params, cv = 5, verbose =1, n_jobs = -1)\n",
    "tfidf_rf_gs = GridSearchCV(tfidf_rf_pipe, param_grid=tf_params, cv = 5, verbose =1, n_jobs = -1)\n",
    "tfidf_lr_gs = GridSearchCV(tfidf_lr_pipe, param_grid=tf_params, cv = 5, verbose = 1, n_jobs = -1)\n",
    "# tfidf_cat_gs = GridSearchCV(tfidf_cat_pipe, param_grid=tf_params, cv = 5, verbose = 1, n_jobs = -1)\n"
   ]
  },
  {
   "cell_type": "code",
   "execution_count": 97,
   "id": "c24277c6",
   "metadata": {},
   "outputs": [],
   "source": [
    "# Setting up GridSearch for cvec\n",
    "cvec_mb_gs = GridSearchCV(cvec_mb_pipe, param_grid=cvec_params, cv = 5, verbose =1, n_jobs = -1)\n",
    "cvec_rf_gs = GridSearchCV(cvec_rf_pipe, param_grid=cvec_params, cv = 5, verbose =1, n_jobs = -1)\n",
    "cvec_lr_gs = GridSearchCV(cvec_lr_pipe, param_grid=cvec_params, cv = 5, verbose =1, n_jobs = -1)\n",
    "# cvec_cat_gs = GridSearchCV(cvec_cat_pipe, param_grid=cvec_params, cv = 5, verbose =1, n_jobs = -1)"
   ]
  },
  {
   "cell_type": "code",
   "execution_count": 98,
   "id": "fd552660",
   "metadata": {},
   "outputs": [
    {
     "name": "stdout",
     "output_type": "stream",
     "text": [
      "Fitting 5 folds for each of 1 candidates, totalling 5 fits\n",
      "Fitting 5 folds for each of 1 candidates, totalling 5 fits\n",
      "Fitting 5 folds for each of 1 candidates, totalling 5 fits\n",
      "Fitting 5 folds for each of 1 candidates, totalling 5 fits\n",
      "Fitting 5 folds for each of 1 candidates, totalling 5 fits\n",
      "Fitting 5 folds for each of 1 candidates, totalling 5 fits\n"
     ]
    },
    {
     "data": {
      "text/plain": [
       "GridSearchCV(cv=5,\n",
       "             estimator=Pipeline(steps=[('cvec', CountVectorizer()),\n",
       "                                       ('lr', LogisticRegression())]),\n",
       "             n_jobs=-1, param_grid={}, verbose=1)"
      ]
     },
     "execution_count": 98,
     "metadata": {},
     "output_type": "execute_result"
    }
   ],
   "source": [
    "# remember to uncomment when running\n",
    "\n",
    "tfidf_mb_gs.fit(X_train, y_train)\n",
    "tfidf_rf_gs.fit(X_train, y_train)\n",
    "tfidf_lr_gs.fit(X_train, y_train)\n",
    "# tfidf_cat_gs.fit(X_train, y_train)\n",
    "cvec_mb_gs.fit(X_train, y_train)\n",
    "cvec_rf_gs.fit(X_train, y_train)\n",
    "cvec_lr_gs.fit(X_train, y_train)\n",
    "# cvec_cat_gs.fit(X_train, y_train)\n"
   ]
  },
  {
   "cell_type": "code",
   "execution_count": 99,
   "id": "cca18ea8",
   "metadata": {},
   "outputs": [
    {
     "name": "stdout",
     "output_type": "stream",
     "text": [
      "Baseline Scores:\n",
      "-\n",
      "TFIDF scores:\n",
      "-----------------\n",
      "tfidf_mb_gs training set score:  0.9714081486776269\n",
      "tfidf_mb_gs testing set score:  0.8822269807280514\n",
      "spread =  0.08918116794957553\n",
      "-\n",
      "tfidf_rf_gs training set score:  1.0\n",
      "tfidf_rf_gs testing set score:  0.8779443254817987\n",
      "spread =  0.12205567451820132\n",
      "-\n",
      "tfidf_lr_gs training set score:  0.9699785561115082\n",
      "tfidf_lr_gs testing set score:  0.9122055674518201\n",
      "spread =  0.05777298865968805\n",
      "-\n",
      " \n",
      "CVec scores: \n",
      "-----------------\n",
      "cvec_mb_gs training set score:  0.9814152966404575\n",
      "cvec_mb_gs testing set score:  0.9057815845824411\n",
      "spread =  0.07563371205801639\n",
      "-\n",
      "cvec_rf_gs training set score:  1.0\n",
      "cvec_rf_gs testing set score:  0.8736616702355461\n",
      "spread =  0.12633832976445392\n",
      "-\n",
      "cvec_lr_gs training set score:  0.9992852037169406\n",
      "cvec_lr_gs testing set score:  0.8736616702355461\n",
      "spread =  0.12562353348139454\n",
      "-\n",
      "-\n"
     ]
    }
   ],
   "source": [
    "print('Baseline Scores:')\n",
    "print('-')\n",
    "print('TFIDF scores:')\n",
    "print('-----------------')\n",
    "print('tfidf_mb_gs training set score: ',tfidf_mb_gs.score(X_train, y_train))\n",
    "print('tfidf_mb_gs testing set score: ',tfidf_mb_gs.score(X_test, y_test))\n",
    "print('spread = ',tfidf_mb_gs.score(X_train, y_train) - tfidf_mb_gs.score(X_test, y_test))\n",
    "print('-')\n",
    "print('tfidf_rf_gs training set score: ',tfidf_rf_gs.score(X_train, y_train))\n",
    "print('tfidf_rf_gs testing set score: ',tfidf_rf_gs.score(X_test, y_test))\n",
    "print('spread = ',tfidf_rf_gs.score(X_train, y_train) - tfidf_rf_gs.score(X_test, y_test))\n",
    "print('-')\n",
    "print('tfidf_lr_gs training set score: ',tfidf_lr_gs.score(X_train, y_train))\n",
    "print('tfidf_lr_gs testing set score: ',tfidf_lr_gs.score(X_test, y_test))\n",
    "print('spread = ',tfidf_lr_gs.score(X_train, y_train) - tfidf_lr_gs.score(X_test, y_test))\n",
    "print('-')\n",
    "# print('tfidf_cat_gs training set score: ',tfidf_cat_gs.score(X_train, y_train))\n",
    "# print('tfidf_cat_gs testing set score: ',tfidf_cat_gs.score(X_test, y_test))\n",
    "# print('spread = ',tfidf_cat_gs.score(X_train, y_train) - tfidf_cat_gs.score(X_test, y_test))\n",
    "# print('-')\n",
    "print(' ')\n",
    "print('CVec scores: ')\n",
    "print('-----------------')\n",
    "print('cvec_mb_gs training set score: ',cvec_mb_gs.score(X_train, y_train))\n",
    "print('cvec_mb_gs testing set score: ',cvec_mb_gs.score(X_test, y_test))\n",
    "print('spread = ',cvec_mb_gs.score(X_train, y_train) - cvec_mb_gs.score(X_test, y_test))\n",
    "print('-')\n",
    "print('cvec_rf_gs training set score: ',cvec_rf_gs.score(X_train, y_train))\n",
    "print('cvec_rf_gs testing set score: ',cvec_rf_gs.score(X_test, y_test))\n",
    "print('spread = ',cvec_rf_gs.score(X_train, y_train) - cvec_rf_gs.score(X_test, y_test))\n",
    "print('-')\n",
    "print('cvec_lr_gs training set score: ',cvec_lr_gs.score(X_train, y_train))\n",
    "print('cvec_lr_gs testing set score: ',cvec_lr_gs.score(X_test, y_test))\n",
    "print('spread = ',cvec_lr_gs.score(X_train, y_train) - cvec_lr_gs.score(X_test, y_test))\n",
    "print('-')\n",
    "# print('cvec_cat_gs training set score: ',cvec_cat_gs.score(X_train, y_train))\n",
    "# print('cvec_cat_gs testing set score: ',cvec_cat_gs.score(X_test, y_test))\n",
    "# print('spread = ',cvec_cat_gs.score(X_train, y_train) - cvec_cat_gs.score(X_test, y_test))\n",
    "print('-')"
   ]
  },
  {
   "cell_type": "markdown",
   "id": "24316d44",
   "metadata": {},
   "source": [
    "Baseline score for models. From the results, we can see that all of the models are able to predict y with a decent amount of accuracy.<br><br>\n",
    "Best performing models: tfidf_lr, cvec_mb, tfidf_mb"
   ]
  },
  {
   "cell_type": "markdown",
   "id": "53dc6f19",
   "metadata": {},
   "source": [
    "#### Count and Tfidf Vectorizer"
   ]
  },
  {
   "cell_type": "markdown",
   "id": "1d7400e7-c828-4e8d-b67c-e7a845d24f8c",
   "metadata": {},
   "source": [
    "TfidfVectorizer and CountVectorizer both are methods for converting text data into vectors as model can process only numerical data.\n",
    "\n",
    "In CountVectorizer we only count the number of times a word appears in the document which results in biasing in favour of most frequent words. this ends up in ignoring rare words which could have helped is in processing our data more efficiently.\n",
    "\n",
    "To overcome this , we use TfidfVectorizer .\n",
    "\n",
    "In TfidfVectorizer we consider overall document weightage of a word. It helps us in dealing with most frequent words. Using it we can penalize them. TfidfVectorizer weights the word counts by a measure of how often they appear in the documents."
   ]
  },
  {
   "cell_type": "markdown",
   "id": "9012076c-c202-4f16-9fb0-c933d3766d74",
   "metadata": {},
   "source": [
    "#### Multinomial Naive Bayes"
   ]
  },
  {
   "cell_type": "markdown",
   "id": "7a436bc9",
   "metadata": {},
   "source": [
    "The Naive Bayes classifier separates data into different classes according to the Bayes’ Theorem, along with the assumption that all the predictors are independent of one another. It assumes that a particular feature in a class is not related to the presence of other features. <br><br>\n",
    "This algorithm can even outperform highly advanced classification techniques, it is simple and can be built quickly.<br><br>\n",
    "However, it assumes that all features are independent, which may not be true in our case."
   ]
  },
  {
   "cell_type": "code",
   "execution_count": 100,
   "id": "dcea923a",
   "metadata": {},
   "outputs": [
    {
     "data": {
      "text/plain": [
       "GridSearchCV(cv=5,\n",
       "             estimator=Pipeline(steps=[('tvec', TfidfVectorizer()),\n",
       "                                       ('mb', MultinomialNB())]),\n",
       "             n_jobs=-1,\n",
       "             param_grid={'mb__alpha': [1, 2, 3, 4],\n",
       "                         'tvec__max_features': [100, 2000, 3000, 4000],\n",
       "                         'tvec__ngram_range': [(1, 1), (1, 2), (2, 2)],\n",
       "                         'tvec__stop_words': [None, 'english']})"
      ]
     },
     "execution_count": 100,
     "metadata": {},
     "output_type": "execute_result"
    }
   ],
   "source": [
    "# gs for best mb params\n",
    "\n",
    "pipe = Pipeline([\n",
    "    ('tvec', TfidfVectorizer()),\n",
    "    ('mb', MultinomialNB())\n",
    "])\n",
    "params = {\n",
    " 'tvec__max_features':[100, 2000, 3000 ,4000],\n",
    " 'tvec__ngram_range': [(1, 1), (1, 2), (2, 2)],\n",
    " 'tvec__stop_words': [None, 'english'], \n",
    "    'mb__alpha': [1, 2, 3, 4]\n",
    "    \n",
    "}\n",
    "gs = GridSearchCV(pipe, param_grid=params, cv=5, n_jobs=-1)\n",
    "gs.fit(X_train, y_train)"
   ]
  },
  {
   "cell_type": "code",
   "execution_count": 101,
   "id": "e04481ed",
   "metadata": {},
   "outputs": [
    {
     "data": {
      "text/plain": [
       "{'mb__alpha': 1,\n",
       " 'tvec__max_features': 4000,\n",
       " 'tvec__ngram_range': (1, 2),\n",
       " 'tvec__stop_words': 'english'}"
      ]
     },
     "execution_count": 101,
     "metadata": {},
     "output_type": "execute_result"
    }
   ],
   "source": [
    "gs.best_params_"
   ]
  },
  {
   "cell_type": "code",
   "execution_count": 102,
   "id": "7c5c7b17",
   "metadata": {},
   "outputs": [
    {
     "data": {
      "text/plain": [
       "MultinomialNB(alpha=1)"
      ]
     },
     "execution_count": 102,
     "metadata": {},
     "output_type": "execute_result"
    }
   ],
   "source": [
    "# fitting optimal tfidf mb\n",
    "\n",
    "tvec = TfidfVectorizer(max_features = 2000, ngram_range = (1,2), stop_words = 'english')\n",
    "X_train_tvec_mb = tvec.fit_transform(X_train)\n",
    "X_test_tvec_mb = tvec.transform(X_test)\n",
    "tvec_mb = MultinomialNB(alpha = 1)\n",
    "tvec_mb.fit(X_train_tvec_mb, y_train)"
   ]
  },
  {
   "cell_type": "code",
   "execution_count": 103,
   "id": "b7e620f6",
   "metadata": {},
   "outputs": [],
   "source": [
    "# declare df_score\n",
    "\n",
    "df_score = pd.DataFrame(columns = ['Vectorizer', 'Classifier', 'Train Score', 'Test Score', 'Spread', 'Precision', 'Recall', 'Accuracy', 'F1'])"
   ]
  },
  {
   "cell_type": "code",
   "execution_count": 104,
   "id": "dd972a20",
   "metadata": {},
   "outputs": [],
   "source": [
    "# add model scores to df_score\n",
    "\n",
    "add_score(tvec, tvec_mb, X_train_tvec_mb, X_test_tvec_mb, y_train, y_test)"
   ]
  },
  {
   "cell_type": "markdown",
   "id": "39388c40",
   "metadata": {},
   "source": [
    "#### Count Vectorizer with Multinomial NB Classifier"
   ]
  },
  {
   "cell_type": "code",
   "execution_count": 105,
   "id": "1bd78489",
   "metadata": {},
   "outputs": [
    {
     "data": {
      "text/plain": [
       "GridSearchCV(cv=5,\n",
       "             estimator=Pipeline(steps=[('cvec', CountVectorizer()),\n",
       "                                       ('mb', MultinomialNB())]),\n",
       "             n_jobs=-1,\n",
       "             param_grid={'cvec__max_df': [0.5, 0.75, 85],\n",
       "                         'cvec__max_features': [100, 2000, 3000, 4000],\n",
       "                         'cvec__min_df': [2, 4, 6],\n",
       "                         'cvec__ngram_range': [(1, 1), (1, 2), (2, 2)],\n",
       "                         'cvec__stop_words': [None, 'english'],\n",
       "                         'mb__alpha': [1, 2, 3, 4]})"
      ]
     },
     "execution_count": 105,
     "metadata": {},
     "output_type": "execute_result"
    }
   ],
   "source": [
    "# gridsearch best cvec and mb params\n",
    "\n",
    "pipe = Pipeline([\n",
    "    ('cvec', CountVectorizer()),\n",
    "    ('mb', MultinomialNB())\n",
    "])\n",
    "params = {\n",
    " 'cvec__max_features':[100, 2000, 3000, 4000],\n",
    " 'cvec__ngram_range': [(1, 1), (1, 2), (2, 2)],\n",
    " 'cvec__stop_words': [None, 'english'],\n",
    "    'cvec__max_df': [.5, .75, 85],\n",
    "    'cvec__min_df': [2, 4, 6],\n",
    "    'mb__alpha': [1, 2, 3, 4]\n",
    "}\n",
    "gs = GridSearchCV(pipe, param_grid=params, cv=5, n_jobs=-1)\n",
    "gs.fit(X_train, y_train)"
   ]
  },
  {
   "cell_type": "code",
   "execution_count": 106,
   "id": "3b59e06d",
   "metadata": {},
   "outputs": [
    {
     "data": {
      "text/plain": [
       "{'cvec__max_df': 0.5,\n",
       " 'cvec__max_features': 4000,\n",
       " 'cvec__min_df': 2,\n",
       " 'cvec__ngram_range': (1, 2),\n",
       " 'cvec__stop_words': None,\n",
       " 'mb__alpha': 1}"
      ]
     },
     "execution_count": 106,
     "metadata": {},
     "output_type": "execute_result"
    }
   ],
   "source": [
    "# best params for mb\n",
    "\n",
    "gs.best_params_"
   ]
  },
  {
   "cell_type": "code",
   "execution_count": 107,
   "id": "24feac41",
   "metadata": {},
   "outputs": [
    {
     "data": {
      "text/plain": [
       "MultinomialNB(alpha=3)"
      ]
     },
     "execution_count": 107,
     "metadata": {},
     "output_type": "execute_result"
    }
   ],
   "source": [
    "# fitting optimal cvec mb\n",
    "\n",
    "cvec = CountVectorizer(stop_words='english', ngram_range=(\n",
    "    1, 2), max_df=0.5, min_df=2, max_features=4000)\n",
    "\n",
    "X_train_cvec_mb = cvec.fit_transform(X_train)\n",
    "\n",
    "X_test_cvec_mb = cvec.transform(X_test)\n",
    "\n",
    "cvec_mb = MultinomialNB(alpha = 3)\n",
    "\n",
    "cvec_mb.fit(X_train_cvec_mb, y_train)\n"
   ]
  },
  {
   "cell_type": "code",
   "execution_count": 108,
   "id": "7158ff66",
   "metadata": {},
   "outputs": [],
   "source": [
    "# add model scores to df_score\n",
    "\n",
    "add_score(cvec, cvec_mb, X_train_cvec_mb, X_test_cvec_mb, y_train, y_test)"
   ]
  },
  {
   "cell_type": "markdown",
   "id": "fbd6b07e",
   "metadata": {},
   "source": [
    "#### Tfidf Vectorizer with Logistic Regression"
   ]
  },
  {
   "cell_type": "markdown",
   "id": "4da44faf",
   "metadata": {},
   "source": [
    "Logistic regression is a classification algorithm used to find the probability of event success and event failure. It is used when the dependent variable is binary(0/1, True/False, Yes/No, in our case Space/Alien) in nature. It supports categorizing data into discrete classes by studying the relationship from a given set of labelled data. It learns a linear relationship from the given dataset and then introduces a non-linearity in the form of the Sigmoid function.<br><br>\n",
    "It is quick and easy to implement, and model coefficients can be indicators of feature importance.<br><br>\n",
    "However, similarly to Multinomial Naive Bayes, it requires average or no multicollinearity between independent variables."
   ]
  },
  {
   "cell_type": "code",
   "execution_count": 109,
   "id": "61640eb1",
   "metadata": {},
   "outputs": [
    {
     "data": {
      "text/plain": [
       "GridSearchCV(cv=5,\n",
       "             estimator=Pipeline(steps=[('tvec', TfidfVectorizer()),\n",
       "                                       ('lr', LogisticRegression())]),\n",
       "             n_jobs=-1,\n",
       "             param_grid={'lr__C': [1, 0.8, 0.6], 'lr__penalty': ['l1', 'l2'],\n",
       "                         'lr__solver': ['liblinear'],\n",
       "                         'tvec__max_features': [100, 2000, 3000, 4000],\n",
       "                         'tvec__ngram_range': [(1, 1), (1, 2), (2, 2)],\n",
       "                         'tvec__stop_words': [None, 'english']})"
      ]
     },
     "execution_count": 109,
     "metadata": {},
     "output_type": "execute_result"
    }
   ],
   "source": [
    "# gs for best lr params\n",
    "\n",
    "pipe = Pipeline([\n",
    "    ('tvec', TfidfVectorizer()),\n",
    "    ('lr', LogisticRegression())\n",
    "])\n",
    "params = {\n",
    " 'tvec__max_features':[100, 2000, 3000 ,4000],\n",
    " 'tvec__ngram_range': [(1, 1), (1, 2), (2, 2)],\n",
    " 'tvec__stop_words': [None, 'english'], \n",
    "    'lr__solver': ['liblinear'],\n",
    "    'lr__penalty': ['l1', 'l2'],\n",
    "    'lr__C': [1, .8, .6]\n",
    "    \n",
    "#     'lr__alpha': [1, 2, 3, 4]\n",
    "    \n",
    "}\n",
    "gs = GridSearchCV(pipe, param_grid=params, cv=5, n_jobs=-1)\n",
    "gs.fit(X_train, y_train)"
   ]
  },
  {
   "cell_type": "code",
   "execution_count": 110,
   "id": "0eba72e7",
   "metadata": {},
   "outputs": [
    {
     "data": {
      "text/plain": [
       "{'lr__C': 0.8,\n",
       " 'lr__penalty': 'l2',\n",
       " 'lr__solver': 'liblinear',\n",
       " 'tvec__max_features': 2000,\n",
       " 'tvec__ngram_range': (1, 2),\n",
       " 'tvec__stop_words': None}"
      ]
     },
     "execution_count": 110,
     "metadata": {},
     "output_type": "execute_result"
    }
   ],
   "source": [
    "gs.best_params_"
   ]
  },
  {
   "cell_type": "code",
   "execution_count": 111,
   "id": "c95e7d64",
   "metadata": {},
   "outputs": [
    {
     "data": {
      "text/plain": [
       "LogisticRegression(C=1, solver='liblinear')"
      ]
     },
     "execution_count": 111,
     "metadata": {},
     "output_type": "execute_result"
    }
   ],
   "source": [
    "# fitting optimal tfidf lr\n",
    "\n",
    "tvec = TfidfVectorizer(max_features = 2000, ngram_range = (1,1), stop_words = None)\n",
    "X_train_tvec_lr = tvec.fit_transform(X_train)\n",
    "X_test_tvec_lr = tvec.transform(X_test)\n",
    "\n",
    "tvec_lr = LogisticRegression(solver='liblinear', penalty = 'l2', C=1)\n",
    "\n",
    "tvec_lr.fit(X_train_tvec_lr, y_train)"
   ]
  },
  {
   "cell_type": "code",
   "execution_count": 112,
   "id": "a52e11d5",
   "metadata": {},
   "outputs": [],
   "source": [
    "# add model scores to df_score\n",
    "\n",
    "add_score(tvec, tvec_lr, X_train_tvec_lr, X_test_tvec_lr, y_train, y_test)"
   ]
  },
  {
   "cell_type": "markdown",
   "id": "c2cd603e",
   "metadata": {},
   "source": [
    "### 9. Scoring Models"
   ]
  },
  {
   "cell_type": "code",
   "execution_count": 113,
   "id": "0c7f2770",
   "metadata": {},
   "outputs": [
    {
     "data": {
      "text/html": [
       "<div>\n",
       "<style scoped>\n",
       "    .dataframe tbody tr th:only-of-type {\n",
       "        vertical-align: middle;\n",
       "    }\n",
       "\n",
       "    .dataframe tbody tr th {\n",
       "        vertical-align: top;\n",
       "    }\n",
       "\n",
       "    .dataframe thead th {\n",
       "        text-align: right;\n",
       "    }\n",
       "</style>\n",
       "<table border=\"1\" class=\"dataframe\">\n",
       "  <thead>\n",
       "    <tr style=\"text-align: right;\">\n",
       "      <th></th>\n",
       "      <th>Vectorizer</th>\n",
       "      <th>Classifier</th>\n",
       "      <th>Train Score</th>\n",
       "      <th>Test Score</th>\n",
       "      <th>Spread</th>\n",
       "      <th>Precision</th>\n",
       "      <th>Recall</th>\n",
       "      <th>Accuracy</th>\n",
       "      <th>F1</th>\n",
       "    </tr>\n",
       "  </thead>\n",
       "  <tbody>\n",
       "    <tr>\n",
       "      <th>0</th>\n",
       "      <td>TfidfVectorizer</td>\n",
       "      <td>MultinomialNB</td>\n",
       "      <td>0.947105</td>\n",
       "      <td>0.892934</td>\n",
       "      <td>0.054171</td>\n",
       "      <td>0.864151</td>\n",
       "      <td>0.942387</td>\n",
       "      <td>0.892934</td>\n",
       "      <td>0.901575</td>\n",
       "    </tr>\n",
       "    <tr>\n",
       "      <th>1</th>\n",
       "      <td>CountVectorizer</td>\n",
       "      <td>MultinomialNB</td>\n",
       "      <td>0.948535</td>\n",
       "      <td>0.903640</td>\n",
       "      <td>0.044894</td>\n",
       "      <td>0.877863</td>\n",
       "      <td>0.946502</td>\n",
       "      <td>0.903640</td>\n",
       "      <td>0.910891</td>\n",
       "    </tr>\n",
       "    <tr>\n",
       "      <th>2</th>\n",
       "      <td>TfidfVectorizer</td>\n",
       "      <td>LogisticRegression</td>\n",
       "      <td>0.954968</td>\n",
       "      <td>0.903640</td>\n",
       "      <td>0.051328</td>\n",
       "      <td>0.899194</td>\n",
       "      <td>0.917695</td>\n",
       "      <td>0.903640</td>\n",
       "      <td>0.908350</td>\n",
       "    </tr>\n",
       "  </tbody>\n",
       "</table>\n",
       "</div>"
      ],
      "text/plain": [
       "        Vectorizer          Classifier  Train Score  Test Score    Spread  \\\n",
       "0  TfidfVectorizer       MultinomialNB     0.947105    0.892934  0.054171   \n",
       "1  CountVectorizer       MultinomialNB     0.948535    0.903640  0.044894   \n",
       "2  TfidfVectorizer  LogisticRegression     0.954968    0.903640  0.051328   \n",
       "\n",
       "   Precision    Recall  Accuracy        F1  \n",
       "0   0.864151  0.942387  0.892934  0.901575  \n",
       "1   0.877863  0.946502  0.903640  0.910891  \n",
       "2   0.899194  0.917695  0.903640  0.908350  "
      ]
     },
     "execution_count": 113,
     "metadata": {},
     "output_type": "execute_result"
    }
   ],
   "source": [
    "df_score"
   ]
  },
  {
   "cell_type": "markdown",
   "id": "f810882d",
   "metadata": {},
   "source": [
    "The top 3 scoring models show a very close accuracy and f1 score. <br><br>\n",
    "\n",
    "Accuracy is the ratio of correctly predicted observations to the total observations.<br><br>\n",
    "\n",
    "F1 score is the harmonic mean between precision and recall.<br><br>\n",
    "\n",
    "We are interested in being able to accurately classify posts from aliens to space. A score with low False Negatives and False Positives is ideal. Thus, we want a good F1 score.<br><br>\n",
    "A\n",
    "ll 3 models are able to classify the posts accurately 88% to 90% of the time, with Multinomial MB with Count Vectorizer being the most accurate."
   ]
  },
  {
   "cell_type": "code",
   "execution_count": 114,
   "id": "db5738fa",
   "metadata": {},
   "outputs": [
    {
     "data": {
      "image/png": "[encoded data removed]",
      "text/plain": [
       "<Figure size 432x288 with 2 Axes>"
      ]
     },
     "metadata": {
      "needs_background": "light"
     },
     "output_type": "display_data"
    }
   ],
   "source": [
    "ConfusionMatrixDisplay.from_predictions(y_test, cvec_mb.predict(X_test_cvec_mb), cmap='Blues')\n",
    "plt.title('Multinomial NB with CVec');"
   ]
  },
  {
   "cell_type": "code",
   "execution_count": 115,
   "id": "419cfef4",
   "metadata": {},
   "outputs": [
    {
     "data": {
      "image/png": "[encoded data removed]",
      "text/plain": [
       "<Figure size 432x288 with 2 Axes>"
      ]
     },
     "metadata": {
      "needs_background": "light"
     },
     "output_type": "display_data"
    }
   ],
   "source": [
    "ConfusionMatrixDisplay.from_predictions(y_test, tvec_mb.predict(X_test_tvec_mb), cmap='Blues')\n",
    "plt.title('Multinomial NB with TVec');"
   ]
  },
  {
   "cell_type": "code",
   "execution_count": 116,
   "id": "b5d92604",
   "metadata": {},
   "outputs": [
    {
     "data": {
      "image/png": "[encoded data removed]",
      "text/plain": [
       "<Figure size 432x288 with 2 Axes>"
      ]
     },
     "metadata": {
      "needs_background": "light"
     },
     "output_type": "display_data"
    }
   ],
   "source": [
    "ConfusionMatrixDisplay.from_predictions(y_test, tvec_lr.predict(X_test_tvec_lr), cmap='Blues')\n",
    "plt.title('Logistic Regression with TVec');"
   ]
  },
  {
   "cell_type": "markdown",
   "id": "23e44a4b",
   "metadata": {},
   "source": [
    "The confusion matrices show the number of False Positives and False Negatives that were predicted by our models. They are the 2 numbers we want to decrease in order to improve accuracy. <br><br>\n",
    "\n",
    "From the matrices, we can see that the model with the highest FP/FN is Multinomial NB with Tfidf Vectorizer. It is also more likely to predict a FN as compared to the other models.<br><br>\n",
    "\n",
    "The model with the least False Positives + False Negatives is Logistic Regression with Tfidf Vectorizer"
   ]
  },
  {
   "cell_type": "markdown",
   "id": "03f41a6e",
   "metadata": {},
   "source": [
    "#### AUC Curve"
   ]
  },
  {
   "cell_type": "code",
   "execution_count": 117,
   "id": "15292a4a",
   "metadata": {},
   "outputs": [
    {
     "data": {
      "image/png": "[encoded data removed]",
      "text/plain": [
       "<Figure size 432x288 with 1 Axes>"
      ]
     },
     "metadata": {
      "needs_background": "light"
     },
     "output_type": "display_data"
    }
   ],
   "source": [
    "cvec_mb_disp = plot_roc_curve(cvec_mb, X_test_cvec_mb, y_test)\n",
    "tvec_mb_disp = plot_roc_curve(tvec_mb, X_test_tvec_mb, y_test, ax = cvec_mb_disp.ax_)\n",
    "tvec_lr_disp = plot_roc_curve(tvec_lr, X_test_tvec_lr, y_test, ax = tvec_mb_disp.ax_)\n",
    "plt.plot([0, 1], [0, 1],\n",
    "         label='baseline', linestyle='--') # to simulate random guess \n",
    "plt.show();"
   ]
  },
  {
   "cell_type": "markdown",
   "id": "fb11f943",
   "metadata": {},
   "source": [
    "The baseline reference line is depicted to portray how good/bad our model is. If the FPR = TPR then the model curve (blue line) will lie exactly on the orange line. Signalling an equivalent FP:TP ratio. We want a model that minimizes the FPs and FNs so we can maximize with more TPs and TNs. <br><br>\n",
    "All 3 models performed similarly, with Logistic Regression with Tfidf Vectorizer inching ahead."
   ]
  },
  {
   "cell_type": "markdown",
   "id": "3e01dc45",
   "metadata": {},
   "source": [
    "### 10. Choice of Production Model: Logistic Regression with Tfidf Vectorizer."
   ]
  },
  {
   "cell_type": "markdown",
   "id": "eb0c8e88",
   "metadata": {},
   "source": [
    "All 3 of the best performing models among a total of 6 models performed fairly well against each other, with accuracy scores of 89% to 90%, recall score of 92% to 95% and precision score of 86% to 90%. \n",
    "<br><br>\n",
    "The F1 scores, which conveys the balance between precision and recall, are also similar ranging from 90% to 91%.\n",
    "<br><br>\n",
    "The AUC scores range from 94% to 95%.\n",
    "<br><br>\n",
    "As stated by the above scores, all 3 models will be able to predict whether a post is from space or aliens very well. Given a post, they are able to classify it to the correct subreddit about 90% of the time.<br><br>\n",
    "\n",
    "We chose Logistic Regression with Tfidf Vectorizer to put into production as it is the simplest and the least 'blackbox' of the models. <br><br>\n",
    "Although Logistic Regression does not handle non linear features well, it did good in our case."
   ]
  },
  {
   "cell_type": "markdown",
   "id": "9107ea81",
   "metadata": {},
   "source": [
    "#### Feature Importance in chosen model, Logistric Regression with Tfidf Vectorizer"
   ]
  },
  {
   "cell_type": "code",
   "execution_count": 118,
   "id": "235c4505",
   "metadata": {},
   "outputs": [],
   "source": [
    "coefs = tvec_lr.coef_.flatten()"
   ]
  },
  {
   "cell_type": "code",
   "execution_count": 119,
   "id": "881af423",
   "metadata": {},
   "outputs": [],
   "source": [
    "feature_names = tvec.get_feature_names_out()"
   ]
  },
  {
   "cell_type": "code",
   "execution_count": 120,
   "id": "c3917581",
   "metadata": {},
   "outputs": [],
   "source": [
    "zipped = zip(feature_names, coefs)"
   ]
  },
  {
   "cell_type": "code",
   "execution_count": 121,
   "id": "c713494e",
   "metadata": {},
   "outputs": [],
   "source": [
    "feature_importance = pd.DataFrame(zipped, columns = ['feature', 'coefficients'])"
   ]
  },
  {
   "cell_type": "code",
   "execution_count": 122,
   "id": "a46da741",
   "metadata": {},
   "outputs": [],
   "source": [
    "feature_importance['odds'] = feature_importance['coefficients'].apply(lambda x: np.exp(x))"
   ]
  },
  {
   "cell_type": "code",
   "execution_count": 123,
   "id": "1835b6e5",
   "metadata": {},
   "outputs": [
    {
     "data": {
      "text/html": [
       "<div>\n",
       "<style scoped>\n",
       "    .dataframe tbody tr th:only-of-type {\n",
       "        vertical-align: middle;\n",
       "    }\n",
       "\n",
       "    .dataframe tbody tr th {\n",
       "        vertical-align: top;\n",
       "    }\n",
       "\n",
       "    .dataframe thead th {\n",
       "        text-align: right;\n",
       "    }\n",
       "</style>\n",
       "<table border=\"1\" class=\"dataframe\">\n",
       "  <thead>\n",
       "    <tr style=\"text-align: right;\">\n",
       "      <th></th>\n",
       "      <th>feature</th>\n",
       "      <th>coefficients</th>\n",
       "      <th>odds</th>\n",
       "    </tr>\n",
       "  </thead>\n",
       "  <tbody>\n",
       "    <tr>\n",
       "      <th>44</th>\n",
       "      <td>alien</td>\n",
       "      <td>6.524514</td>\n",
       "      <td>681.648612</td>\n",
       "    </tr>\n",
       "    <tr>\n",
       "      <th>1854</th>\n",
       "      <td>ufo</td>\n",
       "      <td>3.428616</td>\n",
       "      <td>30.833927</td>\n",
       "    </tr>\n",
       "    <tr>\n",
       "      <th>1658</th>\n",
       "      <td>specie</td>\n",
       "      <td>2.294066</td>\n",
       "      <td>9.915173</td>\n",
       "    </tr>\n",
       "    <tr>\n",
       "      <th>854</th>\n",
       "      <td>human</td>\n",
       "      <td>1.898876</td>\n",
       "      <td>6.678384</td>\n",
       "    </tr>\n",
       "    <tr>\n",
       "      <th>1285</th>\n",
       "      <td>people</td>\n",
       "      <td>1.579599</td>\n",
       "      <td>4.853008</td>\n",
       "    </tr>\n",
       "  </tbody>\n",
       "</table>\n",
       "</div>"
      ],
      "text/plain": [
       "     feature  coefficients        odds\n",
       "44     alien      6.524514  681.648612\n",
       "1854     ufo      3.428616   30.833927\n",
       "1658  specie      2.294066    9.915173\n",
       "854    human      1.898876    6.678384\n",
       "1285  people      1.579599    4.853008"
      ]
     },
     "execution_count": 123,
     "metadata": {},
     "output_type": "execute_result"
    }
   ],
   "source": [
    "# feature importance for alien\n",
    "\n",
    "feature_importance.sort_values(by = 'odds', ascending = False).head()"
   ]
  },
  {
   "cell_type": "markdown",
   "id": "3192ae5c",
   "metadata": {},
   "source": [
    "For every one-unit increase in [X variable], the odds that the observation is in (y class) are [coefficient] times as large as the odds that the observation is not in (y class) when all other variables are held constant."
   ]
  },
  {
   "cell_type": "code",
   "execution_count": 124,
   "id": "de8e09c8",
   "metadata": {
    "scrolled": true
   },
   "outputs": [
    {
     "data": {
      "text/html": [
       "<div>\n",
       "<style scoped>\n",
       "    .dataframe tbody tr th:only-of-type {\n",
       "        vertical-align: middle;\n",
       "    }\n",
       "\n",
       "    .dataframe tbody tr th {\n",
       "        vertical-align: top;\n",
       "    }\n",
       "\n",
       "    .dataframe thead th {\n",
       "        text-align: right;\n",
       "    }\n",
       "</style>\n",
       "<table border=\"1\" class=\"dataframe\">\n",
       "  <thead>\n",
       "    <tr style=\"text-align: right;\">\n",
       "      <th></th>\n",
       "      <th>feature</th>\n",
       "      <th>coefficients</th>\n",
       "      <th>odds</th>\n",
       "    </tr>\n",
       "  </thead>\n",
       "  <tbody>\n",
       "    <tr>\n",
       "      <th>1649</th>\n",
       "      <td>space</td>\n",
       "      <td>-4.379317</td>\n",
       "      <td>0.012534</td>\n",
       "    </tr>\n",
       "    <tr>\n",
       "      <th>1767</th>\n",
       "      <td>telescope</td>\n",
       "      <td>-2.465356</td>\n",
       "      <td>0.084979</td>\n",
       "    </tr>\n",
       "    <tr>\n",
       "      <th>985</th>\n",
       "      <td>launch</td>\n",
       "      <td>-2.355661</td>\n",
       "      <td>0.094831</td>\n",
       "    </tr>\n",
       "    <tr>\n",
       "      <th>1135</th>\n",
       "      <td>moon</td>\n",
       "      <td>-2.098222</td>\n",
       "      <td>0.122674</td>\n",
       "    </tr>\n",
       "    <tr>\n",
       "      <th>948</th>\n",
       "      <td>jwst</td>\n",
       "      <td>-1.806170</td>\n",
       "      <td>0.164282</td>\n",
       "    </tr>\n",
       "    <tr>\n",
       "      <th>...</th>\n",
       "      <td>...</td>\n",
       "      <td>...</td>\n",
       "      <td>...</td>\n",
       "    </tr>\n",
       "    <tr>\n",
       "      <th>1285</th>\n",
       "      <td>people</td>\n",
       "      <td>1.579599</td>\n",
       "      <td>4.853008</td>\n",
       "    </tr>\n",
       "    <tr>\n",
       "      <th>854</th>\n",
       "      <td>human</td>\n",
       "      <td>1.898876</td>\n",
       "      <td>6.678384</td>\n",
       "    </tr>\n",
       "    <tr>\n",
       "      <th>1658</th>\n",
       "      <td>specie</td>\n",
       "      <td>2.294066</td>\n",
       "      <td>9.915173</td>\n",
       "    </tr>\n",
       "    <tr>\n",
       "      <th>1854</th>\n",
       "      <td>ufo</td>\n",
       "      <td>3.428616</td>\n",
       "      <td>30.833927</td>\n",
       "    </tr>\n",
       "    <tr>\n",
       "      <th>44</th>\n",
       "      <td>alien</td>\n",
       "      <td>6.524514</td>\n",
       "      <td>681.648612</td>\n",
       "    </tr>\n",
       "  </tbody>\n",
       "</table>\n",
       "<p>2000 rows × 3 columns</p>\n",
       "</div>"
      ],
      "text/plain": [
       "        feature  coefficients        odds\n",
       "1649      space     -4.379317    0.012534\n",
       "1767  telescope     -2.465356    0.084979\n",
       "985      launch     -2.355661    0.094831\n",
       "1135       moon     -2.098222    0.122674\n",
       "948        jwst     -1.806170    0.164282\n",
       "...         ...           ...         ...\n",
       "1285     people      1.579599    4.853008\n",
       "854       human      1.898876    6.678384\n",
       "1658     specie      2.294066    9.915173\n",
       "1854        ufo      3.428616   30.833927\n",
       "44        alien      6.524514  681.648612\n",
       "\n",
       "[2000 rows x 3 columns]"
      ]
     },
     "execution_count": 124,
     "metadata": {},
     "output_type": "execute_result"
    }
   ],
   "source": [
    "# feature importance for space\n",
    "\n",
    "feature_importance.sort_values(by = 'odds', ascending = True)"
   ]
  },
  {
   "cell_type": "code",
   "execution_count": 125,
   "id": "2c27f229",
   "metadata": {
    "scrolled": true
   },
   "outputs": [],
   "source": [
    "# Sort the features by the absolute value of their coefficient\n",
    "feature_importance[\"abs_value\"] = feature_importance[\"coefficients\"].apply(lambda x: abs(x))\n",
    "feature_importance[\"colors\"] = feature_importance[\"coefficients\"].apply(lambda x: \"green\" if x > 0 else \"red\")\n",
    "feature_importance = feature_importance.sort_values(\"abs_value\", ascending=False)"
   ]
  },
  {
   "cell_type": "code",
   "execution_count": 126,
   "id": "20667e71",
   "metadata": {},
   "outputs": [
    {
     "data": {
      "image/png": "[encoded data removed]",
      "text/plain": [
       "<Figure size 864x504 with 1 Axes>"
      ]
     },
     "metadata": {
      "needs_background": "light"
     },
     "output_type": "display_data"
    }
   ],
   "source": [
    "fig, ax = plt.subplots(1, 1, figsize=(12, 7))\n",
    "sns.barplot(x=\"feature\",\n",
    "            y=\"coefficients\",\n",
    "            data=feature_importance.head(20),\n",
    "           palette=feature_importance.head(20)[\"colors\"])\n",
    "ax.set_xticklabels(ax.get_xticklabels(), rotation=90, fontsize=20)\n",
    "ax.set_title(\"Top 20 Features\", fontsize=25)\n",
    "ax.set_ylabel(\"Coef\", fontsize=22)\n",
    "ax.set_xlabel(\"Feature Name\", fontsize=22);"
   ]
  },
  {
   "cell_type": "markdown",
   "id": "1492c963",
   "metadata": {},
   "source": [
    "Looking at the Feature Importance, we can see that the Logistic Regression model classifies the post using the feature importance of each word. <br><br>\n",
    "\n",
    "Space posts on the other hand, contain space, telescope, launch, jwst ( James Webb Space Telescope ), moon, sun, etc. These words are words that represent more factual topics, like the recent launch of the James Webb Space Telescope into space. <br><br>\n",
    "\n",
    "Aliens posts contain words like aliens, ufo, specie(s), human, extraterrestrial etc. These words could be used in a context where the author is bringing up things like aliens in ufos, different types of alien species, etc.<br><br>\n",
    "\n",
    "With these features, we will be able to do target marketing. By including these words in the advertisements, or using these words as headlines for articles, "
   ]
  },
  {
   "cell_type": "markdown",
   "id": "4a9a6564",
   "metadata": {},
   "source": [
    "#### Falsely Predicted Text"
   ]
  },
  {
   "cell_type": "code",
   "execution_count": 127,
   "id": "3ce2259e",
   "metadata": {},
   "outputs": [],
   "source": [
    "y_pred_doublecheck = tvec_lr.predict(X_test_tvec_lr)"
   ]
  },
  {
   "cell_type": "code",
   "execution_count": 128,
   "id": "7cea9431",
   "metadata": {},
   "outputs": [],
   "source": [
    "df_doublecheck = pd.DataFrame()"
   ]
  },
  {
   "cell_type": "code",
   "execution_count": 129,
   "id": "421097b4",
   "metadata": {},
   "outputs": [],
   "source": [
    "df_doublecheck['X_test'] = X_test"
   ]
  },
  {
   "cell_type": "code",
   "execution_count": 130,
   "id": "75f342ca",
   "metadata": {},
   "outputs": [],
   "source": [
    "df_doublecheck['y_test'] = y_test"
   ]
  },
  {
   "cell_type": "code",
   "execution_count": 131,
   "id": "306328e3",
   "metadata": {},
   "outputs": [],
   "source": [
    "df_doublecheck['y_pred_doublecheck'] = y_pred_doublecheck"
   ]
  },
  {
   "cell_type": "code",
   "execution_count": 132,
   "id": "8a611e42",
   "metadata": {},
   "outputs": [],
   "source": [
    "df_doublecheck.reset_index(drop = True, inplace = True)"
   ]
  },
  {
   "cell_type": "code",
   "execution_count": 133,
   "id": "c77f5845",
   "metadata": {
    "scrolled": true
   },
   "outputs": [
    {
     "data": {
      "text/html": [
       "<div>\n",
       "<style scoped>\n",
       "    .dataframe tbody tr th:only-of-type {\n",
       "        vertical-align: middle;\n",
       "    }\n",
       "\n",
       "    .dataframe tbody tr th {\n",
       "        vertical-align: top;\n",
       "    }\n",
       "\n",
       "    .dataframe thead th {\n",
       "        text-align: right;\n",
       "    }\n",
       "</style>\n",
       "<table border=\"1\" class=\"dataframe\">\n",
       "  <thead>\n",
       "    <tr style=\"text-align: right;\">\n",
       "      <th></th>\n",
       "      <th>X_test</th>\n",
       "      <th>y_test</th>\n",
       "      <th>y_pred_doublecheck</th>\n",
       "    </tr>\n",
       "  </thead>\n",
       "  <tbody>\n",
       "    <tr>\n",
       "      <th>0</th>\n",
       "      <td>like reusable rocket like satellite internet h...</td>\n",
       "      <td>0</td>\n",
       "      <td>0</td>\n",
       "    </tr>\n",
       "    <tr>\n",
       "      <th>1</th>\n",
       "      <td>think american netflix vpn australian netflix ...</td>\n",
       "      <td>1</td>\n",
       "      <td>1</td>\n",
       "    </tr>\n",
       "    <tr>\n",
       "      <th>2</th>\n",
       "      <td>mainly wondering impact rocket generalised cre...</td>\n",
       "      <td>0</td>\n",
       "      <td>0</td>\n",
       "    </tr>\n",
       "    <tr>\n",
       "      <th>3</th>\n",
       "      <td>place amazon site tell reliable selling fakehe...</td>\n",
       "      <td>0</td>\n",
       "      <td>0</td>\n",
       "    </tr>\n",
       "    <tr>\n",
       "      <th>4</th>\n",
       "      <td>look year old lot curiosity going know led bel...</td>\n",
       "      <td>0</td>\n",
       "      <td>0</td>\n",
       "    </tr>\n",
       "    <tr>\n",
       "      <th>...</th>\n",
       "      <td>...</td>\n",
       "      <td>...</td>\n",
       "      <td>...</td>\n",
       "    </tr>\n",
       "    <tr>\n",
       "      <th>462</th>\n",
       "      <td>know drone flying mar currently right mark rob...</td>\n",
       "      <td>0</td>\n",
       "      <td>0</td>\n",
       "    </tr>\n",
       "    <tr>\n",
       "      <th>463</th>\n",
       "      <td>good math tried calculate long would take coul...</td>\n",
       "      <td>0</td>\n",
       "      <td>0</td>\n",
       "    </tr>\n",
       "    <tr>\n",
       "      <th>464</th>\n",
       "      <td>least seems though many sighting story come ut...</td>\n",
       "      <td>1</td>\n",
       "      <td>1</td>\n",
       "    </tr>\n",
       "    <tr>\n",
       "      <th>465</th>\n",
       "      <td>unscrewed slang uncrewed meaning hear time tim...</td>\n",
       "      <td>0</td>\n",
       "      <td>0</td>\n",
       "    </tr>\n",
       "    <tr>\n",
       "      <th>466</th>\n",
       "      <td>image say distance completed amp yet scale bot...</td>\n",
       "      <td>0</td>\n",
       "      <td>0</td>\n",
       "    </tr>\n",
       "  </tbody>\n",
       "</table>\n",
       "<p>467 rows × 3 columns</p>\n",
       "</div>"
      ],
      "text/plain": [
       "                                                X_test  y_test  \\\n",
       "0    like reusable rocket like satellite internet h...       0   \n",
       "1    think american netflix vpn australian netflix ...       1   \n",
       "2    mainly wondering impact rocket generalised cre...       0   \n",
       "3    place amazon site tell reliable selling fakehe...       0   \n",
       "4    look year old lot curiosity going know led bel...       0   \n",
       "..                                                 ...     ...   \n",
       "462  know drone flying mar currently right mark rob...       0   \n",
       "463  good math tried calculate long would take coul...       0   \n",
       "464  least seems though many sighting story come ut...       1   \n",
       "465  unscrewed slang uncrewed meaning hear time tim...       0   \n",
       "466  image say distance completed amp yet scale bot...       0   \n",
       "\n",
       "     y_pred_doublecheck  \n",
       "0                     0  \n",
       "1                     1  \n",
       "2                     0  \n",
       "3                     0  \n",
       "4                     0  \n",
       "..                  ...  \n",
       "462                   0  \n",
       "463                   0  \n",
       "464                   1  \n",
       "465                   0  \n",
       "466                   0  \n",
       "\n",
       "[467 rows x 3 columns]"
      ]
     },
     "execution_count": 133,
     "metadata": {},
     "output_type": "execute_result"
    }
   ],
   "source": [
    "# Falsely predicted text\n",
    "\n",
    "df_doublecheck"
   ]
  },
  {
   "cell_type": "code",
   "execution_count": 134,
   "id": "f46776df",
   "metadata": {
    "scrolled": true
   },
   "outputs": [
    {
     "data": {
      "text/html": [
       "<div>\n",
       "<style scoped>\n",
       "    .dataframe tbody tr th:only-of-type {\n",
       "        vertical-align: middle;\n",
       "    }\n",
       "\n",
       "    .dataframe tbody tr th {\n",
       "        vertical-align: top;\n",
       "    }\n",
       "\n",
       "    .dataframe thead th {\n",
       "        text-align: right;\n",
       "    }\n",
       "</style>\n",
       "<table border=\"1\" class=\"dataframe\">\n",
       "  <thead>\n",
       "    <tr style=\"text-align: right;\">\n",
       "      <th></th>\n",
       "      <th>X_test</th>\n",
       "      <th>y_test</th>\n",
       "      <th>y_pred_doublecheck</th>\n",
       "    </tr>\n",
       "  </thead>\n",
       "  <tbody>\n",
       "    <tr>\n",
       "      <th>43</th>\n",
       "      <td>per title best source learn sumerian tablet in...</td>\n",
       "      <td>1</td>\n",
       "      <td>0</td>\n",
       "    </tr>\n",
       "    <tr>\n",
       "      <th>57</th>\n",
       "      <td>yeah get even humanoid one probably look human...</td>\n",
       "      <td>0</td>\n",
       "      <td>1</td>\n",
       "    </tr>\n",
       "    <tr>\n",
       "      <th>69</th>\n",
       "      <td>tr b patent triangular spacecraft right f ing ...</td>\n",
       "      <td>1</td>\n",
       "      <td>0</td>\n",
       "    </tr>\n",
       "    <tr>\n",
       "      <th>75</th>\n",
       "      <td>thinking lot lately idea potential alien plane...</td>\n",
       "      <td>0</td>\n",
       "      <td>1</td>\n",
       "    </tr>\n",
       "    <tr>\n",
       "      <th>85</th>\n",
       "      <td>integral theory universetheory</td>\n",
       "      <td>0</td>\n",
       "      <td>1</td>\n",
       "    </tr>\n",
       "    <tr>\n",
       "      <th>88</th>\n",
       "      <td>paul hellyer former canadian defence minister ...</td>\n",
       "      <td>1</td>\n",
       "      <td>0</td>\n",
       "    </tr>\n",
       "    <tr>\n",
       "      <th>96</th>\n",
       "      <td>dr sonny white famous infamous sensational cla...</td>\n",
       "      <td>0</td>\n",
       "      <td>1</td>\n",
       "    </tr>\n",
       "    <tr>\n",
       "      <th>97</th>\n",
       "      <td>probably preaching choir mentality defeatist s...</td>\n",
       "      <td>0</td>\n",
       "      <td>1</td>\n",
       "    </tr>\n",
       "    <tr>\n",
       "      <th>109</th>\n",
       "      <td>seems like info subject disorganized actually ...</td>\n",
       "      <td>1</td>\n",
       "      <td>0</td>\n",
       "    </tr>\n",
       "    <tr>\n",
       "      <th>142</th>\n",
       "      <td>recorded something moving oddly sky november t...</td>\n",
       "      <td>1</td>\n",
       "      <td>0</td>\n",
       "    </tr>\n",
       "    <tr>\n",
       "      <th>145</th>\n",
       "      <td>given drake equation fact universe infinite fa...</td>\n",
       "      <td>0</td>\n",
       "      <td>1</td>\n",
       "    </tr>\n",
       "    <tr>\n",
       "      <th>148</th>\n",
       "      <td>order human come theory approximates reality i...</td>\n",
       "      <td>0</td>\n",
       "      <td>1</td>\n",
       "    </tr>\n",
       "    <tr>\n",
       "      <th>181</th>\n",
       "      <td>good podcast recommendation super bored intere...</td>\n",
       "      <td>1</td>\n",
       "      <td>0</td>\n",
       "    </tr>\n",
       "    <tr>\n",
       "      <th>187</th>\n",
       "      <td>nasa warns massive asteroid headed towards ear...</td>\n",
       "      <td>1</td>\n",
       "      <td>0</td>\n",
       "    </tr>\n",
       "    <tr>\n",
       "      <th>195</th>\n",
       "      <td>trulytrue true neuroscience major something ma...</td>\n",
       "      <td>1</td>\n",
       "      <td>0</td>\n",
       "    </tr>\n",
       "    <tr>\n",
       "      <th>209</th>\n",
       "      <td>thought day watching kurtzegat video youtube a...</td>\n",
       "      <td>0</td>\n",
       "      <td>1</td>\n",
       "    </tr>\n",
       "    <tr>\n",
       "      <th>221</th>\n",
       "      <td>disclosure james webb telescope launched next ...</td>\n",
       "      <td>1</td>\n",
       "      <td>0</td>\n",
       "    </tr>\n",
       "    <tr>\n",
       "      <th>237</th>\n",
       "      <td>day ago upset two computer simultaneously one ...</td>\n",
       "      <td>0</td>\n",
       "      <td>1</td>\n",
       "    </tr>\n",
       "    <tr>\n",
       "      <th>239</th>\n",
       "      <td>people damaged destroyed body use stem cell re...</td>\n",
       "      <td>0</td>\n",
       "      <td>1</td>\n",
       "    </tr>\n",
       "    <tr>\n",
       "      <th>240</th>\n",
       "      <td>watched first episode mankind dad belief end e...</td>\n",
       "      <td>0</td>\n",
       "      <td>1</td>\n",
       "    </tr>\n",
       "    <tr>\n",
       "      <th>241</th>\n",
       "      <td>tomorrow bday thinking shooting laser pointer ...</td>\n",
       "      <td>1</td>\n",
       "      <td>0</td>\n",
       "    </tr>\n",
       "    <tr>\n",
       "      <th>249</th>\n",
       "      <td>apart multitude story betty amp barney hill bo...</td>\n",
       "      <td>1</td>\n",
       "      <td>0</td>\n",
       "    </tr>\n",
       "    <tr>\n",
       "      <th>251</th>\n",
       "      <td>even going pretend know talking thought celest...</td>\n",
       "      <td>0</td>\n",
       "      <td>1</td>\n",
       "    </tr>\n",
       "    <tr>\n",
       "      <th>255</th>\n",
       "      <td>like everyone rag sl stacked week starship sta...</td>\n",
       "      <td>0</td>\n",
       "      <td>1</td>\n",
       "    </tr>\n",
       "    <tr>\n",
       "      <th>261</th>\n",
       "      <td>object look nearly identical saw like extremel...</td>\n",
       "      <td>1</td>\n",
       "      <td>0</td>\n",
       "    </tr>\n",
       "    <tr>\n",
       "      <th>268</th>\n",
       "      <td>life common intelligent life result galaxy wou...</td>\n",
       "      <td>0</td>\n",
       "      <td>1</td>\n",
       "    </tr>\n",
       "    <tr>\n",
       "      <th>270</th>\n",
       "      <td>goal become level beyond type civilization tur...</td>\n",
       "      <td>1</td>\n",
       "      <td>0</td>\n",
       "    </tr>\n",
       "    <tr>\n",
       "      <th>281</th>\n",
       "      <td>barring concrete evidence like somehow preserv...</td>\n",
       "      <td>0</td>\n",
       "      <td>1</td>\n",
       "    </tr>\n",
       "    <tr>\n",
       "      <th>282</th>\n",
       "      <td>lot discussion alien would aggressive peaceful...</td>\n",
       "      <td>0</td>\n",
       "      <td>1</td>\n",
       "    </tr>\n",
       "    <tr>\n",
       "      <th>318</th>\n",
       "      <td>thinking distance galaxy closest andromeda nev...</td>\n",
       "      <td>0</td>\n",
       "      <td>1</td>\n",
       "    </tr>\n",
       "    <tr>\n",
       "      <th>325</th>\n",
       "      <td>thought share since film good miss case missed...</td>\n",
       "      <td>0</td>\n",
       "      <td>1</td>\n",
       "    </tr>\n",
       "    <tr>\n",
       "      <th>327</th>\n",
       "      <td>anyone created digital model rendering saturn ...</td>\n",
       "      <td>0</td>\n",
       "      <td>1</td>\n",
       "    </tr>\n",
       "    <tr>\n",
       "      <th>337</th>\n",
       "      <td>fun entertain idea human becoming spacefaring ...</td>\n",
       "      <td>0</td>\n",
       "      <td>1</td>\n",
       "    </tr>\n",
       "    <tr>\n",
       "      <th>343</th>\n",
       "      <td>amp x b processing video evrco xgjkufo went po...</td>\n",
       "      <td>1</td>\n",
       "      <td>0</td>\n",
       "    </tr>\n",
       "    <tr>\n",
       "      <th>359</th>\n",
       "      <td>saw lot white debris zipping around telescope ...</td>\n",
       "      <td>1</td>\n",
       "      <td>0</td>\n",
       "    </tr>\n",
       "    <tr>\n",
       "      <th>362</th>\n",
       "      <td>space future whether near future far future ev...</td>\n",
       "      <td>1</td>\n",
       "      <td>0</td>\n",
       "    </tr>\n",
       "    <tr>\n",
       "      <th>374</th>\n",
       "      <td>opportunity interview greg leonard planetary s...</td>\n",
       "      <td>0</td>\n",
       "      <td>1</td>\n",
       "    </tr>\n",
       "    <tr>\n",
       "      <th>384</th>\n",
       "      <td>hi community created shirt design capturing mo...</td>\n",
       "      <td>0</td>\n",
       "      <td>1</td>\n",
       "    </tr>\n",
       "    <tr>\n",
       "      <th>386</th>\n",
       "      <td>found something sus near area wanna check clic...</td>\n",
       "      <td>1</td>\n",
       "      <td>0</td>\n",
       "    </tr>\n",
       "    <tr>\n",
       "      <th>392</th>\n",
       "      <td>proposal scientific view go like world stacked...</td>\n",
       "      <td>0</td>\n",
       "      <td>1</td>\n",
       "    </tr>\n",
       "    <tr>\n",
       "      <th>393</th>\n",
       "      <td>back deck friend couple month ago something dr...</td>\n",
       "      <td>0</td>\n",
       "      <td>1</td>\n",
       "    </tr>\n",
       "    <tr>\n",
       "      <th>400</th>\n",
       "      <td>contradiction bold read information cannot sha...</td>\n",
       "      <td>1</td>\n",
       "      <td>0</td>\n",
       "    </tr>\n",
       "    <tr>\n",
       "      <th>419</th>\n",
       "      <td>say mean one start video animation loop indest...</td>\n",
       "      <td>1</td>\n",
       "      <td>0</td>\n",
       "    </tr>\n",
       "    <tr>\n",
       "      <th>455</th>\n",
       "      <td>religious science enjoyer person feeling bit d...</td>\n",
       "      <td>0</td>\n",
       "      <td>1</td>\n",
       "    </tr>\n",
       "    <tr>\n",
       "      <th>456</th>\n",
       "      <td>hey im looking getting tattoo xenomorph wearin...</td>\n",
       "      <td>1</td>\n",
       "      <td>0</td>\n",
       "    </tr>\n",
       "  </tbody>\n",
       "</table>\n",
       "</div>"
      ],
      "text/plain": [
       "                                                X_test  y_test  \\\n",
       "43   per title best source learn sumerian tablet in...       1   \n",
       "57   yeah get even humanoid one probably look human...       0   \n",
       "69   tr b patent triangular spacecraft right f ing ...       1   \n",
       "75   thinking lot lately idea potential alien plane...       0   \n",
       "85                      integral theory universetheory       0   \n",
       "88   paul hellyer former canadian defence minister ...       1   \n",
       "96   dr sonny white famous infamous sensational cla...       0   \n",
       "97   probably preaching choir mentality defeatist s...       0   \n",
       "109  seems like info subject disorganized actually ...       1   \n",
       "142  recorded something moving oddly sky november t...       1   \n",
       "145  given drake equation fact universe infinite fa...       0   \n",
       "148  order human come theory approximates reality i...       0   \n",
       "181  good podcast recommendation super bored intere...       1   \n",
       "187  nasa warns massive asteroid headed towards ear...       1   \n",
       "195  trulytrue true neuroscience major something ma...       1   \n",
       "209  thought day watching kurtzegat video youtube a...       0   \n",
       "221  disclosure james webb telescope launched next ...       1   \n",
       "237  day ago upset two computer simultaneously one ...       0   \n",
       "239  people damaged destroyed body use stem cell re...       0   \n",
       "240  watched first episode mankind dad belief end e...       0   \n",
       "241  tomorrow bday thinking shooting laser pointer ...       1   \n",
       "249  apart multitude story betty amp barney hill bo...       1   \n",
       "251  even going pretend know talking thought celest...       0   \n",
       "255  like everyone rag sl stacked week starship sta...       0   \n",
       "261  object look nearly identical saw like extremel...       1   \n",
       "268  life common intelligent life result galaxy wou...       0   \n",
       "270  goal become level beyond type civilization tur...       1   \n",
       "281  barring concrete evidence like somehow preserv...       0   \n",
       "282  lot discussion alien would aggressive peaceful...       0   \n",
       "318  thinking distance galaxy closest andromeda nev...       0   \n",
       "325  thought share since film good miss case missed...       0   \n",
       "327  anyone created digital model rendering saturn ...       0   \n",
       "337  fun entertain idea human becoming spacefaring ...       0   \n",
       "343  amp x b processing video evrco xgjkufo went po...       1   \n",
       "359  saw lot white debris zipping around telescope ...       1   \n",
       "362  space future whether near future far future ev...       1   \n",
       "374  opportunity interview greg leonard planetary s...       0   \n",
       "384  hi community created shirt design capturing mo...       0   \n",
       "386  found something sus near area wanna check clic...       1   \n",
       "392  proposal scientific view go like world stacked...       0   \n",
       "393  back deck friend couple month ago something dr...       0   \n",
       "400  contradiction bold read information cannot sha...       1   \n",
       "419  say mean one start video animation loop indest...       1   \n",
       "455  religious science enjoyer person feeling bit d...       0   \n",
       "456  hey im looking getting tattoo xenomorph wearin...       1   \n",
       "\n",
       "     y_pred_doublecheck  \n",
       "43                    0  \n",
       "57                    1  \n",
       "69                    0  \n",
       "75                    1  \n",
       "85                    1  \n",
       "88                    0  \n",
       "96                    1  \n",
       "97                    1  \n",
       "109                   0  \n",
       "142                   0  \n",
       "145                   1  \n",
       "148                   1  \n",
       "181                   0  \n",
       "187                   0  \n",
       "195                   0  \n",
       "209                   1  \n",
       "221                   0  \n",
       "237                   1  \n",
       "239                   1  \n",
       "240                   1  \n",
       "241                   0  \n",
       "249                   0  \n",
       "251                   1  \n",
       "255                   1  \n",
       "261                   0  \n",
       "268                   1  \n",
       "270                   0  \n",
       "281                   1  \n",
       "282                   1  \n",
       "318                   1  \n",
       "325                   1  \n",
       "327                   1  \n",
       "337                   1  \n",
       "343                   0  \n",
       "359                   0  \n",
       "362                   0  \n",
       "374                   1  \n",
       "384                   1  \n",
       "386                   0  \n",
       "392                   1  \n",
       "393                   1  \n",
       "400                   0  \n",
       "419                   0  \n",
       "455                   1  \n",
       "456                   0  "
      ]
     },
     "execution_count": 134,
     "metadata": {},
     "output_type": "execute_result"
    }
   ],
   "source": [
    "df_doublecheck[df_doublecheck['y_test'] != df_doublecheck['y_pred_doublecheck']]"
   ]
  },
  {
   "cell_type": "code",
   "execution_count": 135,
   "id": "d9f0cd5b",
   "metadata": {},
   "outputs": [
    {
     "data": {
      "text/plain": [
       "45"
      ]
     },
     "execution_count": 135,
     "metadata": {},
     "output_type": "execute_result"
    }
   ],
   "source": [
    "# total number of False results\n",
    "len(df_doublecheck[df_doublecheck['y_test'] != df_doublecheck['y_pred_doublecheck']])"
   ]
  },
  {
   "cell_type": "code",
   "execution_count": 136,
   "id": "1e2263c1",
   "metadata": {
    "scrolled": true
   },
   "outputs": [
    {
     "name": "stdout",
     "output_type": "stream",
     "text": [
      "paul hellyer former canadian defence minister unfortunately passed away th august interview rt cannot found even easily search gave testimony exist answer sort possible question anyone mind sadly even though posted year ago mn view really mn especially much irrelevant video gain traction day please gif video repost share upload clip onto tiktok service diligence helpfulness wanting share information p talked concept galactic federation israel ex space chief defence minister spoke december trump creation space force december note least watch video start downgradinggo viral reddit thing\n"
     ]
    },
    {
     "data": {
      "text/plain": [
       "y_test                1\n",
       "y_pred_doublecheck    0\n",
       "Name: 88, dtype: object"
      ]
     },
     "execution_count": 136,
     "metadata": {},
     "output_type": "execute_result"
    }
   ],
   "source": [
    "print(df_doublecheck.loc[88,'X_test'])\n",
    "\n",
    "df_doublecheck.loc[88][1:]\n",
    "\n",
    "# wrongly predicted class 1, False Negative"
   ]
  },
  {
   "cell_type": "markdown",
   "id": "6e6f2b56",
   "metadata": {},
   "source": [
    "Ambiguous text with little words with strong coefficients"
   ]
  },
  {
   "cell_type": "code",
   "execution_count": 137,
   "id": "1ea8b630",
   "metadata": {},
   "outputs": [
    {
     "name": "stdout",
     "output_type": "stream",
     "text": [
      "good morning afternoon night everyone recently developed strong interest space space exploration physic regarding space general therefore want learn topic order fill knowledge fifteen year old plenty data word yet understand especially considering english mother tongue also know source may best one follow could please tell start source would help much open advice hope help great day everyonehelp learn educate\n"
     ]
    },
    {
     "data": {
      "text/plain": [
       "y_test                0\n",
       "y_pred_doublecheck    0\n",
       "Name: 358, dtype: object"
      ]
     },
     "execution_count": 137,
     "metadata": {},
     "output_type": "execute_result"
    }
   ],
   "source": [
    "print(df_doublecheck.loc[358,'X_test'])\n",
    "\n",
    "df_doublecheck.loc[358][1:]\n",
    "\n",
    "# wrongly predicted class 1, False Negative"
   ]
  },
  {
   "cell_type": "markdown",
   "id": "333d223e",
   "metadata": {},
   "source": [
    "Context is factual, however, the use of the word 'moon', which has a strong correlation with class 0, space. Thus, model predicted inaccurately."
   ]
  },
  {
   "cell_type": "code",
   "execution_count": 139,
   "id": "bf061485",
   "metadata": {
    "scrolled": true
   },
   "outputs": [
    {
     "name": "stdout",
     "output_type": "stream",
     "text": [
      "hey im looking getting tattoo xenomorph wearing headphone helmet unable find idea get creative spark flowing hoping someone creation hidden awayxenomorph tattoo inspiration\n"
     ]
    },
    {
     "data": {
      "text/plain": [
       "y_test                1\n",
       "y_pred_doublecheck    0\n",
       "Name: 456, dtype: object"
      ]
     },
     "execution_count": 139,
     "metadata": {},
     "output_type": "execute_result"
    }
   ],
   "source": [
    "print(df_doublecheck.loc[456,'X_test'])\n",
    "\n",
    "df_doublecheck.loc[456][1:]\n",
    "\n",
    "# wrongly predicted class 0, False Positive"
   ]
  },
  {
   "cell_type": "markdown",
   "id": "11d23737",
   "metadata": {},
   "source": [
    "Ambiguous post. Model mishandled post as it does not contain any words with strong coefficients."
   ]
  },
  {
   "cell_type": "code",
   "execution_count": null,
   "id": "bdc13f0e",
   "metadata": {},
   "outputs": [],
   "source": [
    "# adding post_length to df_doublecheck\n",
    "\n",
    "df_doublecheck['post_length'] = df_doublecheck['X_test'].map(lambda x: len(str(x).split()))"
   ]
  },
  {
   "cell_type": "code",
   "execution_count": null,
   "id": "9533db14",
   "metadata": {},
   "outputs": [],
   "source": [
    "df_doublecheck['post_length'].describe()"
   ]
  },
  {
   "cell_type": "code",
   "execution_count": null,
   "id": "16d83b12",
   "metadata": {},
   "outputs": [],
   "source": [
    "plt.hist(x = df_doublecheck['post_length'], bins = 50)\n",
    "plt.title('Distribution of misclassified posts');"
   ]
  },
  {
   "cell_type": "markdown",
   "id": "a648b48f",
   "metadata": {},
   "source": [
    "Distribution of misclassified post length looks similar to the overall distribution of word length, length of post has little effect on misclassification."
   ]
  },
  {
   "cell_type": "markdown",
   "id": "5444e056",
   "metadata": {},
   "source": [
    "Misclassification seems to occur when the post is made up of ambiguous words ( words with coefficients close to 0 ) and 1 or 2 words with strong correlation ( words with high absolute coefficients )."
   ]
  },
  {
   "cell_type": "markdown",
   "id": "4bfcbf10",
   "metadata": {},
   "source": [
    "### 11. Conclusion"
   ]
  },
  {
   "cell_type": "markdown",
   "id": "fb2f82ac",
   "metadata": {},
   "source": [
    "#### Can we accurately classify a post to the correct subreddit?"
   ]
  },
  {
   "cell_type": "markdown",
   "id": "60ee3b47",
   "metadata": {},
   "source": [
    "Recalling our problem statement: <br><br>\n",
    "'Men In Black (MIB) is a government entity that researches & monitors the sentiment of people on aliens, whether conspiracies that are made are a little too close to things that the people should not know about. They are requesting us, the Reddit Data Science team to create a model to classify reddit posts and identify the key words that differentiates the post from \"Aliens\" to \"Space\". This would facilitate MIB's intelligence collection efforts about sentiments from ordinary citizens. This information can also be useful for other associations to promote its marketing effort on social media, events and podcasts, that in turn can feed information to the mainstream.<br><br>\n",
    "All the models trained were able to classify the posts accurately, with a F1 score between 89% to 91% and an AUC of 96% to 97%, but we chose Tfidf vectorizer and Logistic Regression model as it is easier to interpret. The model makes its predictions by using the coefficients of each word in the post and calculates the odds of it belonging to alien subreddit or it not belonging to alien subreddit.<br><br>\n",
    "The top words with the highest 'weights' for alien subreddit are:\n",
    "- alien\n",
    "- ufo\n",
    "- specie(s)\n",
    "- human\n",
    "- extraterrestrial\n",
    " <br><br>\n",
    " \n",
    "The more the above listed words appear in a post, the higher the chance if it belonging to alien subreddit. We can also infer from these words that the topics on r/aliens are on aliens, ufos and extraterrestrials.<br><br>\n",
    "\n",
    "The top words with the highest 'weights' for space subreddit are:\n",
    "- space\n",
    "- telescope\n",
    "- launch\n",
    "- moon\n",
    "- jwst\n",
    " <br><br>\n",
    " \n",
    "The more the above listed words appear in a post, the higher the chance if it belonging to alien subreddit. We can infer from these words that the topics on r/space are about space, James Webb Space Telescope and perhaps the launching of rockets to the moon.<br><br>"
   ]
  },
  {
   "cell_type": "markdown",
   "id": "5fc2751b",
   "metadata": {},
   "source": [
    "With this model, MIB will be able to classify reddit posts and identiy the top words.\n",
    "<br><br>\n",
    "The subsidiaries of MIB, secondary stakeholders, can then use the top words and do SEO on them, to increase the visibality of their projects. "
   ]
  },
  {
   "cell_type": "markdown",
   "id": "b93316aa",
   "metadata": {},
   "source": [
    "#### Limitations of our approach"
   ]
  },
  {
   "cell_type": "markdown",
   "id": "41c47358",
   "metadata": {},
   "source": [
    "- We used the textual content of the post to train our model, as it is only able to process text, and left out videos, images and links to other websites.\n",
    "- The data scrapped from reddit is from 1 Jan 2022. It is not an indicator of future or past. The results generated from the model only work for the period of 1 Jan 2022.\n",
    "- There are posts that are more ambiguous in nature, which our model has a hard time predicting. Misclassification seems to occur when the post is made up of ambiguous words ( words with coefficients close to 0 ) and 1 or 2 words with strong correlation ( words with high absolute coefficients )."
   ]
  },
  {
   "cell_type": "markdown",
   "id": "41aceb51",
   "metadata": {},
   "source": [
    "#### Future Considerations"
   ]
  },
  {
   "cell_type": "markdown",
   "id": "dba6f4ac",
   "metadata": {},
   "source": [
    "- Sentiment analysis could be done on the reults of the model, allowing MIB to have a general idea and plan for their policies.\n",
    "- Process information from text in image and transcript of videos could be added to the data to train a better model, as most of the data lost was through images and videos."
   ]
  }
 ],
 "metadata": {
  "kernelspec": {
   "display_name": "Python 3 (ipykernel)",
   "language": "python",
   "name": "python3"
  },
  "language_info": {
   "codemirror_mode": {
    "name": "ipython",
    "version": 3
   },
   "file_extension": ".py",
   "mimetype": "text/x-python",
   "name": "python",
   "nbconvert_exporter": "python",
   "pygments_lexer": "ipython3",
   "version": "3.9.10"
  }
 },
 "nbformat": 4,
 "nbformat_minor": 5
}
